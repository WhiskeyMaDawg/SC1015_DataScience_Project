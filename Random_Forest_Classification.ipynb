{
  "nbformat": 4,
  "nbformat_minor": 0,
  "metadata": {
    "colab": {
      "name": "Random_Forest_Classification.ipynb",
      "provenance": [],
      "collapsed_sections": [
        "DNczd9ZqBgY1",
        "MeW_Nm-aKG2k",
        "tCjmdASKIO7P"
      ],
      "include_colab_link": true
    },
    "kernelspec": {
      "name": "python3",
      "display_name": "Python 3"
    },
    "language_info": {
      "name": "python"
    }
  },
  "cells": [
    {
      "cell_type": "markdown",
      "metadata": {
        "id": "view-in-github",
        "colab_type": "text"
      },
      "source": [
        "<a href=\"https://colab.research.google.com/github/WhiskeyMaDawg/SC1015_DataScience_Project/blob/main/Random_Forest_Classification.ipynb\" target=\"_parent\"><img src=\"https://colab.research.google.com/assets/colab-badge.svg\" alt=\"Open In Colab\"/></a>"
      ]
    },
    {
      "cell_type": "markdown",
      "source": [
        "**(Note: Data Cleaning and EDA were included for reference. Random Forest ML was done after those sections)**\n"
      ],
      "metadata": {
        "id": "JctIsXS6MYb9"
      }
    },
    {
      "cell_type": "code",
      "execution_count": null,
      "metadata": {
        "id": "p9KLql-tpfkV"
      },
      "outputs": [],
      "source": [
        "# Basic Libraries\n",
        "import numpy as np\n",
        "import pandas as pd\n",
        "import seaborn as sb\n",
        "import matplotlib.pyplot as plt # we only need pyplot\n",
        "from google.colab import files\n",
        "import io\n",
        "sb.set() # set the default Seaborn style for graphics"
      ]
    },
    {
      "cell_type": "code",
      "source": [
        "from google.colab import drive \n",
        "drive.mount('/content/gdrive')\n",
        "songdf = pd.read_csv('gdrive/My Drive/SpotifyFinalAPI.csv')\n",
        "songdf.head()"
      ],
      "metadata": {
        "colab": {
          "base_uri": "https://localhost:8080/",
          "height": 320
        },
        "id": "TfP0ufApppyH",
        "outputId": "276c18a5-509d-4114-bfbc-3714f02f6e31"
      },
      "execution_count": null,
      "outputs": [
        {
          "output_type": "stream",
          "name": "stdout",
          "text": [
            "Mounted at /content/gdrive\n"
          ]
        },
        {
          "output_type": "execute_result",
          "data": {
            "text/plain": [
              "                 track_id                track_name_x  popularity  \\\n",
              "0  7qiZfU4dY1lWllzX7mPBI3                Shape of You          89   \n",
              "1  0VjIjW4GlUZAMYd2vXMi3b             Blinding Lights          95   \n",
              "2  1rgnBhdG2JDFTbYkYRZAku                Dance Monkey          68   \n",
              "3  0e7ipj03S05BNilyu5bRzt  rockstar (feat. 21 Savage)          88   \n",
              "4  7qEHsqek33rTcFNT9PFqLf           Someone You Loved          90   \n",
              "\n",
              "                              track_uri    artist_name  artist_popularity  \\\n",
              "0  spotify:track:7qiZfU4dY1lWllzX7mPBI3     Ed Sheeran                 96   \n",
              "1  spotify:track:0VjIjW4GlUZAMYd2vXMi3b     The Weeknd                 97   \n",
              "2  spotify:track:1rgnBhdG2JDFTbYkYRZAku    Tones And I                 78   \n",
              "3  spotify:track:0e7ipj03S05BNilyu5bRzt    Post Malone                 91   \n",
              "4  spotify:track:7qEHsqek33rTcFNT9PFqLf  Lewis Capaldi                 82   \n",
              "\n",
              "                                       artist_genres  \\\n",
              "0                                  ['pop', 'uk pop']   \n",
              "1  ['canadian contemporary r&b', 'canadian pop', ...   \n",
              "2                          ['australian pop', 'pop']   \n",
              "3                  ['dfw rap', 'melodic rap', 'rap']   \n",
              "4                                  ['pop', 'uk pop']   \n",
              "\n",
              "                                     album                track_name_y  \\\n",
              "0                               ÷ (Deluxe)                Shape of You   \n",
              "1                              After Hours             Blinding Lights   \n",
              "2                             Dance Monkey                Dance Monkey   \n",
              "3                     beerbongs & bentleys  rockstar (feat. 21 Savage)   \n",
              "4  Divinely Uninspired To A Hellish Extent           Someone You Loved   \n",
              "\n",
              "   danceability  energy    tempo  loudness  valence  speechiness  \\\n",
              "0         0.825   0.652   95.977    -3.183    0.931       0.0802   \n",
              "1         0.514   0.730  171.005    -5.934    0.334       0.0598   \n",
              "2         0.826   0.593   98.083    -6.401    0.541       0.0976   \n",
              "3         0.585   0.520  159.801    -6.136    0.129       0.0712   \n",
              "4         0.501   0.405  109.891    -5.679    0.446       0.0319   \n",
              "\n",
              "   instrumentalness  liveness  acousticness  \n",
              "0          0.000000    0.0931       0.58100  \n",
              "1          0.000095    0.0897       0.00146  \n",
              "2          0.000161    0.1700       0.68800  \n",
              "3          0.000070    0.1310       0.12400  \n",
              "4          0.000000    0.1050       0.75100  "
            ],
            "text/html": [
              "\n",
              "  <div id=\"df-995ff7bc-30a5-4797-9506-942b81c0044d\">\n",
              "    <div class=\"colab-df-container\">\n",
              "      <div>\n",
              "<style scoped>\n",
              "    .dataframe tbody tr th:only-of-type {\n",
              "        vertical-align: middle;\n",
              "    }\n",
              "\n",
              "    .dataframe tbody tr th {\n",
              "        vertical-align: top;\n",
              "    }\n",
              "\n",
              "    .dataframe thead th {\n",
              "        text-align: right;\n",
              "    }\n",
              "</style>\n",
              "<table border=\"1\" class=\"dataframe\">\n",
              "  <thead>\n",
              "    <tr style=\"text-align: right;\">\n",
              "      <th></th>\n",
              "      <th>track_id</th>\n",
              "      <th>track_name_x</th>\n",
              "      <th>popularity</th>\n",
              "      <th>track_uri</th>\n",
              "      <th>artist_name</th>\n",
              "      <th>artist_popularity</th>\n",
              "      <th>artist_genres</th>\n",
              "      <th>album</th>\n",
              "      <th>track_name_y</th>\n",
              "      <th>danceability</th>\n",
              "      <th>energy</th>\n",
              "      <th>tempo</th>\n",
              "      <th>loudness</th>\n",
              "      <th>valence</th>\n",
              "      <th>speechiness</th>\n",
              "      <th>instrumentalness</th>\n",
              "      <th>liveness</th>\n",
              "      <th>acousticness</th>\n",
              "    </tr>\n",
              "  </thead>\n",
              "  <tbody>\n",
              "    <tr>\n",
              "      <th>0</th>\n",
              "      <td>7qiZfU4dY1lWllzX7mPBI3</td>\n",
              "      <td>Shape of You</td>\n",
              "      <td>89</td>\n",
              "      <td>spotify:track:7qiZfU4dY1lWllzX7mPBI3</td>\n",
              "      <td>Ed Sheeran</td>\n",
              "      <td>96</td>\n",
              "      <td>['pop', 'uk pop']</td>\n",
              "      <td>÷ (Deluxe)</td>\n",
              "      <td>Shape of You</td>\n",
              "      <td>0.825</td>\n",
              "      <td>0.652</td>\n",
              "      <td>95.977</td>\n",
              "      <td>-3.183</td>\n",
              "      <td>0.931</td>\n",
              "      <td>0.0802</td>\n",
              "      <td>0.000000</td>\n",
              "      <td>0.0931</td>\n",
              "      <td>0.58100</td>\n",
              "    </tr>\n",
              "    <tr>\n",
              "      <th>1</th>\n",
              "      <td>0VjIjW4GlUZAMYd2vXMi3b</td>\n",
              "      <td>Blinding Lights</td>\n",
              "      <td>95</td>\n",
              "      <td>spotify:track:0VjIjW4GlUZAMYd2vXMi3b</td>\n",
              "      <td>The Weeknd</td>\n",
              "      <td>97</td>\n",
              "      <td>['canadian contemporary r&amp;b', 'canadian pop', ...</td>\n",
              "      <td>After Hours</td>\n",
              "      <td>Blinding Lights</td>\n",
              "      <td>0.514</td>\n",
              "      <td>0.730</td>\n",
              "      <td>171.005</td>\n",
              "      <td>-5.934</td>\n",
              "      <td>0.334</td>\n",
              "      <td>0.0598</td>\n",
              "      <td>0.000095</td>\n",
              "      <td>0.0897</td>\n",
              "      <td>0.00146</td>\n",
              "    </tr>\n",
              "    <tr>\n",
              "      <th>2</th>\n",
              "      <td>1rgnBhdG2JDFTbYkYRZAku</td>\n",
              "      <td>Dance Monkey</td>\n",
              "      <td>68</td>\n",
              "      <td>spotify:track:1rgnBhdG2JDFTbYkYRZAku</td>\n",
              "      <td>Tones And I</td>\n",
              "      <td>78</td>\n",
              "      <td>['australian pop', 'pop']</td>\n",
              "      <td>Dance Monkey</td>\n",
              "      <td>Dance Monkey</td>\n",
              "      <td>0.826</td>\n",
              "      <td>0.593</td>\n",
              "      <td>98.083</td>\n",
              "      <td>-6.401</td>\n",
              "      <td>0.541</td>\n",
              "      <td>0.0976</td>\n",
              "      <td>0.000161</td>\n",
              "      <td>0.1700</td>\n",
              "      <td>0.68800</td>\n",
              "    </tr>\n",
              "    <tr>\n",
              "      <th>3</th>\n",
              "      <td>0e7ipj03S05BNilyu5bRzt</td>\n",
              "      <td>rockstar (feat. 21 Savage)</td>\n",
              "      <td>88</td>\n",
              "      <td>spotify:track:0e7ipj03S05BNilyu5bRzt</td>\n",
              "      <td>Post Malone</td>\n",
              "      <td>91</td>\n",
              "      <td>['dfw rap', 'melodic rap', 'rap']</td>\n",
              "      <td>beerbongs &amp; bentleys</td>\n",
              "      <td>rockstar (feat. 21 Savage)</td>\n",
              "      <td>0.585</td>\n",
              "      <td>0.520</td>\n",
              "      <td>159.801</td>\n",
              "      <td>-6.136</td>\n",
              "      <td>0.129</td>\n",
              "      <td>0.0712</td>\n",
              "      <td>0.000070</td>\n",
              "      <td>0.1310</td>\n",
              "      <td>0.12400</td>\n",
              "    </tr>\n",
              "    <tr>\n",
              "      <th>4</th>\n",
              "      <td>7qEHsqek33rTcFNT9PFqLf</td>\n",
              "      <td>Someone You Loved</td>\n",
              "      <td>90</td>\n",
              "      <td>spotify:track:7qEHsqek33rTcFNT9PFqLf</td>\n",
              "      <td>Lewis Capaldi</td>\n",
              "      <td>82</td>\n",
              "      <td>['pop', 'uk pop']</td>\n",
              "      <td>Divinely Uninspired To A Hellish Extent</td>\n",
              "      <td>Someone You Loved</td>\n",
              "      <td>0.501</td>\n",
              "      <td>0.405</td>\n",
              "      <td>109.891</td>\n",
              "      <td>-5.679</td>\n",
              "      <td>0.446</td>\n",
              "      <td>0.0319</td>\n",
              "      <td>0.000000</td>\n",
              "      <td>0.1050</td>\n",
              "      <td>0.75100</td>\n",
              "    </tr>\n",
              "  </tbody>\n",
              "</table>\n",
              "</div>\n",
              "      <button class=\"colab-df-convert\" onclick=\"convertToInteractive('df-995ff7bc-30a5-4797-9506-942b81c0044d')\"\n",
              "              title=\"Convert this dataframe to an interactive table.\"\n",
              "              style=\"display:none;\">\n",
              "        \n",
              "  <svg xmlns=\"http://www.w3.org/2000/svg\" height=\"24px\"viewBox=\"0 0 24 24\"\n",
              "       width=\"24px\">\n",
              "    <path d=\"M0 0h24v24H0V0z\" fill=\"none\"/>\n",
              "    <path d=\"M18.56 5.44l.94 2.06.94-2.06 2.06-.94-2.06-.94-.94-2.06-.94 2.06-2.06.94zm-11 1L8.5 8.5l.94-2.06 2.06-.94-2.06-.94L8.5 2.5l-.94 2.06-2.06.94zm10 10l.94 2.06.94-2.06 2.06-.94-2.06-.94-.94-2.06-.94 2.06-2.06.94z\"/><path d=\"M17.41 7.96l-1.37-1.37c-.4-.4-.92-.59-1.43-.59-.52 0-1.04.2-1.43.59L10.3 9.45l-7.72 7.72c-.78.78-.78 2.05 0 2.83L4 21.41c.39.39.9.59 1.41.59.51 0 1.02-.2 1.41-.59l7.78-7.78 2.81-2.81c.8-.78.8-2.07 0-2.86zM5.41 20L4 18.59l7.72-7.72 1.47 1.35L5.41 20z\"/>\n",
              "  </svg>\n",
              "      </button>\n",
              "      \n",
              "  <style>\n",
              "    .colab-df-container {\n",
              "      display:flex;\n",
              "      flex-wrap:wrap;\n",
              "      gap: 12px;\n",
              "    }\n",
              "\n",
              "    .colab-df-convert {\n",
              "      background-color: #E8F0FE;\n",
              "      border: none;\n",
              "      border-radius: 50%;\n",
              "      cursor: pointer;\n",
              "      display: none;\n",
              "      fill: #1967D2;\n",
              "      height: 32px;\n",
              "      padding: 0 0 0 0;\n",
              "      width: 32px;\n",
              "    }\n",
              "\n",
              "    .colab-df-convert:hover {\n",
              "      background-color: #E2EBFA;\n",
              "      box-shadow: 0px 1px 2px rgba(60, 64, 67, 0.3), 0px 1px 3px 1px rgba(60, 64, 67, 0.15);\n",
              "      fill: #174EA6;\n",
              "    }\n",
              "\n",
              "    [theme=dark] .colab-df-convert {\n",
              "      background-color: #3B4455;\n",
              "      fill: #D2E3FC;\n",
              "    }\n",
              "\n",
              "    [theme=dark] .colab-df-convert:hover {\n",
              "      background-color: #434B5C;\n",
              "      box-shadow: 0px 1px 3px 1px rgba(0, 0, 0, 0.15);\n",
              "      filter: drop-shadow(0px 1px 2px rgba(0, 0, 0, 0.3));\n",
              "      fill: #FFFFFF;\n",
              "    }\n",
              "  </style>\n",
              "\n",
              "      <script>\n",
              "        const buttonEl =\n",
              "          document.querySelector('#df-995ff7bc-30a5-4797-9506-942b81c0044d button.colab-df-convert');\n",
              "        buttonEl.style.display =\n",
              "          google.colab.kernel.accessAllowed ? 'block' : 'none';\n",
              "\n",
              "        async function convertToInteractive(key) {\n",
              "          const element = document.querySelector('#df-995ff7bc-30a5-4797-9506-942b81c0044d');\n",
              "          const dataTable =\n",
              "            await google.colab.kernel.invokeFunction('convertToInteractive',\n",
              "                                                     [key], {});\n",
              "          if (!dataTable) return;\n",
              "\n",
              "          const docLinkHtml = 'Like what you see? Visit the ' +\n",
              "            '<a target=\"_blank\" href=https://colab.research.google.com/notebooks/data_table.ipynb>data table notebook</a>'\n",
              "            + ' to learn more about interactive tables.';\n",
              "          element.innerHTML = '';\n",
              "          dataTable['output_type'] = 'display_data';\n",
              "          await google.colab.output.renderOutput(dataTable, element);\n",
              "          const docLink = document.createElement('div');\n",
              "          docLink.innerHTML = docLinkHtml;\n",
              "          element.appendChild(docLink);\n",
              "        }\n",
              "      </script>\n",
              "    </div>\n",
              "  </div>\n",
              "  "
            ]
          },
          "metadata": {},
          "execution_count": 2
        }
      ]
    },
    {
      "cell_type": "markdown",
      "source": [
        "# **Data Prepartion and Cleaning**\n"
      ],
      "metadata": {
        "id": "DNczd9ZqBgY1"
      }
    },
    {
      "cell_type": "code",
      "source": [
        "# checking the size of the dataframe\n",
        "print(\"Data dimensions : \", songdf.shape)\n",
        "print(songdf.dtypes)"
      ],
      "metadata": {
        "id": "xzVDIhy3qZmV",
        "colab": {
          "base_uri": "https://localhost:8080/"
        },
        "outputId": "ad5f13df-71a7-4b52-ecb0-a0679be35995"
      },
      "execution_count": null,
      "outputs": [
        {
          "output_type": "stream",
          "name": "stdout",
          "text": [
            "Data dimensions :  (791, 18)\n",
            "track_id              object\n",
            "track_name_x          object\n",
            "popularity             int64\n",
            "track_uri             object\n",
            "artist_name           object\n",
            "artist_popularity      int64\n",
            "artist_genres         object\n",
            "album                 object\n",
            "track_name_y          object\n",
            "danceability         float64\n",
            "energy               float64\n",
            "tempo                float64\n",
            "loudness             float64\n",
            "valence              float64\n",
            "speechiness          float64\n",
            "instrumentalness     float64\n",
            "liveness             float64\n",
            "acousticness         float64\n",
            "dtype: object\n"
          ]
        }
      ]
    },
    {
      "cell_type": "markdown",
      "source": [
        "###**Renaming the column names**"
      ],
      "metadata": {
        "id": "1wxmfbvWBuKZ"
      }
    },
    {
      "cell_type": "code",
      "source": [
        "# Renaming the column names\n",
        "songdf = songdf.rename(columns={\"track_name_x\":\"title\", \"track_artist\": \"artist\", \"track_popularity\":\"popularity\", \"duration_ms\":\"duration_min\", \"artist_popularity\":\"artist popularity\"})\n",
        "songdf.head()"
      ],
      "metadata": {
        "id": "rHaDgDVjqiGT",
        "colab": {
          "base_uri": "https://localhost:8080/",
          "height": 320
        },
        "outputId": "8bbe486e-ca5f-46b0-b15e-9c8aba203f29"
      },
      "execution_count": null,
      "outputs": [
        {
          "output_type": "execute_result",
          "data": {
            "text/plain": [
              "                 track_id                       title  popularity  \\\n",
              "0  7qiZfU4dY1lWllzX7mPBI3                Shape of You          89   \n",
              "1  0VjIjW4GlUZAMYd2vXMi3b             Blinding Lights          95   \n",
              "2  1rgnBhdG2JDFTbYkYRZAku                Dance Monkey          68   \n",
              "3  0e7ipj03S05BNilyu5bRzt  rockstar (feat. 21 Savage)          88   \n",
              "4  7qEHsqek33rTcFNT9PFqLf           Someone You Loved          90   \n",
              "\n",
              "                              track_uri    artist_name  artist popularity  \\\n",
              "0  spotify:track:7qiZfU4dY1lWllzX7mPBI3     Ed Sheeran                 96   \n",
              "1  spotify:track:0VjIjW4GlUZAMYd2vXMi3b     The Weeknd                 97   \n",
              "2  spotify:track:1rgnBhdG2JDFTbYkYRZAku    Tones And I                 78   \n",
              "3  spotify:track:0e7ipj03S05BNilyu5bRzt    Post Malone                 91   \n",
              "4  spotify:track:7qEHsqek33rTcFNT9PFqLf  Lewis Capaldi                 82   \n",
              "\n",
              "                                       artist_genres  \\\n",
              "0                                  ['pop', 'uk pop']   \n",
              "1  ['canadian contemporary r&b', 'canadian pop', ...   \n",
              "2                          ['australian pop', 'pop']   \n",
              "3                  ['dfw rap', 'melodic rap', 'rap']   \n",
              "4                                  ['pop', 'uk pop']   \n",
              "\n",
              "                                     album                track_name_y  \\\n",
              "0                               ÷ (Deluxe)                Shape of You   \n",
              "1                              After Hours             Blinding Lights   \n",
              "2                             Dance Monkey                Dance Monkey   \n",
              "3                     beerbongs & bentleys  rockstar (feat. 21 Savage)   \n",
              "4  Divinely Uninspired To A Hellish Extent           Someone You Loved   \n",
              "\n",
              "   danceability  energy    tempo  loudness  valence  speechiness  \\\n",
              "0         0.825   0.652   95.977    -3.183    0.931       0.0802   \n",
              "1         0.514   0.730  171.005    -5.934    0.334       0.0598   \n",
              "2         0.826   0.593   98.083    -6.401    0.541       0.0976   \n",
              "3         0.585   0.520  159.801    -6.136    0.129       0.0712   \n",
              "4         0.501   0.405  109.891    -5.679    0.446       0.0319   \n",
              "\n",
              "   instrumentalness  liveness  acousticness  \n",
              "0          0.000000    0.0931       0.58100  \n",
              "1          0.000095    0.0897       0.00146  \n",
              "2          0.000161    0.1700       0.68800  \n",
              "3          0.000070    0.1310       0.12400  \n",
              "4          0.000000    0.1050       0.75100  "
            ],
            "text/html": [
              "\n",
              "  <div id=\"df-fecb29d4-86b5-4d78-adf0-b338bc84094a\">\n",
              "    <div class=\"colab-df-container\">\n",
              "      <div>\n",
              "<style scoped>\n",
              "    .dataframe tbody tr th:only-of-type {\n",
              "        vertical-align: middle;\n",
              "    }\n",
              "\n",
              "    .dataframe tbody tr th {\n",
              "        vertical-align: top;\n",
              "    }\n",
              "\n",
              "    .dataframe thead th {\n",
              "        text-align: right;\n",
              "    }\n",
              "</style>\n",
              "<table border=\"1\" class=\"dataframe\">\n",
              "  <thead>\n",
              "    <tr style=\"text-align: right;\">\n",
              "      <th></th>\n",
              "      <th>track_id</th>\n",
              "      <th>title</th>\n",
              "      <th>popularity</th>\n",
              "      <th>track_uri</th>\n",
              "      <th>artist_name</th>\n",
              "      <th>artist popularity</th>\n",
              "      <th>artist_genres</th>\n",
              "      <th>album</th>\n",
              "      <th>track_name_y</th>\n",
              "      <th>danceability</th>\n",
              "      <th>energy</th>\n",
              "      <th>tempo</th>\n",
              "      <th>loudness</th>\n",
              "      <th>valence</th>\n",
              "      <th>speechiness</th>\n",
              "      <th>instrumentalness</th>\n",
              "      <th>liveness</th>\n",
              "      <th>acousticness</th>\n",
              "    </tr>\n",
              "  </thead>\n",
              "  <tbody>\n",
              "    <tr>\n",
              "      <th>0</th>\n",
              "      <td>7qiZfU4dY1lWllzX7mPBI3</td>\n",
              "      <td>Shape of You</td>\n",
              "      <td>89</td>\n",
              "      <td>spotify:track:7qiZfU4dY1lWllzX7mPBI3</td>\n",
              "      <td>Ed Sheeran</td>\n",
              "      <td>96</td>\n",
              "      <td>['pop', 'uk pop']</td>\n",
              "      <td>÷ (Deluxe)</td>\n",
              "      <td>Shape of You</td>\n",
              "      <td>0.825</td>\n",
              "      <td>0.652</td>\n",
              "      <td>95.977</td>\n",
              "      <td>-3.183</td>\n",
              "      <td>0.931</td>\n",
              "      <td>0.0802</td>\n",
              "      <td>0.000000</td>\n",
              "      <td>0.0931</td>\n",
              "      <td>0.58100</td>\n",
              "    </tr>\n",
              "    <tr>\n",
              "      <th>1</th>\n",
              "      <td>0VjIjW4GlUZAMYd2vXMi3b</td>\n",
              "      <td>Blinding Lights</td>\n",
              "      <td>95</td>\n",
              "      <td>spotify:track:0VjIjW4GlUZAMYd2vXMi3b</td>\n",
              "      <td>The Weeknd</td>\n",
              "      <td>97</td>\n",
              "      <td>['canadian contemporary r&amp;b', 'canadian pop', ...</td>\n",
              "      <td>After Hours</td>\n",
              "      <td>Blinding Lights</td>\n",
              "      <td>0.514</td>\n",
              "      <td>0.730</td>\n",
              "      <td>171.005</td>\n",
              "      <td>-5.934</td>\n",
              "      <td>0.334</td>\n",
              "      <td>0.0598</td>\n",
              "      <td>0.000095</td>\n",
              "      <td>0.0897</td>\n",
              "      <td>0.00146</td>\n",
              "    </tr>\n",
              "    <tr>\n",
              "      <th>2</th>\n",
              "      <td>1rgnBhdG2JDFTbYkYRZAku</td>\n",
              "      <td>Dance Monkey</td>\n",
              "      <td>68</td>\n",
              "      <td>spotify:track:1rgnBhdG2JDFTbYkYRZAku</td>\n",
              "      <td>Tones And I</td>\n",
              "      <td>78</td>\n",
              "      <td>['australian pop', 'pop']</td>\n",
              "      <td>Dance Monkey</td>\n",
              "      <td>Dance Monkey</td>\n",
              "      <td>0.826</td>\n",
              "      <td>0.593</td>\n",
              "      <td>98.083</td>\n",
              "      <td>-6.401</td>\n",
              "      <td>0.541</td>\n",
              "      <td>0.0976</td>\n",
              "      <td>0.000161</td>\n",
              "      <td>0.1700</td>\n",
              "      <td>0.68800</td>\n",
              "    </tr>\n",
              "    <tr>\n",
              "      <th>3</th>\n",
              "      <td>0e7ipj03S05BNilyu5bRzt</td>\n",
              "      <td>rockstar (feat. 21 Savage)</td>\n",
              "      <td>88</td>\n",
              "      <td>spotify:track:0e7ipj03S05BNilyu5bRzt</td>\n",
              "      <td>Post Malone</td>\n",
              "      <td>91</td>\n",
              "      <td>['dfw rap', 'melodic rap', 'rap']</td>\n",
              "      <td>beerbongs &amp; bentleys</td>\n",
              "      <td>rockstar (feat. 21 Savage)</td>\n",
              "      <td>0.585</td>\n",
              "      <td>0.520</td>\n",
              "      <td>159.801</td>\n",
              "      <td>-6.136</td>\n",
              "      <td>0.129</td>\n",
              "      <td>0.0712</td>\n",
              "      <td>0.000070</td>\n",
              "      <td>0.1310</td>\n",
              "      <td>0.12400</td>\n",
              "    </tr>\n",
              "    <tr>\n",
              "      <th>4</th>\n",
              "      <td>7qEHsqek33rTcFNT9PFqLf</td>\n",
              "      <td>Someone You Loved</td>\n",
              "      <td>90</td>\n",
              "      <td>spotify:track:7qEHsqek33rTcFNT9PFqLf</td>\n",
              "      <td>Lewis Capaldi</td>\n",
              "      <td>82</td>\n",
              "      <td>['pop', 'uk pop']</td>\n",
              "      <td>Divinely Uninspired To A Hellish Extent</td>\n",
              "      <td>Someone You Loved</td>\n",
              "      <td>0.501</td>\n",
              "      <td>0.405</td>\n",
              "      <td>109.891</td>\n",
              "      <td>-5.679</td>\n",
              "      <td>0.446</td>\n",
              "      <td>0.0319</td>\n",
              "      <td>0.000000</td>\n",
              "      <td>0.1050</td>\n",
              "      <td>0.75100</td>\n",
              "    </tr>\n",
              "  </tbody>\n",
              "</table>\n",
              "</div>\n",
              "      <button class=\"colab-df-convert\" onclick=\"convertToInteractive('df-fecb29d4-86b5-4d78-adf0-b338bc84094a')\"\n",
              "              title=\"Convert this dataframe to an interactive table.\"\n",
              "              style=\"display:none;\">\n",
              "        \n",
              "  <svg xmlns=\"http://www.w3.org/2000/svg\" height=\"24px\"viewBox=\"0 0 24 24\"\n",
              "       width=\"24px\">\n",
              "    <path d=\"M0 0h24v24H0V0z\" fill=\"none\"/>\n",
              "    <path d=\"M18.56 5.44l.94 2.06.94-2.06 2.06-.94-2.06-.94-.94-2.06-.94 2.06-2.06.94zm-11 1L8.5 8.5l.94-2.06 2.06-.94-2.06-.94L8.5 2.5l-.94 2.06-2.06.94zm10 10l.94 2.06.94-2.06 2.06-.94-2.06-.94-.94-2.06-.94 2.06-2.06.94z\"/><path d=\"M17.41 7.96l-1.37-1.37c-.4-.4-.92-.59-1.43-.59-.52 0-1.04.2-1.43.59L10.3 9.45l-7.72 7.72c-.78.78-.78 2.05 0 2.83L4 21.41c.39.39.9.59 1.41.59.51 0 1.02-.2 1.41-.59l7.78-7.78 2.81-2.81c.8-.78.8-2.07 0-2.86zM5.41 20L4 18.59l7.72-7.72 1.47 1.35L5.41 20z\"/>\n",
              "  </svg>\n",
              "      </button>\n",
              "      \n",
              "  <style>\n",
              "    .colab-df-container {\n",
              "      display:flex;\n",
              "      flex-wrap:wrap;\n",
              "      gap: 12px;\n",
              "    }\n",
              "\n",
              "    .colab-df-convert {\n",
              "      background-color: #E8F0FE;\n",
              "      border: none;\n",
              "      border-radius: 50%;\n",
              "      cursor: pointer;\n",
              "      display: none;\n",
              "      fill: #1967D2;\n",
              "      height: 32px;\n",
              "      padding: 0 0 0 0;\n",
              "      width: 32px;\n",
              "    }\n",
              "\n",
              "    .colab-df-convert:hover {\n",
              "      background-color: #E2EBFA;\n",
              "      box-shadow: 0px 1px 2px rgba(60, 64, 67, 0.3), 0px 1px 3px 1px rgba(60, 64, 67, 0.15);\n",
              "      fill: #174EA6;\n",
              "    }\n",
              "\n",
              "    [theme=dark] .colab-df-convert {\n",
              "      background-color: #3B4455;\n",
              "      fill: #D2E3FC;\n",
              "    }\n",
              "\n",
              "    [theme=dark] .colab-df-convert:hover {\n",
              "      background-color: #434B5C;\n",
              "      box-shadow: 0px 1px 3px 1px rgba(0, 0, 0, 0.15);\n",
              "      filter: drop-shadow(0px 1px 2px rgba(0, 0, 0, 0.3));\n",
              "      fill: #FFFFFF;\n",
              "    }\n",
              "  </style>\n",
              "\n",
              "      <script>\n",
              "        const buttonEl =\n",
              "          document.querySelector('#df-fecb29d4-86b5-4d78-adf0-b338bc84094a button.colab-df-convert');\n",
              "        buttonEl.style.display =\n",
              "          google.colab.kernel.accessAllowed ? 'block' : 'none';\n",
              "\n",
              "        async function convertToInteractive(key) {\n",
              "          const element = document.querySelector('#df-fecb29d4-86b5-4d78-adf0-b338bc84094a');\n",
              "          const dataTable =\n",
              "            await google.colab.kernel.invokeFunction('convertToInteractive',\n",
              "                                                     [key], {});\n",
              "          if (!dataTable) return;\n",
              "\n",
              "          const docLinkHtml = 'Like what you see? Visit the ' +\n",
              "            '<a target=\"_blank\" href=https://colab.research.google.com/notebooks/data_table.ipynb>data table notebook</a>'\n",
              "            + ' to learn more about interactive tables.';\n",
              "          element.innerHTML = '';\n",
              "          dataTable['output_type'] = 'display_data';\n",
              "          await google.colab.output.renderOutput(dataTable, element);\n",
              "          const docLink = document.createElement('div');\n",
              "          docLink.innerHTML = docLinkHtml;\n",
              "          element.appendChild(docLink);\n",
              "        }\n",
              "      </script>\n",
              "    </div>\n",
              "  </div>\n",
              "  "
            ]
          },
          "metadata": {},
          "execution_count": 4
        }
      ]
    },
    {
      "cell_type": "code",
      "source": [
        "song2df = songdf\n",
        "song2df.head()"
      ],
      "metadata": {
        "id": "Ph9g5UNTqpUO",
        "colab": {
          "base_uri": "https://localhost:8080/",
          "height": 320
        },
        "outputId": "86945dea-719e-494f-cc5b-38bfc17b9ccc"
      },
      "execution_count": null,
      "outputs": [
        {
          "output_type": "execute_result",
          "data": {
            "text/plain": [
              "                 track_id                       title  popularity  \\\n",
              "0  7qiZfU4dY1lWllzX7mPBI3                Shape of You          89   \n",
              "1  0VjIjW4GlUZAMYd2vXMi3b             Blinding Lights          95   \n",
              "2  1rgnBhdG2JDFTbYkYRZAku                Dance Monkey          68   \n",
              "3  0e7ipj03S05BNilyu5bRzt  rockstar (feat. 21 Savage)          88   \n",
              "4  7qEHsqek33rTcFNT9PFqLf           Someone You Loved          90   \n",
              "\n",
              "                              track_uri    artist_name  artist popularity  \\\n",
              "0  spotify:track:7qiZfU4dY1lWllzX7mPBI3     Ed Sheeran                 96   \n",
              "1  spotify:track:0VjIjW4GlUZAMYd2vXMi3b     The Weeknd                 97   \n",
              "2  spotify:track:1rgnBhdG2JDFTbYkYRZAku    Tones And I                 78   \n",
              "3  spotify:track:0e7ipj03S05BNilyu5bRzt    Post Malone                 91   \n",
              "4  spotify:track:7qEHsqek33rTcFNT9PFqLf  Lewis Capaldi                 82   \n",
              "\n",
              "                                       artist_genres  \\\n",
              "0                                  ['pop', 'uk pop']   \n",
              "1  ['canadian contemporary r&b', 'canadian pop', ...   \n",
              "2                          ['australian pop', 'pop']   \n",
              "3                  ['dfw rap', 'melodic rap', 'rap']   \n",
              "4                                  ['pop', 'uk pop']   \n",
              "\n",
              "                                     album                track_name_y  \\\n",
              "0                               ÷ (Deluxe)                Shape of You   \n",
              "1                              After Hours             Blinding Lights   \n",
              "2                             Dance Monkey                Dance Monkey   \n",
              "3                     beerbongs & bentleys  rockstar (feat. 21 Savage)   \n",
              "4  Divinely Uninspired To A Hellish Extent           Someone You Loved   \n",
              "\n",
              "   danceability  energy    tempo  loudness  valence  speechiness  \\\n",
              "0         0.825   0.652   95.977    -3.183    0.931       0.0802   \n",
              "1         0.514   0.730  171.005    -5.934    0.334       0.0598   \n",
              "2         0.826   0.593   98.083    -6.401    0.541       0.0976   \n",
              "3         0.585   0.520  159.801    -6.136    0.129       0.0712   \n",
              "4         0.501   0.405  109.891    -5.679    0.446       0.0319   \n",
              "\n",
              "   instrumentalness  liveness  acousticness  \n",
              "0          0.000000    0.0931       0.58100  \n",
              "1          0.000095    0.0897       0.00146  \n",
              "2          0.000161    0.1700       0.68800  \n",
              "3          0.000070    0.1310       0.12400  \n",
              "4          0.000000    0.1050       0.75100  "
            ],
            "text/html": [
              "\n",
              "  <div id=\"df-5d37acb9-d531-497d-9866-d169903f0f42\">\n",
              "    <div class=\"colab-df-container\">\n",
              "      <div>\n",
              "<style scoped>\n",
              "    .dataframe tbody tr th:only-of-type {\n",
              "        vertical-align: middle;\n",
              "    }\n",
              "\n",
              "    .dataframe tbody tr th {\n",
              "        vertical-align: top;\n",
              "    }\n",
              "\n",
              "    .dataframe thead th {\n",
              "        text-align: right;\n",
              "    }\n",
              "</style>\n",
              "<table border=\"1\" class=\"dataframe\">\n",
              "  <thead>\n",
              "    <tr style=\"text-align: right;\">\n",
              "      <th></th>\n",
              "      <th>track_id</th>\n",
              "      <th>title</th>\n",
              "      <th>popularity</th>\n",
              "      <th>track_uri</th>\n",
              "      <th>artist_name</th>\n",
              "      <th>artist popularity</th>\n",
              "      <th>artist_genres</th>\n",
              "      <th>album</th>\n",
              "      <th>track_name_y</th>\n",
              "      <th>danceability</th>\n",
              "      <th>energy</th>\n",
              "      <th>tempo</th>\n",
              "      <th>loudness</th>\n",
              "      <th>valence</th>\n",
              "      <th>speechiness</th>\n",
              "      <th>instrumentalness</th>\n",
              "      <th>liveness</th>\n",
              "      <th>acousticness</th>\n",
              "    </tr>\n",
              "  </thead>\n",
              "  <tbody>\n",
              "    <tr>\n",
              "      <th>0</th>\n",
              "      <td>7qiZfU4dY1lWllzX7mPBI3</td>\n",
              "      <td>Shape of You</td>\n",
              "      <td>89</td>\n",
              "      <td>spotify:track:7qiZfU4dY1lWllzX7mPBI3</td>\n",
              "      <td>Ed Sheeran</td>\n",
              "      <td>96</td>\n",
              "      <td>['pop', 'uk pop']</td>\n",
              "      <td>÷ (Deluxe)</td>\n",
              "      <td>Shape of You</td>\n",
              "      <td>0.825</td>\n",
              "      <td>0.652</td>\n",
              "      <td>95.977</td>\n",
              "      <td>-3.183</td>\n",
              "      <td>0.931</td>\n",
              "      <td>0.0802</td>\n",
              "      <td>0.000000</td>\n",
              "      <td>0.0931</td>\n",
              "      <td>0.58100</td>\n",
              "    </tr>\n",
              "    <tr>\n",
              "      <th>1</th>\n",
              "      <td>0VjIjW4GlUZAMYd2vXMi3b</td>\n",
              "      <td>Blinding Lights</td>\n",
              "      <td>95</td>\n",
              "      <td>spotify:track:0VjIjW4GlUZAMYd2vXMi3b</td>\n",
              "      <td>The Weeknd</td>\n",
              "      <td>97</td>\n",
              "      <td>['canadian contemporary r&amp;b', 'canadian pop', ...</td>\n",
              "      <td>After Hours</td>\n",
              "      <td>Blinding Lights</td>\n",
              "      <td>0.514</td>\n",
              "      <td>0.730</td>\n",
              "      <td>171.005</td>\n",
              "      <td>-5.934</td>\n",
              "      <td>0.334</td>\n",
              "      <td>0.0598</td>\n",
              "      <td>0.000095</td>\n",
              "      <td>0.0897</td>\n",
              "      <td>0.00146</td>\n",
              "    </tr>\n",
              "    <tr>\n",
              "      <th>2</th>\n",
              "      <td>1rgnBhdG2JDFTbYkYRZAku</td>\n",
              "      <td>Dance Monkey</td>\n",
              "      <td>68</td>\n",
              "      <td>spotify:track:1rgnBhdG2JDFTbYkYRZAku</td>\n",
              "      <td>Tones And I</td>\n",
              "      <td>78</td>\n",
              "      <td>['australian pop', 'pop']</td>\n",
              "      <td>Dance Monkey</td>\n",
              "      <td>Dance Monkey</td>\n",
              "      <td>0.826</td>\n",
              "      <td>0.593</td>\n",
              "      <td>98.083</td>\n",
              "      <td>-6.401</td>\n",
              "      <td>0.541</td>\n",
              "      <td>0.0976</td>\n",
              "      <td>0.000161</td>\n",
              "      <td>0.1700</td>\n",
              "      <td>0.68800</td>\n",
              "    </tr>\n",
              "    <tr>\n",
              "      <th>3</th>\n",
              "      <td>0e7ipj03S05BNilyu5bRzt</td>\n",
              "      <td>rockstar (feat. 21 Savage)</td>\n",
              "      <td>88</td>\n",
              "      <td>spotify:track:0e7ipj03S05BNilyu5bRzt</td>\n",
              "      <td>Post Malone</td>\n",
              "      <td>91</td>\n",
              "      <td>['dfw rap', 'melodic rap', 'rap']</td>\n",
              "      <td>beerbongs &amp; bentleys</td>\n",
              "      <td>rockstar (feat. 21 Savage)</td>\n",
              "      <td>0.585</td>\n",
              "      <td>0.520</td>\n",
              "      <td>159.801</td>\n",
              "      <td>-6.136</td>\n",
              "      <td>0.129</td>\n",
              "      <td>0.0712</td>\n",
              "      <td>0.000070</td>\n",
              "      <td>0.1310</td>\n",
              "      <td>0.12400</td>\n",
              "    </tr>\n",
              "    <tr>\n",
              "      <th>4</th>\n",
              "      <td>7qEHsqek33rTcFNT9PFqLf</td>\n",
              "      <td>Someone You Loved</td>\n",
              "      <td>90</td>\n",
              "      <td>spotify:track:7qEHsqek33rTcFNT9PFqLf</td>\n",
              "      <td>Lewis Capaldi</td>\n",
              "      <td>82</td>\n",
              "      <td>['pop', 'uk pop']</td>\n",
              "      <td>Divinely Uninspired To A Hellish Extent</td>\n",
              "      <td>Someone You Loved</td>\n",
              "      <td>0.501</td>\n",
              "      <td>0.405</td>\n",
              "      <td>109.891</td>\n",
              "      <td>-5.679</td>\n",
              "      <td>0.446</td>\n",
              "      <td>0.0319</td>\n",
              "      <td>0.000000</td>\n",
              "      <td>0.1050</td>\n",
              "      <td>0.75100</td>\n",
              "    </tr>\n",
              "  </tbody>\n",
              "</table>\n",
              "</div>\n",
              "      <button class=\"colab-df-convert\" onclick=\"convertToInteractive('df-5d37acb9-d531-497d-9866-d169903f0f42')\"\n",
              "              title=\"Convert this dataframe to an interactive table.\"\n",
              "              style=\"display:none;\">\n",
              "        \n",
              "  <svg xmlns=\"http://www.w3.org/2000/svg\" height=\"24px\"viewBox=\"0 0 24 24\"\n",
              "       width=\"24px\">\n",
              "    <path d=\"M0 0h24v24H0V0z\" fill=\"none\"/>\n",
              "    <path d=\"M18.56 5.44l.94 2.06.94-2.06 2.06-.94-2.06-.94-.94-2.06-.94 2.06-2.06.94zm-11 1L8.5 8.5l.94-2.06 2.06-.94-2.06-.94L8.5 2.5l-.94 2.06-2.06.94zm10 10l.94 2.06.94-2.06 2.06-.94-2.06-.94-.94-2.06-.94 2.06-2.06.94z\"/><path d=\"M17.41 7.96l-1.37-1.37c-.4-.4-.92-.59-1.43-.59-.52 0-1.04.2-1.43.59L10.3 9.45l-7.72 7.72c-.78.78-.78 2.05 0 2.83L4 21.41c.39.39.9.59 1.41.59.51 0 1.02-.2 1.41-.59l7.78-7.78 2.81-2.81c.8-.78.8-2.07 0-2.86zM5.41 20L4 18.59l7.72-7.72 1.47 1.35L5.41 20z\"/>\n",
              "  </svg>\n",
              "      </button>\n",
              "      \n",
              "  <style>\n",
              "    .colab-df-container {\n",
              "      display:flex;\n",
              "      flex-wrap:wrap;\n",
              "      gap: 12px;\n",
              "    }\n",
              "\n",
              "    .colab-df-convert {\n",
              "      background-color: #E8F0FE;\n",
              "      border: none;\n",
              "      border-radius: 50%;\n",
              "      cursor: pointer;\n",
              "      display: none;\n",
              "      fill: #1967D2;\n",
              "      height: 32px;\n",
              "      padding: 0 0 0 0;\n",
              "      width: 32px;\n",
              "    }\n",
              "\n",
              "    .colab-df-convert:hover {\n",
              "      background-color: #E2EBFA;\n",
              "      box-shadow: 0px 1px 2px rgba(60, 64, 67, 0.3), 0px 1px 3px 1px rgba(60, 64, 67, 0.15);\n",
              "      fill: #174EA6;\n",
              "    }\n",
              "\n",
              "    [theme=dark] .colab-df-convert {\n",
              "      background-color: #3B4455;\n",
              "      fill: #D2E3FC;\n",
              "    }\n",
              "\n",
              "    [theme=dark] .colab-df-convert:hover {\n",
              "      background-color: #434B5C;\n",
              "      box-shadow: 0px 1px 3px 1px rgba(0, 0, 0, 0.15);\n",
              "      filter: drop-shadow(0px 1px 2px rgba(0, 0, 0, 0.3));\n",
              "      fill: #FFFFFF;\n",
              "    }\n",
              "  </style>\n",
              "\n",
              "      <script>\n",
              "        const buttonEl =\n",
              "          document.querySelector('#df-5d37acb9-d531-497d-9866-d169903f0f42 button.colab-df-convert');\n",
              "        buttonEl.style.display =\n",
              "          google.colab.kernel.accessAllowed ? 'block' : 'none';\n",
              "\n",
              "        async function convertToInteractive(key) {\n",
              "          const element = document.querySelector('#df-5d37acb9-d531-497d-9866-d169903f0f42');\n",
              "          const dataTable =\n",
              "            await google.colab.kernel.invokeFunction('convertToInteractive',\n",
              "                                                     [key], {});\n",
              "          if (!dataTable) return;\n",
              "\n",
              "          const docLinkHtml = 'Like what you see? Visit the ' +\n",
              "            '<a target=\"_blank\" href=https://colab.research.google.com/notebooks/data_table.ipynb>data table notebook</a>'\n",
              "            + ' to learn more about interactive tables.';\n",
              "          element.innerHTML = '';\n",
              "          dataTable['output_type'] = 'display_data';\n",
              "          await google.colab.output.renderOutput(dataTable, element);\n",
              "          const docLink = document.createElement('div');\n",
              "          docLink.innerHTML = docLinkHtml;\n",
              "          element.appendChild(docLink);\n",
              "        }\n",
              "      </script>\n",
              "    </div>\n",
              "  </div>\n",
              "  "
            ]
          },
          "metadata": {},
          "execution_count": 5
        }
      ]
    },
    {
      "cell_type": "markdown",
      "source": [
        "### **Change Categorical Variables from numeric to category**"
      ],
      "metadata": {
        "id": "qWrzFyTPCBZl"
      }
    },
    {
      "cell_type": "code",
      "source": [
        "#Check\n",
        "\"\"\"\n",
        "song2df.drop(\"speech\", axis=1, inplace=True) \n",
        "song2df.drop(\"instrumental\", axis=1, inplace=True) \n",
        "song2df.drop(\"live performance\", axis=1, inplace=True) \n",
        "\n",
        "\"\"\""
      ],
      "metadata": {
        "id": "EcWbIs2uDGi5",
        "colab": {
          "base_uri": "https://localhost:8080/",
          "height": 36
        },
        "outputId": "22e2da53-6ad6-4ab9-98e2-fa6c28b7c8ae"
      },
      "execution_count": null,
      "outputs": [
        {
          "output_type": "execute_result",
          "data": {
            "text/plain": [
              "'\\nsong2df.drop(\"speech\", axis=1, inplace=True) \\nsong2df.drop(\"instrumental\", axis=1, inplace=True) \\nsong2df.drop(\"live performance\", axis=1, inplace=True) \\n\\n'"
            ],
            "application/vnd.google.colaboratory.intrinsic+json": {
              "type": "string"
            }
          },
          "metadata": {},
          "execution_count": 6
        }
      ]
    },
    {
      "cell_type": "code",
      "source": [
        "speechiness_cat = pd.cut(song2df.speechiness,bins=[0,0.33,0.66,1.0],labels=['Words','Mix','Music'])\n",
        "song2df.insert(8,'speech', speechiness_cat) \n",
        "song2df.drop(columns=[\"speechiness\"], axis=1)\n",
        "\n",
        "bins =[-np.inf,0.5,1]\n",
        "instrumentalness_cat = pd.cut(song2df.instrumentalness,bins,labels=['Vocal', 'No Vocals'])\n",
        "song2df.insert(11,'instrumental', instrumentalness_cat)\n",
        "\n",
        "\n",
        "bins =[-np.inf,0.8,1]\n",
        "live_performance = pd.cut(song2df.liveness,bins,labels=['No', 'Yes'])\n",
        "song2df.insert(13,'live performance', live_performance)\n",
        "\n",
        "newSongDf = song2df.drop(columns=[\"speechiness\", \"instrumentalness\", \"liveness\"], axis=1)"
      ],
      "metadata": {
        "id": "gQObBXgDCWPa"
      },
      "execution_count": null,
      "outputs": []
    },
    {
      "cell_type": "markdown",
      "source": [
        "### **Reorder columns for better viewing**"
      ],
      "metadata": {
        "id": "PvcwzsN7D2kE"
      }
    },
    {
      "cell_type": "code",
      "source": [
        "#shift popularity (response) to the back for better viewing\n",
        "tp = newSongDf.pop(\"popularity\")\n",
        "newSongDf[\"popularity\"] = tp\n",
        "newSongDf.head(5)"
      ],
      "metadata": {
        "id": "nrgWFFAcCWaP",
        "colab": {
          "base_uri": "https://localhost:8080/",
          "height": 320
        },
        "outputId": "f521a234-9a24-444d-e810-d49c42378f06"
      },
      "execution_count": null,
      "outputs": [
        {
          "output_type": "execute_result",
          "data": {
            "text/plain": [
              "                 track_id                       title  \\\n",
              "0  7qiZfU4dY1lWllzX7mPBI3                Shape of You   \n",
              "1  0VjIjW4GlUZAMYd2vXMi3b             Blinding Lights   \n",
              "2  1rgnBhdG2JDFTbYkYRZAku                Dance Monkey   \n",
              "3  0e7ipj03S05BNilyu5bRzt  rockstar (feat. 21 Savage)   \n",
              "4  7qEHsqek33rTcFNT9PFqLf           Someone You Loved   \n",
              "\n",
              "                              track_uri    artist_name  artist popularity  \\\n",
              "0  spotify:track:7qiZfU4dY1lWllzX7mPBI3     Ed Sheeran                 96   \n",
              "1  spotify:track:0VjIjW4GlUZAMYd2vXMi3b     The Weeknd                 97   \n",
              "2  spotify:track:1rgnBhdG2JDFTbYkYRZAku    Tones And I                 78   \n",
              "3  spotify:track:0e7ipj03S05BNilyu5bRzt    Post Malone                 91   \n",
              "4  spotify:track:7qEHsqek33rTcFNT9PFqLf  Lewis Capaldi                 82   \n",
              "\n",
              "                                       artist_genres  \\\n",
              "0                                  ['pop', 'uk pop']   \n",
              "1  ['canadian contemporary r&b', 'canadian pop', ...   \n",
              "2                          ['australian pop', 'pop']   \n",
              "3                  ['dfw rap', 'melodic rap', 'rap']   \n",
              "4                                  ['pop', 'uk pop']   \n",
              "\n",
              "                                     album speech                track_name_y  \\\n",
              "0                               ÷ (Deluxe)  Words                Shape of You   \n",
              "1                              After Hours  Words             Blinding Lights   \n",
              "2                             Dance Monkey  Words                Dance Monkey   \n",
              "3                     beerbongs & bentleys  Words  rockstar (feat. 21 Savage)   \n",
              "4  Divinely Uninspired To A Hellish Extent  Words           Someone You Loved   \n",
              "\n",
              "   danceability instrumental  energy live performance    tempo  loudness  \\\n",
              "0         0.825        Vocal   0.652               No   95.977    -3.183   \n",
              "1         0.514        Vocal   0.730               No  171.005    -5.934   \n",
              "2         0.826        Vocal   0.593               No   98.083    -6.401   \n",
              "3         0.585        Vocal   0.520               No  159.801    -6.136   \n",
              "4         0.501        Vocal   0.405               No  109.891    -5.679   \n",
              "\n",
              "   valence  acousticness  popularity  \n",
              "0    0.931       0.58100          89  \n",
              "1    0.334       0.00146          95  \n",
              "2    0.541       0.68800          68  \n",
              "3    0.129       0.12400          88  \n",
              "4    0.446       0.75100          90  "
            ],
            "text/html": [
              "\n",
              "  <div id=\"df-03ac0426-631d-4f34-84f9-db04288d7248\">\n",
              "    <div class=\"colab-df-container\">\n",
              "      <div>\n",
              "<style scoped>\n",
              "    .dataframe tbody tr th:only-of-type {\n",
              "        vertical-align: middle;\n",
              "    }\n",
              "\n",
              "    .dataframe tbody tr th {\n",
              "        vertical-align: top;\n",
              "    }\n",
              "\n",
              "    .dataframe thead th {\n",
              "        text-align: right;\n",
              "    }\n",
              "</style>\n",
              "<table border=\"1\" class=\"dataframe\">\n",
              "  <thead>\n",
              "    <tr style=\"text-align: right;\">\n",
              "      <th></th>\n",
              "      <th>track_id</th>\n",
              "      <th>title</th>\n",
              "      <th>track_uri</th>\n",
              "      <th>artist_name</th>\n",
              "      <th>artist popularity</th>\n",
              "      <th>artist_genres</th>\n",
              "      <th>album</th>\n",
              "      <th>speech</th>\n",
              "      <th>track_name_y</th>\n",
              "      <th>danceability</th>\n",
              "      <th>instrumental</th>\n",
              "      <th>energy</th>\n",
              "      <th>live performance</th>\n",
              "      <th>tempo</th>\n",
              "      <th>loudness</th>\n",
              "      <th>valence</th>\n",
              "      <th>acousticness</th>\n",
              "      <th>popularity</th>\n",
              "    </tr>\n",
              "  </thead>\n",
              "  <tbody>\n",
              "    <tr>\n",
              "      <th>0</th>\n",
              "      <td>7qiZfU4dY1lWllzX7mPBI3</td>\n",
              "      <td>Shape of You</td>\n",
              "      <td>spotify:track:7qiZfU4dY1lWllzX7mPBI3</td>\n",
              "      <td>Ed Sheeran</td>\n",
              "      <td>96</td>\n",
              "      <td>['pop', 'uk pop']</td>\n",
              "      <td>÷ (Deluxe)</td>\n",
              "      <td>Words</td>\n",
              "      <td>Shape of You</td>\n",
              "      <td>0.825</td>\n",
              "      <td>Vocal</td>\n",
              "      <td>0.652</td>\n",
              "      <td>No</td>\n",
              "      <td>95.977</td>\n",
              "      <td>-3.183</td>\n",
              "      <td>0.931</td>\n",
              "      <td>0.58100</td>\n",
              "      <td>89</td>\n",
              "    </tr>\n",
              "    <tr>\n",
              "      <th>1</th>\n",
              "      <td>0VjIjW4GlUZAMYd2vXMi3b</td>\n",
              "      <td>Blinding Lights</td>\n",
              "      <td>spotify:track:0VjIjW4GlUZAMYd2vXMi3b</td>\n",
              "      <td>The Weeknd</td>\n",
              "      <td>97</td>\n",
              "      <td>['canadian contemporary r&amp;b', 'canadian pop', ...</td>\n",
              "      <td>After Hours</td>\n",
              "      <td>Words</td>\n",
              "      <td>Blinding Lights</td>\n",
              "      <td>0.514</td>\n",
              "      <td>Vocal</td>\n",
              "      <td>0.730</td>\n",
              "      <td>No</td>\n",
              "      <td>171.005</td>\n",
              "      <td>-5.934</td>\n",
              "      <td>0.334</td>\n",
              "      <td>0.00146</td>\n",
              "      <td>95</td>\n",
              "    </tr>\n",
              "    <tr>\n",
              "      <th>2</th>\n",
              "      <td>1rgnBhdG2JDFTbYkYRZAku</td>\n",
              "      <td>Dance Monkey</td>\n",
              "      <td>spotify:track:1rgnBhdG2JDFTbYkYRZAku</td>\n",
              "      <td>Tones And I</td>\n",
              "      <td>78</td>\n",
              "      <td>['australian pop', 'pop']</td>\n",
              "      <td>Dance Monkey</td>\n",
              "      <td>Words</td>\n",
              "      <td>Dance Monkey</td>\n",
              "      <td>0.826</td>\n",
              "      <td>Vocal</td>\n",
              "      <td>0.593</td>\n",
              "      <td>No</td>\n",
              "      <td>98.083</td>\n",
              "      <td>-6.401</td>\n",
              "      <td>0.541</td>\n",
              "      <td>0.68800</td>\n",
              "      <td>68</td>\n",
              "    </tr>\n",
              "    <tr>\n",
              "      <th>3</th>\n",
              "      <td>0e7ipj03S05BNilyu5bRzt</td>\n",
              "      <td>rockstar (feat. 21 Savage)</td>\n",
              "      <td>spotify:track:0e7ipj03S05BNilyu5bRzt</td>\n",
              "      <td>Post Malone</td>\n",
              "      <td>91</td>\n",
              "      <td>['dfw rap', 'melodic rap', 'rap']</td>\n",
              "      <td>beerbongs &amp; bentleys</td>\n",
              "      <td>Words</td>\n",
              "      <td>rockstar (feat. 21 Savage)</td>\n",
              "      <td>0.585</td>\n",
              "      <td>Vocal</td>\n",
              "      <td>0.520</td>\n",
              "      <td>No</td>\n",
              "      <td>159.801</td>\n",
              "      <td>-6.136</td>\n",
              "      <td>0.129</td>\n",
              "      <td>0.12400</td>\n",
              "      <td>88</td>\n",
              "    </tr>\n",
              "    <tr>\n",
              "      <th>4</th>\n",
              "      <td>7qEHsqek33rTcFNT9PFqLf</td>\n",
              "      <td>Someone You Loved</td>\n",
              "      <td>spotify:track:7qEHsqek33rTcFNT9PFqLf</td>\n",
              "      <td>Lewis Capaldi</td>\n",
              "      <td>82</td>\n",
              "      <td>['pop', 'uk pop']</td>\n",
              "      <td>Divinely Uninspired To A Hellish Extent</td>\n",
              "      <td>Words</td>\n",
              "      <td>Someone You Loved</td>\n",
              "      <td>0.501</td>\n",
              "      <td>Vocal</td>\n",
              "      <td>0.405</td>\n",
              "      <td>No</td>\n",
              "      <td>109.891</td>\n",
              "      <td>-5.679</td>\n",
              "      <td>0.446</td>\n",
              "      <td>0.75100</td>\n",
              "      <td>90</td>\n",
              "    </tr>\n",
              "  </tbody>\n",
              "</table>\n",
              "</div>\n",
              "      <button class=\"colab-df-convert\" onclick=\"convertToInteractive('df-03ac0426-631d-4f34-84f9-db04288d7248')\"\n",
              "              title=\"Convert this dataframe to an interactive table.\"\n",
              "              style=\"display:none;\">\n",
              "        \n",
              "  <svg xmlns=\"http://www.w3.org/2000/svg\" height=\"24px\"viewBox=\"0 0 24 24\"\n",
              "       width=\"24px\">\n",
              "    <path d=\"M0 0h24v24H0V0z\" fill=\"none\"/>\n",
              "    <path d=\"M18.56 5.44l.94 2.06.94-2.06 2.06-.94-2.06-.94-.94-2.06-.94 2.06-2.06.94zm-11 1L8.5 8.5l.94-2.06 2.06-.94-2.06-.94L8.5 2.5l-.94 2.06-2.06.94zm10 10l.94 2.06.94-2.06 2.06-.94-2.06-.94-.94-2.06-.94 2.06-2.06.94z\"/><path d=\"M17.41 7.96l-1.37-1.37c-.4-.4-.92-.59-1.43-.59-.52 0-1.04.2-1.43.59L10.3 9.45l-7.72 7.72c-.78.78-.78 2.05 0 2.83L4 21.41c.39.39.9.59 1.41.59.51 0 1.02-.2 1.41-.59l7.78-7.78 2.81-2.81c.8-.78.8-2.07 0-2.86zM5.41 20L4 18.59l7.72-7.72 1.47 1.35L5.41 20z\"/>\n",
              "  </svg>\n",
              "      </button>\n",
              "      \n",
              "  <style>\n",
              "    .colab-df-container {\n",
              "      display:flex;\n",
              "      flex-wrap:wrap;\n",
              "      gap: 12px;\n",
              "    }\n",
              "\n",
              "    .colab-df-convert {\n",
              "      background-color: #E8F0FE;\n",
              "      border: none;\n",
              "      border-radius: 50%;\n",
              "      cursor: pointer;\n",
              "      display: none;\n",
              "      fill: #1967D2;\n",
              "      height: 32px;\n",
              "      padding: 0 0 0 0;\n",
              "      width: 32px;\n",
              "    }\n",
              "\n",
              "    .colab-df-convert:hover {\n",
              "      background-color: #E2EBFA;\n",
              "      box-shadow: 0px 1px 2px rgba(60, 64, 67, 0.3), 0px 1px 3px 1px rgba(60, 64, 67, 0.15);\n",
              "      fill: #174EA6;\n",
              "    }\n",
              "\n",
              "    [theme=dark] .colab-df-convert {\n",
              "      background-color: #3B4455;\n",
              "      fill: #D2E3FC;\n",
              "    }\n",
              "\n",
              "    [theme=dark] .colab-df-convert:hover {\n",
              "      background-color: #434B5C;\n",
              "      box-shadow: 0px 1px 3px 1px rgba(0, 0, 0, 0.15);\n",
              "      filter: drop-shadow(0px 1px 2px rgba(0, 0, 0, 0.3));\n",
              "      fill: #FFFFFF;\n",
              "    }\n",
              "  </style>\n",
              "\n",
              "      <script>\n",
              "        const buttonEl =\n",
              "          document.querySelector('#df-03ac0426-631d-4f34-84f9-db04288d7248 button.colab-df-convert');\n",
              "        buttonEl.style.display =\n",
              "          google.colab.kernel.accessAllowed ? 'block' : 'none';\n",
              "\n",
              "        async function convertToInteractive(key) {\n",
              "          const element = document.querySelector('#df-03ac0426-631d-4f34-84f9-db04288d7248');\n",
              "          const dataTable =\n",
              "            await google.colab.kernel.invokeFunction('convertToInteractive',\n",
              "                                                     [key], {});\n",
              "          if (!dataTable) return;\n",
              "\n",
              "          const docLinkHtml = 'Like what you see? Visit the ' +\n",
              "            '<a target=\"_blank\" href=https://colab.research.google.com/notebooks/data_table.ipynb>data table notebook</a>'\n",
              "            + ' to learn more about interactive tables.';\n",
              "          element.innerHTML = '';\n",
              "          dataTable['output_type'] = 'display_data';\n",
              "          await google.colab.output.renderOutput(dataTable, element);\n",
              "          const docLink = document.createElement('div');\n",
              "          docLink.innerHTML = docLinkHtml;\n",
              "          element.appendChild(docLink);\n",
              "        }\n",
              "      </script>\n",
              "    </div>\n",
              "  </div>\n",
              "  "
            ]
          },
          "metadata": {},
          "execution_count": 8
        }
      ]
    },
    {
      "cell_type": "markdown",
      "source": [
        "### **Change popularity to categorical for decision tree**\n",
        "Popular: Above 80\n",
        "<br>\n",
        "Not popular: Below 80"
      ],
      "metadata": {
        "id": "B2R7fNXfEpb7"
      }
    },
    {
      "cell_type": "code",
      "source": [
        "#Check\n",
        "#newSongDf.drop('popularity categorical', axis=1,inplace=True)"
      ],
      "metadata": {
        "id": "x2nJGpoRE6ZT"
      },
      "execution_count": null,
      "outputs": []
    },
    {
      "cell_type": "code",
      "source": [
        "bins =[-np.inf,80,100]\n",
        "popularity_cat = pd.cut(newSongDf.popularity,bins,labels=['Not Popular', 'Popular'])\n",
        "newSongDf.insert(15,'popularity_categorical', popularity_cat)"
      ],
      "metadata": {
        "id": "Ym96gLxJElz4"
      },
      "execution_count": null,
      "outputs": []
    },
    {
      "cell_type": "code",
      "source": [
        "#shift popularity (response) to the back for better viewing\n",
        "pc = newSongDf.pop(\"popularity_categorical\")\n",
        "newSongDf[\"popularity_categorical\"] = pc\n",
        "newSongDf.head(5)\n"
      ],
      "metadata": {
        "id": "A_W68ODZFO6h",
        "colab": {
          "base_uri": "https://localhost:8080/",
          "height": 337
        },
        "outputId": "ecf7f0ab-fd4f-4854-a821-2d85ade67fa2"
      },
      "execution_count": null,
      "outputs": [
        {
          "output_type": "execute_result",
          "data": {
            "text/plain": [
              "                 track_id                       title  \\\n",
              "0  7qiZfU4dY1lWllzX7mPBI3                Shape of You   \n",
              "1  0VjIjW4GlUZAMYd2vXMi3b             Blinding Lights   \n",
              "2  1rgnBhdG2JDFTbYkYRZAku                Dance Monkey   \n",
              "3  0e7ipj03S05BNilyu5bRzt  rockstar (feat. 21 Savage)   \n",
              "4  7qEHsqek33rTcFNT9PFqLf           Someone You Loved   \n",
              "\n",
              "                              track_uri    artist_name  artist popularity  \\\n",
              "0  spotify:track:7qiZfU4dY1lWllzX7mPBI3     Ed Sheeran                 96   \n",
              "1  spotify:track:0VjIjW4GlUZAMYd2vXMi3b     The Weeknd                 97   \n",
              "2  spotify:track:1rgnBhdG2JDFTbYkYRZAku    Tones And I                 78   \n",
              "3  spotify:track:0e7ipj03S05BNilyu5bRzt    Post Malone                 91   \n",
              "4  spotify:track:7qEHsqek33rTcFNT9PFqLf  Lewis Capaldi                 82   \n",
              "\n",
              "                                       artist_genres  \\\n",
              "0                                  ['pop', 'uk pop']   \n",
              "1  ['canadian contemporary r&b', 'canadian pop', ...   \n",
              "2                          ['australian pop', 'pop']   \n",
              "3                  ['dfw rap', 'melodic rap', 'rap']   \n",
              "4                                  ['pop', 'uk pop']   \n",
              "\n",
              "                                     album speech                track_name_y  \\\n",
              "0                               ÷ (Deluxe)  Words                Shape of You   \n",
              "1                              After Hours  Words             Blinding Lights   \n",
              "2                             Dance Monkey  Words                Dance Monkey   \n",
              "3                     beerbongs & bentleys  Words  rockstar (feat. 21 Savage)   \n",
              "4  Divinely Uninspired To A Hellish Extent  Words           Someone You Loved   \n",
              "\n",
              "   danceability instrumental  energy live performance    tempo  loudness  \\\n",
              "0         0.825        Vocal   0.652               No   95.977    -3.183   \n",
              "1         0.514        Vocal   0.730               No  171.005    -5.934   \n",
              "2         0.826        Vocal   0.593               No   98.083    -6.401   \n",
              "3         0.585        Vocal   0.520               No  159.801    -6.136   \n",
              "4         0.501        Vocal   0.405               No  109.891    -5.679   \n",
              "\n",
              "   valence  acousticness  popularity popularity_categorical  \n",
              "0    0.931       0.58100          89                Popular  \n",
              "1    0.334       0.00146          95                Popular  \n",
              "2    0.541       0.68800          68            Not Popular  \n",
              "3    0.129       0.12400          88                Popular  \n",
              "4    0.446       0.75100          90                Popular  "
            ],
            "text/html": [
              "\n",
              "  <div id=\"df-fea1ae93-9fce-41dc-9eec-f5824ddb6b7d\">\n",
              "    <div class=\"colab-df-container\">\n",
              "      <div>\n",
              "<style scoped>\n",
              "    .dataframe tbody tr th:only-of-type {\n",
              "        vertical-align: middle;\n",
              "    }\n",
              "\n",
              "    .dataframe tbody tr th {\n",
              "        vertical-align: top;\n",
              "    }\n",
              "\n",
              "    .dataframe thead th {\n",
              "        text-align: right;\n",
              "    }\n",
              "</style>\n",
              "<table border=\"1\" class=\"dataframe\">\n",
              "  <thead>\n",
              "    <tr style=\"text-align: right;\">\n",
              "      <th></th>\n",
              "      <th>track_id</th>\n",
              "      <th>title</th>\n",
              "      <th>track_uri</th>\n",
              "      <th>artist_name</th>\n",
              "      <th>artist popularity</th>\n",
              "      <th>artist_genres</th>\n",
              "      <th>album</th>\n",
              "      <th>speech</th>\n",
              "      <th>track_name_y</th>\n",
              "      <th>danceability</th>\n",
              "      <th>instrumental</th>\n",
              "      <th>energy</th>\n",
              "      <th>live performance</th>\n",
              "      <th>tempo</th>\n",
              "      <th>loudness</th>\n",
              "      <th>valence</th>\n",
              "      <th>acousticness</th>\n",
              "      <th>popularity</th>\n",
              "      <th>popularity_categorical</th>\n",
              "    </tr>\n",
              "  </thead>\n",
              "  <tbody>\n",
              "    <tr>\n",
              "      <th>0</th>\n",
              "      <td>7qiZfU4dY1lWllzX7mPBI3</td>\n",
              "      <td>Shape of You</td>\n",
              "      <td>spotify:track:7qiZfU4dY1lWllzX7mPBI3</td>\n",
              "      <td>Ed Sheeran</td>\n",
              "      <td>96</td>\n",
              "      <td>['pop', 'uk pop']</td>\n",
              "      <td>÷ (Deluxe)</td>\n",
              "      <td>Words</td>\n",
              "      <td>Shape of You</td>\n",
              "      <td>0.825</td>\n",
              "      <td>Vocal</td>\n",
              "      <td>0.652</td>\n",
              "      <td>No</td>\n",
              "      <td>95.977</td>\n",
              "      <td>-3.183</td>\n",
              "      <td>0.931</td>\n",
              "      <td>0.58100</td>\n",
              "      <td>89</td>\n",
              "      <td>Popular</td>\n",
              "    </tr>\n",
              "    <tr>\n",
              "      <th>1</th>\n",
              "      <td>0VjIjW4GlUZAMYd2vXMi3b</td>\n",
              "      <td>Blinding Lights</td>\n",
              "      <td>spotify:track:0VjIjW4GlUZAMYd2vXMi3b</td>\n",
              "      <td>The Weeknd</td>\n",
              "      <td>97</td>\n",
              "      <td>['canadian contemporary r&amp;b', 'canadian pop', ...</td>\n",
              "      <td>After Hours</td>\n",
              "      <td>Words</td>\n",
              "      <td>Blinding Lights</td>\n",
              "      <td>0.514</td>\n",
              "      <td>Vocal</td>\n",
              "      <td>0.730</td>\n",
              "      <td>No</td>\n",
              "      <td>171.005</td>\n",
              "      <td>-5.934</td>\n",
              "      <td>0.334</td>\n",
              "      <td>0.00146</td>\n",
              "      <td>95</td>\n",
              "      <td>Popular</td>\n",
              "    </tr>\n",
              "    <tr>\n",
              "      <th>2</th>\n",
              "      <td>1rgnBhdG2JDFTbYkYRZAku</td>\n",
              "      <td>Dance Monkey</td>\n",
              "      <td>spotify:track:1rgnBhdG2JDFTbYkYRZAku</td>\n",
              "      <td>Tones And I</td>\n",
              "      <td>78</td>\n",
              "      <td>['australian pop', 'pop']</td>\n",
              "      <td>Dance Monkey</td>\n",
              "      <td>Words</td>\n",
              "      <td>Dance Monkey</td>\n",
              "      <td>0.826</td>\n",
              "      <td>Vocal</td>\n",
              "      <td>0.593</td>\n",
              "      <td>No</td>\n",
              "      <td>98.083</td>\n",
              "      <td>-6.401</td>\n",
              "      <td>0.541</td>\n",
              "      <td>0.68800</td>\n",
              "      <td>68</td>\n",
              "      <td>Not Popular</td>\n",
              "    </tr>\n",
              "    <tr>\n",
              "      <th>3</th>\n",
              "      <td>0e7ipj03S05BNilyu5bRzt</td>\n",
              "      <td>rockstar (feat. 21 Savage)</td>\n",
              "      <td>spotify:track:0e7ipj03S05BNilyu5bRzt</td>\n",
              "      <td>Post Malone</td>\n",
              "      <td>91</td>\n",
              "      <td>['dfw rap', 'melodic rap', 'rap']</td>\n",
              "      <td>beerbongs &amp; bentleys</td>\n",
              "      <td>Words</td>\n",
              "      <td>rockstar (feat. 21 Savage)</td>\n",
              "      <td>0.585</td>\n",
              "      <td>Vocal</td>\n",
              "      <td>0.520</td>\n",
              "      <td>No</td>\n",
              "      <td>159.801</td>\n",
              "      <td>-6.136</td>\n",
              "      <td>0.129</td>\n",
              "      <td>0.12400</td>\n",
              "      <td>88</td>\n",
              "      <td>Popular</td>\n",
              "    </tr>\n",
              "    <tr>\n",
              "      <th>4</th>\n",
              "      <td>7qEHsqek33rTcFNT9PFqLf</td>\n",
              "      <td>Someone You Loved</td>\n",
              "      <td>spotify:track:7qEHsqek33rTcFNT9PFqLf</td>\n",
              "      <td>Lewis Capaldi</td>\n",
              "      <td>82</td>\n",
              "      <td>['pop', 'uk pop']</td>\n",
              "      <td>Divinely Uninspired To A Hellish Extent</td>\n",
              "      <td>Words</td>\n",
              "      <td>Someone You Loved</td>\n",
              "      <td>0.501</td>\n",
              "      <td>Vocal</td>\n",
              "      <td>0.405</td>\n",
              "      <td>No</td>\n",
              "      <td>109.891</td>\n",
              "      <td>-5.679</td>\n",
              "      <td>0.446</td>\n",
              "      <td>0.75100</td>\n",
              "      <td>90</td>\n",
              "      <td>Popular</td>\n",
              "    </tr>\n",
              "  </tbody>\n",
              "</table>\n",
              "</div>\n",
              "      <button class=\"colab-df-convert\" onclick=\"convertToInteractive('df-fea1ae93-9fce-41dc-9eec-f5824ddb6b7d')\"\n",
              "              title=\"Convert this dataframe to an interactive table.\"\n",
              "              style=\"display:none;\">\n",
              "        \n",
              "  <svg xmlns=\"http://www.w3.org/2000/svg\" height=\"24px\"viewBox=\"0 0 24 24\"\n",
              "       width=\"24px\">\n",
              "    <path d=\"M0 0h24v24H0V0z\" fill=\"none\"/>\n",
              "    <path d=\"M18.56 5.44l.94 2.06.94-2.06 2.06-.94-2.06-.94-.94-2.06-.94 2.06-2.06.94zm-11 1L8.5 8.5l.94-2.06 2.06-.94-2.06-.94L8.5 2.5l-.94 2.06-2.06.94zm10 10l.94 2.06.94-2.06 2.06-.94-2.06-.94-.94-2.06-.94 2.06-2.06.94z\"/><path d=\"M17.41 7.96l-1.37-1.37c-.4-.4-.92-.59-1.43-.59-.52 0-1.04.2-1.43.59L10.3 9.45l-7.72 7.72c-.78.78-.78 2.05 0 2.83L4 21.41c.39.39.9.59 1.41.59.51 0 1.02-.2 1.41-.59l7.78-7.78 2.81-2.81c.8-.78.8-2.07 0-2.86zM5.41 20L4 18.59l7.72-7.72 1.47 1.35L5.41 20z\"/>\n",
              "  </svg>\n",
              "      </button>\n",
              "      \n",
              "  <style>\n",
              "    .colab-df-container {\n",
              "      display:flex;\n",
              "      flex-wrap:wrap;\n",
              "      gap: 12px;\n",
              "    }\n",
              "\n",
              "    .colab-df-convert {\n",
              "      background-color: #E8F0FE;\n",
              "      border: none;\n",
              "      border-radius: 50%;\n",
              "      cursor: pointer;\n",
              "      display: none;\n",
              "      fill: #1967D2;\n",
              "      height: 32px;\n",
              "      padding: 0 0 0 0;\n",
              "      width: 32px;\n",
              "    }\n",
              "\n",
              "    .colab-df-convert:hover {\n",
              "      background-color: #E2EBFA;\n",
              "      box-shadow: 0px 1px 2px rgba(60, 64, 67, 0.3), 0px 1px 3px 1px rgba(60, 64, 67, 0.15);\n",
              "      fill: #174EA6;\n",
              "    }\n",
              "\n",
              "    [theme=dark] .colab-df-convert {\n",
              "      background-color: #3B4455;\n",
              "      fill: #D2E3FC;\n",
              "    }\n",
              "\n",
              "    [theme=dark] .colab-df-convert:hover {\n",
              "      background-color: #434B5C;\n",
              "      box-shadow: 0px 1px 3px 1px rgba(0, 0, 0, 0.15);\n",
              "      filter: drop-shadow(0px 1px 2px rgba(0, 0, 0, 0.3));\n",
              "      fill: #FFFFFF;\n",
              "    }\n",
              "  </style>\n",
              "\n",
              "      <script>\n",
              "        const buttonEl =\n",
              "          document.querySelector('#df-fea1ae93-9fce-41dc-9eec-f5824ddb6b7d button.colab-df-convert');\n",
              "        buttonEl.style.display =\n",
              "          google.colab.kernel.accessAllowed ? 'block' : 'none';\n",
              "\n",
              "        async function convertToInteractive(key) {\n",
              "          const element = document.querySelector('#df-fea1ae93-9fce-41dc-9eec-f5824ddb6b7d');\n",
              "          const dataTable =\n",
              "            await google.colab.kernel.invokeFunction('convertToInteractive',\n",
              "                                                     [key], {});\n",
              "          if (!dataTable) return;\n",
              "\n",
              "          const docLinkHtml = 'Like what you see? Visit the ' +\n",
              "            '<a target=\"_blank\" href=https://colab.research.google.com/notebooks/data_table.ipynb>data table notebook</a>'\n",
              "            + ' to learn more about interactive tables.';\n",
              "          element.innerHTML = '';\n",
              "          dataTable['output_type'] = 'display_data';\n",
              "          await google.colab.output.renderOutput(dataTable, element);\n",
              "          const docLink = document.createElement('div');\n",
              "          docLink.innerHTML = docLinkHtml;\n",
              "          element.appendChild(docLink);\n",
              "        }\n",
              "      </script>\n",
              "    </div>\n",
              "  </div>\n",
              "  "
            ]
          },
          "metadata": {},
          "execution_count": 11
        }
      ]
    },
    {
      "cell_type": "code",
      "source": [
        "newSongDf['popularity_categorical'].value_counts()"
      ],
      "metadata": {
        "id": "wTfR7ueoFfaj",
        "colab": {
          "base_uri": "https://localhost:8080/"
        },
        "outputId": "c1d2283a-caa8-4cd7-cb21-88d88d306f38"
      },
      "execution_count": null,
      "outputs": [
        {
          "output_type": "execute_result",
          "data": {
            "text/plain": [
              "Not Popular    398\n",
              "Popular        393\n",
              "Name: popularity_categorical, dtype: int64"
            ]
          },
          "metadata": {},
          "execution_count": 12
        }
      ]
    },
    {
      "cell_type": "markdown",
      "source": [
        "### **Extract Numerical and Categorical Data***\n",
        "\n",
        "\n"
      ],
      "metadata": {
        "id": "R6mKAeJ2EYV-"
      }
    },
    {
      "cell_type": "code",
      "source": [
        "songNumData = pd.DataFrame(newSongDf[['danceability', 'energy', 'loudness', 'acousticness', 'valence','tempo','artist popularity','popularity']])\n",
        "songNumData"
      ],
      "metadata": {
        "id": "QWOYyDNKCWdE",
        "colab": {
          "base_uri": "https://localhost:8080/",
          "height": 423
        },
        "outputId": "82d041f8-f3ef-4f7e-b74e-af0f9c1ee7ba"
      },
      "execution_count": null,
      "outputs": [
        {
          "output_type": "execute_result",
          "data": {
            "text/plain": [
              "     danceability  energy  loudness  acousticness  valence    tempo  \\\n",
              "0           0.825   0.652    -3.183       0.58100    0.931   95.977   \n",
              "1           0.514   0.730    -5.934       0.00146    0.334  171.005   \n",
              "2           0.826   0.593    -6.401       0.68800    0.541   98.083   \n",
              "3           0.585   0.520    -6.136       0.12400    0.129  159.801   \n",
              "4           0.501   0.405    -5.679       0.75100    0.446  109.891   \n",
              "..            ...     ...       ...           ...      ...      ...   \n",
              "786         0.790   0.647    -5.983       0.05150    0.654   87.999   \n",
              "787         0.851   0.551    -5.177       0.15100    0.807  131.922   \n",
              "788         0.359   0.543    -7.582       0.49200    0.453   68.534   \n",
              "789         0.471   0.924    -3.906       0.00301    0.725  154.961   \n",
              "790         0.680   0.729    -5.077       0.61200    0.446  123.970   \n",
              "\n",
              "     artist popularity  popularity  \n",
              "0                   96          89  \n",
              "1                   97          95  \n",
              "2                   78          68  \n",
              "3                   91          88  \n",
              "4                   82          90  \n",
              "..                 ...         ...  \n",
              "786                 96          87  \n",
              "787                 65          76  \n",
              "788                 98          87  \n",
              "789                 71          85  \n",
              "790                 83          84  \n",
              "\n",
              "[791 rows x 8 columns]"
            ],
            "text/html": [
              "\n",
              "  <div id=\"df-7f7beaa9-8552-47c0-b47e-21f79331f94f\">\n",
              "    <div class=\"colab-df-container\">\n",
              "      <div>\n",
              "<style scoped>\n",
              "    .dataframe tbody tr th:only-of-type {\n",
              "        vertical-align: middle;\n",
              "    }\n",
              "\n",
              "    .dataframe tbody tr th {\n",
              "        vertical-align: top;\n",
              "    }\n",
              "\n",
              "    .dataframe thead th {\n",
              "        text-align: right;\n",
              "    }\n",
              "</style>\n",
              "<table border=\"1\" class=\"dataframe\">\n",
              "  <thead>\n",
              "    <tr style=\"text-align: right;\">\n",
              "      <th></th>\n",
              "      <th>danceability</th>\n",
              "      <th>energy</th>\n",
              "      <th>loudness</th>\n",
              "      <th>acousticness</th>\n",
              "      <th>valence</th>\n",
              "      <th>tempo</th>\n",
              "      <th>artist popularity</th>\n",
              "      <th>popularity</th>\n",
              "    </tr>\n",
              "  </thead>\n",
              "  <tbody>\n",
              "    <tr>\n",
              "      <th>0</th>\n",
              "      <td>0.825</td>\n",
              "      <td>0.652</td>\n",
              "      <td>-3.183</td>\n",
              "      <td>0.58100</td>\n",
              "      <td>0.931</td>\n",
              "      <td>95.977</td>\n",
              "      <td>96</td>\n",
              "      <td>89</td>\n",
              "    </tr>\n",
              "    <tr>\n",
              "      <th>1</th>\n",
              "      <td>0.514</td>\n",
              "      <td>0.730</td>\n",
              "      <td>-5.934</td>\n",
              "      <td>0.00146</td>\n",
              "      <td>0.334</td>\n",
              "      <td>171.005</td>\n",
              "      <td>97</td>\n",
              "      <td>95</td>\n",
              "    </tr>\n",
              "    <tr>\n",
              "      <th>2</th>\n",
              "      <td>0.826</td>\n",
              "      <td>0.593</td>\n",
              "      <td>-6.401</td>\n",
              "      <td>0.68800</td>\n",
              "      <td>0.541</td>\n",
              "      <td>98.083</td>\n",
              "      <td>78</td>\n",
              "      <td>68</td>\n",
              "    </tr>\n",
              "    <tr>\n",
              "      <th>3</th>\n",
              "      <td>0.585</td>\n",
              "      <td>0.520</td>\n",
              "      <td>-6.136</td>\n",
              "      <td>0.12400</td>\n",
              "      <td>0.129</td>\n",
              "      <td>159.801</td>\n",
              "      <td>91</td>\n",
              "      <td>88</td>\n",
              "    </tr>\n",
              "    <tr>\n",
              "      <th>4</th>\n",
              "      <td>0.501</td>\n",
              "      <td>0.405</td>\n",
              "      <td>-5.679</td>\n",
              "      <td>0.75100</td>\n",
              "      <td>0.446</td>\n",
              "      <td>109.891</td>\n",
              "      <td>82</td>\n",
              "      <td>90</td>\n",
              "    </tr>\n",
              "    <tr>\n",
              "      <th>...</th>\n",
              "      <td>...</td>\n",
              "      <td>...</td>\n",
              "      <td>...</td>\n",
              "      <td>...</td>\n",
              "      <td>...</td>\n",
              "      <td>...</td>\n",
              "      <td>...</td>\n",
              "      <td>...</td>\n",
              "    </tr>\n",
              "    <tr>\n",
              "      <th>786</th>\n",
              "      <td>0.790</td>\n",
              "      <td>0.647</td>\n",
              "      <td>-5.983</td>\n",
              "      <td>0.05150</td>\n",
              "      <td>0.654</td>\n",
              "      <td>87.999</td>\n",
              "      <td>96</td>\n",
              "      <td>87</td>\n",
              "    </tr>\n",
              "    <tr>\n",
              "      <th>787</th>\n",
              "      <td>0.851</td>\n",
              "      <td>0.551</td>\n",
              "      <td>-5.177</td>\n",
              "      <td>0.15100</td>\n",
              "      <td>0.807</td>\n",
              "      <td>131.922</td>\n",
              "      <td>65</td>\n",
              "      <td>76</td>\n",
              "    </tr>\n",
              "    <tr>\n",
              "      <th>788</th>\n",
              "      <td>0.359</td>\n",
              "      <td>0.543</td>\n",
              "      <td>-7.582</td>\n",
              "      <td>0.49200</td>\n",
              "      <td>0.453</td>\n",
              "      <td>68.534</td>\n",
              "      <td>98</td>\n",
              "      <td>87</td>\n",
              "    </tr>\n",
              "    <tr>\n",
              "      <th>789</th>\n",
              "      <td>0.471</td>\n",
              "      <td>0.924</td>\n",
              "      <td>-3.906</td>\n",
              "      <td>0.00301</td>\n",
              "      <td>0.725</td>\n",
              "      <td>154.961</td>\n",
              "      <td>71</td>\n",
              "      <td>85</td>\n",
              "    </tr>\n",
              "    <tr>\n",
              "      <th>790</th>\n",
              "      <td>0.680</td>\n",
              "      <td>0.729</td>\n",
              "      <td>-5.077</td>\n",
              "      <td>0.61200</td>\n",
              "      <td>0.446</td>\n",
              "      <td>123.970</td>\n",
              "      <td>83</td>\n",
              "      <td>84</td>\n",
              "    </tr>\n",
              "  </tbody>\n",
              "</table>\n",
              "<p>791 rows × 8 columns</p>\n",
              "</div>\n",
              "      <button class=\"colab-df-convert\" onclick=\"convertToInteractive('df-7f7beaa9-8552-47c0-b47e-21f79331f94f')\"\n",
              "              title=\"Convert this dataframe to an interactive table.\"\n",
              "              style=\"display:none;\">\n",
              "        \n",
              "  <svg xmlns=\"http://www.w3.org/2000/svg\" height=\"24px\"viewBox=\"0 0 24 24\"\n",
              "       width=\"24px\">\n",
              "    <path d=\"M0 0h24v24H0V0z\" fill=\"none\"/>\n",
              "    <path d=\"M18.56 5.44l.94 2.06.94-2.06 2.06-.94-2.06-.94-.94-2.06-.94 2.06-2.06.94zm-11 1L8.5 8.5l.94-2.06 2.06-.94-2.06-.94L8.5 2.5l-.94 2.06-2.06.94zm10 10l.94 2.06.94-2.06 2.06-.94-2.06-.94-.94-2.06-.94 2.06-2.06.94z\"/><path d=\"M17.41 7.96l-1.37-1.37c-.4-.4-.92-.59-1.43-.59-.52 0-1.04.2-1.43.59L10.3 9.45l-7.72 7.72c-.78.78-.78 2.05 0 2.83L4 21.41c.39.39.9.59 1.41.59.51 0 1.02-.2 1.41-.59l7.78-7.78 2.81-2.81c.8-.78.8-2.07 0-2.86zM5.41 20L4 18.59l7.72-7.72 1.47 1.35L5.41 20z\"/>\n",
              "  </svg>\n",
              "      </button>\n",
              "      \n",
              "  <style>\n",
              "    .colab-df-container {\n",
              "      display:flex;\n",
              "      flex-wrap:wrap;\n",
              "      gap: 12px;\n",
              "    }\n",
              "\n",
              "    .colab-df-convert {\n",
              "      background-color: #E8F0FE;\n",
              "      border: none;\n",
              "      border-radius: 50%;\n",
              "      cursor: pointer;\n",
              "      display: none;\n",
              "      fill: #1967D2;\n",
              "      height: 32px;\n",
              "      padding: 0 0 0 0;\n",
              "      width: 32px;\n",
              "    }\n",
              "\n",
              "    .colab-df-convert:hover {\n",
              "      background-color: #E2EBFA;\n",
              "      box-shadow: 0px 1px 2px rgba(60, 64, 67, 0.3), 0px 1px 3px 1px rgba(60, 64, 67, 0.15);\n",
              "      fill: #174EA6;\n",
              "    }\n",
              "\n",
              "    [theme=dark] .colab-df-convert {\n",
              "      background-color: #3B4455;\n",
              "      fill: #D2E3FC;\n",
              "    }\n",
              "\n",
              "    [theme=dark] .colab-df-convert:hover {\n",
              "      background-color: #434B5C;\n",
              "      box-shadow: 0px 1px 3px 1px rgba(0, 0, 0, 0.15);\n",
              "      filter: drop-shadow(0px 1px 2px rgba(0, 0, 0, 0.3));\n",
              "      fill: #FFFFFF;\n",
              "    }\n",
              "  </style>\n",
              "\n",
              "      <script>\n",
              "        const buttonEl =\n",
              "          document.querySelector('#df-7f7beaa9-8552-47c0-b47e-21f79331f94f button.colab-df-convert');\n",
              "        buttonEl.style.display =\n",
              "          google.colab.kernel.accessAllowed ? 'block' : 'none';\n",
              "\n",
              "        async function convertToInteractive(key) {\n",
              "          const element = document.querySelector('#df-7f7beaa9-8552-47c0-b47e-21f79331f94f');\n",
              "          const dataTable =\n",
              "            await google.colab.kernel.invokeFunction('convertToInteractive',\n",
              "                                                     [key], {});\n",
              "          if (!dataTable) return;\n",
              "\n",
              "          const docLinkHtml = 'Like what you see? Visit the ' +\n",
              "            '<a target=\"_blank\" href=https://colab.research.google.com/notebooks/data_table.ipynb>data table notebook</a>'\n",
              "            + ' to learn more about interactive tables.';\n",
              "          element.innerHTML = '';\n",
              "          dataTable['output_type'] = 'display_data';\n",
              "          await google.colab.output.renderOutput(dataTable, element);\n",
              "          const docLink = document.createElement('div');\n",
              "          docLink.innerHTML = docLinkHtml;\n",
              "          element.appendChild(docLink);\n",
              "        }\n",
              "      </script>\n",
              "    </div>\n",
              "  </div>\n",
              "  "
            ]
          },
          "metadata": {},
          "execution_count": 13
        }
      ]
    },
    {
      "cell_type": "code",
      "source": [
        "newSongDf.iloc[90]"
      ],
      "metadata": {
        "id": "KlPp0y8bv7pA",
        "colab": {
          "base_uri": "https://localhost:8080/"
        },
        "outputId": "8afdb99f-3353-4696-adf7-33fc2638db46"
      },
      "execution_count": null,
      "outputs": [
        {
          "output_type": "execute_result",
          "data": {
            "text/plain": [
              "track_id                                             1EzrEOXmMH3G43AXT1y7pA\n",
              "title                                                             I'm Yours\n",
              "track_uri                              spotify:track:1EzrEOXmMH3G43AXT1y7pA\n",
              "artist_name                                                      Jason Mraz\n",
              "artist popularity                                                        77\n",
              "artist_genres             ['acoustic pop', 'neo mellow', 'pop', 'pop rock']\n",
              "album                                   We Sing. We Dance. We Steal Things.\n",
              "speech                                                                Words\n",
              "track_name_y                                                      I'm Yours\n",
              "danceability                                                          0.703\n",
              "instrumental                                                          Vocal\n",
              "energy                                                                0.444\n",
              "live performance                                                         No\n",
              "tempo                                                                150.96\n",
              "loudness                                                             -9.331\n",
              "valence                                                               0.712\n",
              "acousticness                                                          0.559\n",
              "popularity                                                               84\n",
              "popularity_categorical                                              Popular\n",
              "Name: 90, dtype: object"
            ]
          },
          "metadata": {},
          "execution_count": 14
        }
      ]
    },
    {
      "cell_type": "code",
      "source": [
        "songCatData = pd.DataFrame(newSongDf[['speech', 'instrumental']])\n",
        "songCatData = songCatData.astype('category')\n",
        "songCatData.describe()"
      ],
      "metadata": {
        "id": "j5xi1iK50OQm",
        "colab": {
          "base_uri": "https://localhost:8080/",
          "height": 175
        },
        "outputId": "7fc3e8e5-c4cf-42f3-90d6-3dd5592832fe"
      },
      "execution_count": null,
      "outputs": [
        {
          "output_type": "execute_result",
          "data": {
            "text/plain": [
              "       speech instrumental\n",
              "count     791          791\n",
              "unique      2            2\n",
              "top     Words        Vocal\n",
              "freq      763          786"
            ],
            "text/html": [
              "\n",
              "  <div id=\"df-de9f960e-2c8b-4abf-a5b2-5bdd12215abc\">\n",
              "    <div class=\"colab-df-container\">\n",
              "      <div>\n",
              "<style scoped>\n",
              "    .dataframe tbody tr th:only-of-type {\n",
              "        vertical-align: middle;\n",
              "    }\n",
              "\n",
              "    .dataframe tbody tr th {\n",
              "        vertical-align: top;\n",
              "    }\n",
              "\n",
              "    .dataframe thead th {\n",
              "        text-align: right;\n",
              "    }\n",
              "</style>\n",
              "<table border=\"1\" class=\"dataframe\">\n",
              "  <thead>\n",
              "    <tr style=\"text-align: right;\">\n",
              "      <th></th>\n",
              "      <th>speech</th>\n",
              "      <th>instrumental</th>\n",
              "    </tr>\n",
              "  </thead>\n",
              "  <tbody>\n",
              "    <tr>\n",
              "      <th>count</th>\n",
              "      <td>791</td>\n",
              "      <td>791</td>\n",
              "    </tr>\n",
              "    <tr>\n",
              "      <th>unique</th>\n",
              "      <td>2</td>\n",
              "      <td>2</td>\n",
              "    </tr>\n",
              "    <tr>\n",
              "      <th>top</th>\n",
              "      <td>Words</td>\n",
              "      <td>Vocal</td>\n",
              "    </tr>\n",
              "    <tr>\n",
              "      <th>freq</th>\n",
              "      <td>763</td>\n",
              "      <td>786</td>\n",
              "    </tr>\n",
              "  </tbody>\n",
              "</table>\n",
              "</div>\n",
              "      <button class=\"colab-df-convert\" onclick=\"convertToInteractive('df-de9f960e-2c8b-4abf-a5b2-5bdd12215abc')\"\n",
              "              title=\"Convert this dataframe to an interactive table.\"\n",
              "              style=\"display:none;\">\n",
              "        \n",
              "  <svg xmlns=\"http://www.w3.org/2000/svg\" height=\"24px\"viewBox=\"0 0 24 24\"\n",
              "       width=\"24px\">\n",
              "    <path d=\"M0 0h24v24H0V0z\" fill=\"none\"/>\n",
              "    <path d=\"M18.56 5.44l.94 2.06.94-2.06 2.06-.94-2.06-.94-.94-2.06-.94 2.06-2.06.94zm-11 1L8.5 8.5l.94-2.06 2.06-.94-2.06-.94L8.5 2.5l-.94 2.06-2.06.94zm10 10l.94 2.06.94-2.06 2.06-.94-2.06-.94-.94-2.06-.94 2.06-2.06.94z\"/><path d=\"M17.41 7.96l-1.37-1.37c-.4-.4-.92-.59-1.43-.59-.52 0-1.04.2-1.43.59L10.3 9.45l-7.72 7.72c-.78.78-.78 2.05 0 2.83L4 21.41c.39.39.9.59 1.41.59.51 0 1.02-.2 1.41-.59l7.78-7.78 2.81-2.81c.8-.78.8-2.07 0-2.86zM5.41 20L4 18.59l7.72-7.72 1.47 1.35L5.41 20z\"/>\n",
              "  </svg>\n",
              "      </button>\n",
              "      \n",
              "  <style>\n",
              "    .colab-df-container {\n",
              "      display:flex;\n",
              "      flex-wrap:wrap;\n",
              "      gap: 12px;\n",
              "    }\n",
              "\n",
              "    .colab-df-convert {\n",
              "      background-color: #E8F0FE;\n",
              "      border: none;\n",
              "      border-radius: 50%;\n",
              "      cursor: pointer;\n",
              "      display: none;\n",
              "      fill: #1967D2;\n",
              "      height: 32px;\n",
              "      padding: 0 0 0 0;\n",
              "      width: 32px;\n",
              "    }\n",
              "\n",
              "    .colab-df-convert:hover {\n",
              "      background-color: #E2EBFA;\n",
              "      box-shadow: 0px 1px 2px rgba(60, 64, 67, 0.3), 0px 1px 3px 1px rgba(60, 64, 67, 0.15);\n",
              "      fill: #174EA6;\n",
              "    }\n",
              "\n",
              "    [theme=dark] .colab-df-convert {\n",
              "      background-color: #3B4455;\n",
              "      fill: #D2E3FC;\n",
              "    }\n",
              "\n",
              "    [theme=dark] .colab-df-convert:hover {\n",
              "      background-color: #434B5C;\n",
              "      box-shadow: 0px 1px 3px 1px rgba(0, 0, 0, 0.15);\n",
              "      filter: drop-shadow(0px 1px 2px rgba(0, 0, 0, 0.3));\n",
              "      fill: #FFFFFF;\n",
              "    }\n",
              "  </style>\n",
              "\n",
              "      <script>\n",
              "        const buttonEl =\n",
              "          document.querySelector('#df-de9f960e-2c8b-4abf-a5b2-5bdd12215abc button.colab-df-convert');\n",
              "        buttonEl.style.display =\n",
              "          google.colab.kernel.accessAllowed ? 'block' : 'none';\n",
              "\n",
              "        async function convertToInteractive(key) {\n",
              "          const element = document.querySelector('#df-de9f960e-2c8b-4abf-a5b2-5bdd12215abc');\n",
              "          const dataTable =\n",
              "            await google.colab.kernel.invokeFunction('convertToInteractive',\n",
              "                                                     [key], {});\n",
              "          if (!dataTable) return;\n",
              "\n",
              "          const docLinkHtml = 'Like what you see? Visit the ' +\n",
              "            '<a target=\"_blank\" href=https://colab.research.google.com/notebooks/data_table.ipynb>data table notebook</a>'\n",
              "            + ' to learn more about interactive tables.';\n",
              "          element.innerHTML = '';\n",
              "          dataTable['output_type'] = 'display_data';\n",
              "          await google.colab.output.renderOutput(dataTable, element);\n",
              "          const docLink = document.createElement('div');\n",
              "          docLink.innerHTML = docLinkHtml;\n",
              "          element.appendChild(docLink);\n",
              "        }\n",
              "      </script>\n",
              "    </div>\n",
              "  </div>\n",
              "  "
            ]
          },
          "metadata": {},
          "execution_count": 15
        }
      ]
    },
    {
      "cell_type": "markdown",
      "source": [
        "#**EDA and Removing Outliers**"
      ],
      "metadata": {
        "id": "MeW_Nm-aKG2k"
      }
    },
    {
      "cell_type": "code",
      "source": [
        "#songNumData = pd.DataFrame(newSongDf[['danceability', 'energy', 'loudness', 'acousticness', 'valence','tempo','artist popularity','popularity']])\n",
        "songNumData.describe()"
      ],
      "metadata": {
        "id": "7-dhc7s1Kg0U",
        "colab": {
          "base_uri": "https://localhost:8080/",
          "height": 300
        },
        "outputId": "ca097b89-ed93-43b0-8b62-8d8872d4d1c7"
      },
      "execution_count": null,
      "outputs": [
        {
          "output_type": "execute_result",
          "data": {
            "text/plain": [
              "       danceability      energy    loudness  acousticness     valence  \\\n",
              "count    791.000000  791.000000  791.000000    791.000000  791.000000   \n",
              "mean       0.664961    0.648631   -6.245063      0.203684    0.496515   \n",
              "std        0.140562    0.172123    2.342916      0.234137    0.226602   \n",
              "min        0.209000    0.111000  -18.435000      0.000025    0.059200   \n",
              "25%        0.582500    0.537000   -7.358000      0.028900    0.330500   \n",
              "50%        0.677000    0.672000   -5.833000      0.110000    0.478000   \n",
              "75%        0.762500    0.783000   -4.723000      0.291500    0.669500   \n",
              "max        0.967000    0.988000   -1.190000      0.978000    0.979000   \n",
              "\n",
              "            tempo  artist popularity  popularity  \n",
              "count  791.000000         791.000000  791.000000  \n",
              "mean   119.201456          84.298357   72.091024  \n",
              "std     26.232928           8.073679   24.627284  \n",
              "min     64.934000          59.000000    0.000000  \n",
              "25%     99.043500          79.000000   74.000000  \n",
              "50%    117.993000          85.000000   80.000000  \n",
              "75%    135.063500          91.000000   85.000000  \n",
              "max    205.846000         100.000000   97.000000  "
            ],
            "text/html": [
              "\n",
              "  <div id=\"df-69906761-1996-457f-8467-f7afd9daf117\">\n",
              "    <div class=\"colab-df-container\">\n",
              "      <div>\n",
              "<style scoped>\n",
              "    .dataframe tbody tr th:only-of-type {\n",
              "        vertical-align: middle;\n",
              "    }\n",
              "\n",
              "    .dataframe tbody tr th {\n",
              "        vertical-align: top;\n",
              "    }\n",
              "\n",
              "    .dataframe thead th {\n",
              "        text-align: right;\n",
              "    }\n",
              "</style>\n",
              "<table border=\"1\" class=\"dataframe\">\n",
              "  <thead>\n",
              "    <tr style=\"text-align: right;\">\n",
              "      <th></th>\n",
              "      <th>danceability</th>\n",
              "      <th>energy</th>\n",
              "      <th>loudness</th>\n",
              "      <th>acousticness</th>\n",
              "      <th>valence</th>\n",
              "      <th>tempo</th>\n",
              "      <th>artist popularity</th>\n",
              "      <th>popularity</th>\n",
              "    </tr>\n",
              "  </thead>\n",
              "  <tbody>\n",
              "    <tr>\n",
              "      <th>count</th>\n",
              "      <td>791.000000</td>\n",
              "      <td>791.000000</td>\n",
              "      <td>791.000000</td>\n",
              "      <td>791.000000</td>\n",
              "      <td>791.000000</td>\n",
              "      <td>791.000000</td>\n",
              "      <td>791.000000</td>\n",
              "      <td>791.000000</td>\n",
              "    </tr>\n",
              "    <tr>\n",
              "      <th>mean</th>\n",
              "      <td>0.664961</td>\n",
              "      <td>0.648631</td>\n",
              "      <td>-6.245063</td>\n",
              "      <td>0.203684</td>\n",
              "      <td>0.496515</td>\n",
              "      <td>119.201456</td>\n",
              "      <td>84.298357</td>\n",
              "      <td>72.091024</td>\n",
              "    </tr>\n",
              "    <tr>\n",
              "      <th>std</th>\n",
              "      <td>0.140562</td>\n",
              "      <td>0.172123</td>\n",
              "      <td>2.342916</td>\n",
              "      <td>0.234137</td>\n",
              "      <td>0.226602</td>\n",
              "      <td>26.232928</td>\n",
              "      <td>8.073679</td>\n",
              "      <td>24.627284</td>\n",
              "    </tr>\n",
              "    <tr>\n",
              "      <th>min</th>\n",
              "      <td>0.209000</td>\n",
              "      <td>0.111000</td>\n",
              "      <td>-18.435000</td>\n",
              "      <td>0.000025</td>\n",
              "      <td>0.059200</td>\n",
              "      <td>64.934000</td>\n",
              "      <td>59.000000</td>\n",
              "      <td>0.000000</td>\n",
              "    </tr>\n",
              "    <tr>\n",
              "      <th>25%</th>\n",
              "      <td>0.582500</td>\n",
              "      <td>0.537000</td>\n",
              "      <td>-7.358000</td>\n",
              "      <td>0.028900</td>\n",
              "      <td>0.330500</td>\n",
              "      <td>99.043500</td>\n",
              "      <td>79.000000</td>\n",
              "      <td>74.000000</td>\n",
              "    </tr>\n",
              "    <tr>\n",
              "      <th>50%</th>\n",
              "      <td>0.677000</td>\n",
              "      <td>0.672000</td>\n",
              "      <td>-5.833000</td>\n",
              "      <td>0.110000</td>\n",
              "      <td>0.478000</td>\n",
              "      <td>117.993000</td>\n",
              "      <td>85.000000</td>\n",
              "      <td>80.000000</td>\n",
              "    </tr>\n",
              "    <tr>\n",
              "      <th>75%</th>\n",
              "      <td>0.762500</td>\n",
              "      <td>0.783000</td>\n",
              "      <td>-4.723000</td>\n",
              "      <td>0.291500</td>\n",
              "      <td>0.669500</td>\n",
              "      <td>135.063500</td>\n",
              "      <td>91.000000</td>\n",
              "      <td>85.000000</td>\n",
              "    </tr>\n",
              "    <tr>\n",
              "      <th>max</th>\n",
              "      <td>0.967000</td>\n",
              "      <td>0.988000</td>\n",
              "      <td>-1.190000</td>\n",
              "      <td>0.978000</td>\n",
              "      <td>0.979000</td>\n",
              "      <td>205.846000</td>\n",
              "      <td>100.000000</td>\n",
              "      <td>97.000000</td>\n",
              "    </tr>\n",
              "  </tbody>\n",
              "</table>\n",
              "</div>\n",
              "      <button class=\"colab-df-convert\" onclick=\"convertToInteractive('df-69906761-1996-457f-8467-f7afd9daf117')\"\n",
              "              title=\"Convert this dataframe to an interactive table.\"\n",
              "              style=\"display:none;\">\n",
              "        \n",
              "  <svg xmlns=\"http://www.w3.org/2000/svg\" height=\"24px\"viewBox=\"0 0 24 24\"\n",
              "       width=\"24px\">\n",
              "    <path d=\"M0 0h24v24H0V0z\" fill=\"none\"/>\n",
              "    <path d=\"M18.56 5.44l.94 2.06.94-2.06 2.06-.94-2.06-.94-.94-2.06-.94 2.06-2.06.94zm-11 1L8.5 8.5l.94-2.06 2.06-.94-2.06-.94L8.5 2.5l-.94 2.06-2.06.94zm10 10l.94 2.06.94-2.06 2.06-.94-2.06-.94-.94-2.06-.94 2.06-2.06.94z\"/><path d=\"M17.41 7.96l-1.37-1.37c-.4-.4-.92-.59-1.43-.59-.52 0-1.04.2-1.43.59L10.3 9.45l-7.72 7.72c-.78.78-.78 2.05 0 2.83L4 21.41c.39.39.9.59 1.41.59.51 0 1.02-.2 1.41-.59l7.78-7.78 2.81-2.81c.8-.78.8-2.07 0-2.86zM5.41 20L4 18.59l7.72-7.72 1.47 1.35L5.41 20z\"/>\n",
              "  </svg>\n",
              "      </button>\n",
              "      \n",
              "  <style>\n",
              "    .colab-df-container {\n",
              "      display:flex;\n",
              "      flex-wrap:wrap;\n",
              "      gap: 12px;\n",
              "    }\n",
              "\n",
              "    .colab-df-convert {\n",
              "      background-color: #E8F0FE;\n",
              "      border: none;\n",
              "      border-radius: 50%;\n",
              "      cursor: pointer;\n",
              "      display: none;\n",
              "      fill: #1967D2;\n",
              "      height: 32px;\n",
              "      padding: 0 0 0 0;\n",
              "      width: 32px;\n",
              "    }\n",
              "\n",
              "    .colab-df-convert:hover {\n",
              "      background-color: #E2EBFA;\n",
              "      box-shadow: 0px 1px 2px rgba(60, 64, 67, 0.3), 0px 1px 3px 1px rgba(60, 64, 67, 0.15);\n",
              "      fill: #174EA6;\n",
              "    }\n",
              "\n",
              "    [theme=dark] .colab-df-convert {\n",
              "      background-color: #3B4455;\n",
              "      fill: #D2E3FC;\n",
              "    }\n",
              "\n",
              "    [theme=dark] .colab-df-convert:hover {\n",
              "      background-color: #434B5C;\n",
              "      box-shadow: 0px 1px 3px 1px rgba(0, 0, 0, 0.15);\n",
              "      filter: drop-shadow(0px 1px 2px rgba(0, 0, 0, 0.3));\n",
              "      fill: #FFFFFF;\n",
              "    }\n",
              "  </style>\n",
              "\n",
              "      <script>\n",
              "        const buttonEl =\n",
              "          document.querySelector('#df-69906761-1996-457f-8467-f7afd9daf117 button.colab-df-convert');\n",
              "        buttonEl.style.display =\n",
              "          google.colab.kernel.accessAllowed ? 'block' : 'none';\n",
              "\n",
              "        async function convertToInteractive(key) {\n",
              "          const element = document.querySelector('#df-69906761-1996-457f-8467-f7afd9daf117');\n",
              "          const dataTable =\n",
              "            await google.colab.kernel.invokeFunction('convertToInteractive',\n",
              "                                                     [key], {});\n",
              "          if (!dataTable) return;\n",
              "\n",
              "          const docLinkHtml = 'Like what you see? Visit the ' +\n",
              "            '<a target=\"_blank\" href=https://colab.research.google.com/notebooks/data_table.ipynb>data table notebook</a>'\n",
              "            + ' to learn more about interactive tables.';\n",
              "          element.innerHTML = '';\n",
              "          dataTable['output_type'] = 'display_data';\n",
              "          await google.colab.output.renderOutput(dataTable, element);\n",
              "          const docLink = document.createElement('div');\n",
              "          docLink.innerHTML = docLinkHtml;\n",
              "          element.appendChild(docLink);\n",
              "        }\n",
              "      </script>\n",
              "    </div>\n",
              "  </div>\n",
              "  "
            ]
          },
          "metadata": {},
          "execution_count": 16
        }
      ]
    },
    {
      "cell_type": "code",
      "source": [
        "f, axes = plt.subplots(8, 3, figsize=(30, 40))\n",
        "colours = ['m', 'b', 'g', 'y','c','m','b','r']\n",
        "\n",
        "count = 0\n",
        "for var in songNumData:\n",
        "    sb.boxplot(data = songNumData[var], orient = \"h\", ax = axes[count,0], color=colours[count])\n",
        "    sb.histplot(data = songNumData[var], ax = axes[count,1], color=colours[count])\n",
        "    sb.violinplot(data = songNumData[var], orient = \"h\", ax = axes[count,2], color=colours[count])\n",
        "    count += 1"
      ],
      "metadata": {
        "id": "GlYMxwGtKSw5",
        "colab": {
          "base_uri": "https://localhost:8080/",
          "height": 1000
        },
        "outputId": "2d354bc3-d5e1-4484-d642-2346fa4b84b7"
      },
      "execution_count": null,
      "outputs": [
        {
          "output_type": "display_data",
          "data": {
            "text/plain": [
              "<Figure size 2160x2880 with 24 Axes>"
            ],
            "image/png": "[encoded data removed]"
          },
          "metadata": {
            "needs_background": "light"
          }
        }
      ]
    },
    {
      "cell_type": "markdown",
      "source": [
        "## **Remove Outliers: Popularity**\n",
        "\n",
        "### The distribution of values in the sample of popularity seems Gaussian-like, so we used the IQR of the sample as a cut-off for identifying outliers."
      ],
      "metadata": {
        "id": "uNyou1DCK-Xh"
      }
    },
    {
      "cell_type": "code",
      "source": [
        "#Calculate Mean and IQR\n",
        "mean_popularity = songNumData['popularity'].mean()\n",
        "Q1 = songNumData['popularity'].quantile(0.25)\n",
        "Q3 = songNumData['popularity'].quantile(0.75)\n",
        "IQR = Q3 - Q1\n",
        "print(\"Mean: \", mean_popularity)\n",
        "print(\"IQR: \", IQR)\n",
        "\n",
        "#Calculate outliers (if data<(Q1-1.5*IQR) or data>(Q3+1.5*IQR))\n",
        "lower = Q1-1.5*IQR\n",
        "upper = Q3+1.5*IQR\n",
        "print(\"Upper bound: \", upper)\n",
        "print(\"Lower bound:\", lower)"
      ],
      "metadata": {
        "id": "p-8u0F0rLFSw",
        "colab": {
          "base_uri": "https://localhost:8080/"
        },
        "outputId": "40fa1dfd-5d5d-465e-b04d-45eee9c461b0"
      },
      "execution_count": null,
      "outputs": [
        {
          "output_type": "stream",
          "name": "stdout",
          "text": [
            "Mean:  72.09102402022756\n",
            "IQR:  11.0\n",
            "Upper bound:  101.5\n",
            "Lower bound: 57.5\n"
          ]
        }
      ]
    },
    {
      "cell_type": "markdown",
      "source": [
        "###**Remove outliers according to the upper and lower bound**"
      ],
      "metadata": {
        "id": "CmdqMuCqNM9x"
      }
    },
    {
      "cell_type": "code",
      "source": [
        "# Rule to identify outliers\n",
        "rule = ((songNumData['popularity'] < lower) | (songNumData['popularity']  >  upper))\n",
        "\n",
        "# Count the number of outliers\n",
        "print(\"Number of outliers in popularity:\")\n",
        "rule.sum()"
      ],
      "metadata": {
        "id": "Xfr3sGSwNLiU",
        "colab": {
          "base_uri": "https://localhost:8080/"
        },
        "outputId": "c5816afb-b009-4974-c83e-bb5d1dc38009"
      },
      "execution_count": null,
      "outputs": [
        {
          "output_type": "stream",
          "name": "stdout",
          "text": [
            "Number of outliers in popularity:\n"
          ]
        },
        {
          "output_type": "execute_result",
          "data": {
            "text/plain": [
              "103"
            ]
          },
          "metadata": {},
          "execution_count": 19
        }
      ]
    },
    {
      "cell_type": "code",
      "source": [
        "# Indices or rows corresponding to outleirs\n",
        "outlierindices = rule.index[rule == True]\n",
        "outlierindices"
      ],
      "metadata": {
        "id": "oFkeIKTiOfQU",
        "colab": {
          "base_uri": "https://localhost:8080/"
        },
        "outputId": "d86cb1cf-90f7-4ebd-d9f9-426bc37f3e5a"
      },
      "execution_count": null,
      "outputs": [
        {
          "output_type": "execute_result",
          "data": {
            "text/plain": [
              "Int64Index([  5,   6,   9,  15,  27,  39,  43,  45,  48,  51,\n",
              "            ...\n",
              "            475, 482, 544, 551, 567, 602, 609, 610, 678, 775],\n",
              "           dtype='int64', length=103)"
            ]
          },
          "metadata": {},
          "execution_count": 20
        }
      ]
    },
    {
      "cell_type": "code",
      "source": [
        "# Remove the outliers based on the row indices obtained above\n",
        "newSongDf.drop(axis = 0,               # 0 drops row 1 drops column\n",
        "                index = outlierindices, # this takes a list as input\n",
        "                inplace = True)         # not overwritten by default \n",
        "\n",
        "# Check the clean data\n",
        "newSongDf"
      ],
      "metadata": {
        "id": "02ccXW4XPglX",
        "colab": {
          "base_uri": "https://localhost:8080/",
          "height": 676
        },
        "outputId": "c9510cab-1586-4b24-fc4d-e53d1d6b4c1b"
      },
      "execution_count": null,
      "outputs": [
        {
          "output_type": "execute_result",
          "data": {
            "text/plain": [
              "                   track_id                       title  \\\n",
              "0    7qiZfU4dY1lWllzX7mPBI3                Shape of You   \n",
              "1    0VjIjW4GlUZAMYd2vXMi3b             Blinding Lights   \n",
              "2    1rgnBhdG2JDFTbYkYRZAku                Dance Monkey   \n",
              "3    0e7ipj03S05BNilyu5bRzt  rockstar (feat. 21 Savage)   \n",
              "4    7qEHsqek33rTcFNT9PFqLf           Someone You Loved   \n",
              "..                      ...                         ...   \n",
              "786  4EWCNWgDS8707fNSZ1oaA5                   Heartless   \n",
              "787  67iAlVNDDdddxqSD2EZhFs    I'm Gonna Be (500 Miles)   \n",
              "788  1dGr1c8CrMLDpV6mPbImSI                       Lover   \n",
              "789  2iUmqdfGZcHIhS3b9E9EWq             Everybody Talks   \n",
              "790  4DpNNXFMMxQEKl7r0ykkWA                   Play Date   \n",
              "\n",
              "                                track_uri       artist_name  \\\n",
              "0    spotify:track:7qiZfU4dY1lWllzX7mPBI3        Ed Sheeran   \n",
              "1    spotify:track:0VjIjW4GlUZAMYd2vXMi3b        The Weeknd   \n",
              "2    spotify:track:1rgnBhdG2JDFTbYkYRZAku       Tones And I   \n",
              "3    spotify:track:0e7ipj03S05BNilyu5bRzt       Post Malone   \n",
              "4    spotify:track:7qEHsqek33rTcFNT9PFqLf     Lewis Capaldi   \n",
              "..                                    ...               ...   \n",
              "786  spotify:track:4EWCNWgDS8707fNSZ1oaA5        Kanye West   \n",
              "787  spotify:track:67iAlVNDDdddxqSD2EZhFs   The Proclaimers   \n",
              "788  spotify:track:1dGr1c8CrMLDpV6mPbImSI      Taylor Swift   \n",
              "789  spotify:track:2iUmqdfGZcHIhS3b9E9EWq        Neon Trees   \n",
              "790  spotify:track:4DpNNXFMMxQEKl7r0ykkWA  Melanie Martinez   \n",
              "\n",
              "     artist popularity                                      artist_genres  \\\n",
              "0                   96                                  ['pop', 'uk pop']   \n",
              "1                   97  ['canadian contemporary r&b', 'canadian pop', ...   \n",
              "2                   78                          ['australian pop', 'pop']   \n",
              "3                   91                  ['dfw rap', 'melodic rap', 'rap']   \n",
              "4                   82                                  ['pop', 'uk pop']   \n",
              "..                 ...                                                ...   \n",
              "786                 96                             ['chicago rap', 'rap']   \n",
              "787                 65                   ['celtic rock', 'scottish rock']   \n",
              "788                 98                                            ['pop']   \n",
              "789                 71  ['modern alternative rock', 'modern rock', 'po...   \n",
              "790                 83                     ['alt z', 'electropop', 'pop']   \n",
              "\n",
              "                                       album speech  \\\n",
              "0                                 ÷ (Deluxe)  Words   \n",
              "1                                After Hours  Words   \n",
              "2                               Dance Monkey  Words   \n",
              "3                       beerbongs & bentleys  Words   \n",
              "4    Divinely Uninspired To A Hellish Extent  Words   \n",
              "..                                       ...    ...   \n",
              "786                        808s & Heartbreak  Words   \n",
              "787                        Sunshine on Leith  Words   \n",
              "788                                    Lover  Words   \n",
              "789                             Picture Show  Words   \n",
              "790                Cry Baby (Deluxe Edition)  Words   \n",
              "\n",
              "                   track_name_y  danceability instrumental  energy  \\\n",
              "0                  Shape of You         0.825        Vocal   0.652   \n",
              "1               Blinding Lights         0.514        Vocal   0.730   \n",
              "2                  Dance Monkey         0.826        Vocal   0.593   \n",
              "3    rockstar (feat. 21 Savage)         0.585        Vocal   0.520   \n",
              "4             Someone You Loved         0.501        Vocal   0.405   \n",
              "..                          ...           ...          ...     ...   \n",
              "786                   Heartless         0.790        Vocal   0.647   \n",
              "787    I'm Gonna Be (500 Miles)         0.851        Vocal   0.551   \n",
              "788                       Lover         0.359        Vocal   0.543   \n",
              "789             Everybody Talks         0.471        Vocal   0.924   \n",
              "790                   Play Date         0.680        Vocal   0.729   \n",
              "\n",
              "    live performance    tempo  loudness  valence  acousticness  popularity  \\\n",
              "0                 No   95.977    -3.183    0.931       0.58100          89   \n",
              "1                 No  171.005    -5.934    0.334       0.00146          95   \n",
              "2                 No   98.083    -6.401    0.541       0.68800          68   \n",
              "3                 No  159.801    -6.136    0.129       0.12400          88   \n",
              "4                 No  109.891    -5.679    0.446       0.75100          90   \n",
              "..               ...      ...       ...      ...           ...         ...   \n",
              "786               No   87.999    -5.983    0.654       0.05150          87   \n",
              "787               No  131.922    -5.177    0.807       0.15100          76   \n",
              "788               No   68.534    -7.582    0.453       0.49200          87   \n",
              "789               No  154.961    -3.906    0.725       0.00301          85   \n",
              "790               No  123.970    -5.077    0.446       0.61200          84   \n",
              "\n",
              "    popularity_categorical  \n",
              "0                  Popular  \n",
              "1                  Popular  \n",
              "2              Not Popular  \n",
              "3                  Popular  \n",
              "4                  Popular  \n",
              "..                     ...  \n",
              "786                Popular  \n",
              "787            Not Popular  \n",
              "788                Popular  \n",
              "789                Popular  \n",
              "790                Popular  \n",
              "\n",
              "[688 rows x 19 columns]"
            ],
            "text/html": [
              "\n",
              "  <div id=\"df-30fd4e8e-d242-4858-b991-9d49f0a4d3b9\">\n",
              "    <div class=\"colab-df-container\">\n",
              "      <div>\n",
              "<style scoped>\n",
              "    .dataframe tbody tr th:only-of-type {\n",
              "        vertical-align: middle;\n",
              "    }\n",
              "\n",
              "    .dataframe tbody tr th {\n",
              "        vertical-align: top;\n",
              "    }\n",
              "\n",
              "    .dataframe thead th {\n",
              "        text-align: right;\n",
              "    }\n",
              "</style>\n",
              "<table border=\"1\" class=\"dataframe\">\n",
              "  <thead>\n",
              "    <tr style=\"text-align: right;\">\n",
              "      <th></th>\n",
              "      <th>track_id</th>\n",
              "      <th>title</th>\n",
              "      <th>track_uri</th>\n",
              "      <th>artist_name</th>\n",
              "      <th>artist popularity</th>\n",
              "      <th>artist_genres</th>\n",
              "      <th>album</th>\n",
              "      <th>speech</th>\n",
              "      <th>track_name_y</th>\n",
              "      <th>danceability</th>\n",
              "      <th>instrumental</th>\n",
              "      <th>energy</th>\n",
              "      <th>live performance</th>\n",
              "      <th>tempo</th>\n",
              "      <th>loudness</th>\n",
              "      <th>valence</th>\n",
              "      <th>acousticness</th>\n",
              "      <th>popularity</th>\n",
              "      <th>popularity_categorical</th>\n",
              "    </tr>\n",
              "  </thead>\n",
              "  <tbody>\n",
              "    <tr>\n",
              "      <th>0</th>\n",
              "      <td>7qiZfU4dY1lWllzX7mPBI3</td>\n",
              "      <td>Shape of You</td>\n",
              "      <td>spotify:track:7qiZfU4dY1lWllzX7mPBI3</td>\n",
              "      <td>Ed Sheeran</td>\n",
              "      <td>96</td>\n",
              "      <td>['pop', 'uk pop']</td>\n",
              "      <td>÷ (Deluxe)</td>\n",
              "      <td>Words</td>\n",
              "      <td>Shape of You</td>\n",
              "      <td>0.825</td>\n",
              "      <td>Vocal</td>\n",
              "      <td>0.652</td>\n",
              "      <td>No</td>\n",
              "      <td>95.977</td>\n",
              "      <td>-3.183</td>\n",
              "      <td>0.931</td>\n",
              "      <td>0.58100</td>\n",
              "      <td>89</td>\n",
              "      <td>Popular</td>\n",
              "    </tr>\n",
              "    <tr>\n",
              "      <th>1</th>\n",
              "      <td>0VjIjW4GlUZAMYd2vXMi3b</td>\n",
              "      <td>Blinding Lights</td>\n",
              "      <td>spotify:track:0VjIjW4GlUZAMYd2vXMi3b</td>\n",
              "      <td>The Weeknd</td>\n",
              "      <td>97</td>\n",
              "      <td>['canadian contemporary r&amp;b', 'canadian pop', ...</td>\n",
              "      <td>After Hours</td>\n",
              "      <td>Words</td>\n",
              "      <td>Blinding Lights</td>\n",
              "      <td>0.514</td>\n",
              "      <td>Vocal</td>\n",
              "      <td>0.730</td>\n",
              "      <td>No</td>\n",
              "      <td>171.005</td>\n",
              "      <td>-5.934</td>\n",
              "      <td>0.334</td>\n",
              "      <td>0.00146</td>\n",
              "      <td>95</td>\n",
              "      <td>Popular</td>\n",
              "    </tr>\n",
              "    <tr>\n",
              "      <th>2</th>\n",
              "      <td>1rgnBhdG2JDFTbYkYRZAku</td>\n",
              "      <td>Dance Monkey</td>\n",
              "      <td>spotify:track:1rgnBhdG2JDFTbYkYRZAku</td>\n",
              "      <td>Tones And I</td>\n",
              "      <td>78</td>\n",
              "      <td>['australian pop', 'pop']</td>\n",
              "      <td>Dance Monkey</td>\n",
              "      <td>Words</td>\n",
              "      <td>Dance Monkey</td>\n",
              "      <td>0.826</td>\n",
              "      <td>Vocal</td>\n",
              "      <td>0.593</td>\n",
              "      <td>No</td>\n",
              "      <td>98.083</td>\n",
              "      <td>-6.401</td>\n",
              "      <td>0.541</td>\n",
              "      <td>0.68800</td>\n",
              "      <td>68</td>\n",
              "      <td>Not Popular</td>\n",
              "    </tr>\n",
              "    <tr>\n",
              "      <th>3</th>\n",
              "      <td>0e7ipj03S05BNilyu5bRzt</td>\n",
              "      <td>rockstar (feat. 21 Savage)</td>\n",
              "      <td>spotify:track:0e7ipj03S05BNilyu5bRzt</td>\n",
              "      <td>Post Malone</td>\n",
              "      <td>91</td>\n",
              "      <td>['dfw rap', 'melodic rap', 'rap']</td>\n",
              "      <td>beerbongs &amp; bentleys</td>\n",
              "      <td>Words</td>\n",
              "      <td>rockstar (feat. 21 Savage)</td>\n",
              "      <td>0.585</td>\n",
              "      <td>Vocal</td>\n",
              "      <td>0.520</td>\n",
              "      <td>No</td>\n",
              "      <td>159.801</td>\n",
              "      <td>-6.136</td>\n",
              "      <td>0.129</td>\n",
              "      <td>0.12400</td>\n",
              "      <td>88</td>\n",
              "      <td>Popular</td>\n",
              "    </tr>\n",
              "    <tr>\n",
              "      <th>4</th>\n",
              "      <td>7qEHsqek33rTcFNT9PFqLf</td>\n",
              "      <td>Someone You Loved</td>\n",
              "      <td>spotify:track:7qEHsqek33rTcFNT9PFqLf</td>\n",
              "      <td>Lewis Capaldi</td>\n",
              "      <td>82</td>\n",
              "      <td>['pop', 'uk pop']</td>\n",
              "      <td>Divinely Uninspired To A Hellish Extent</td>\n",
              "      <td>Words</td>\n",
              "      <td>Someone You Loved</td>\n",
              "      <td>0.501</td>\n",
              "      <td>Vocal</td>\n",
              "      <td>0.405</td>\n",
              "      <td>No</td>\n",
              "      <td>109.891</td>\n",
              "      <td>-5.679</td>\n",
              "      <td>0.446</td>\n",
              "      <td>0.75100</td>\n",
              "      <td>90</td>\n",
              "      <td>Popular</td>\n",
              "    </tr>\n",
              "    <tr>\n",
              "      <th>...</th>\n",
              "      <td>...</td>\n",
              "      <td>...</td>\n",
              "      <td>...</td>\n",
              "      <td>...</td>\n",
              "      <td>...</td>\n",
              "      <td>...</td>\n",
              "      <td>...</td>\n",
              "      <td>...</td>\n",
              "      <td>...</td>\n",
              "      <td>...</td>\n",
              "      <td>...</td>\n",
              "      <td>...</td>\n",
              "      <td>...</td>\n",
              "      <td>...</td>\n",
              "      <td>...</td>\n",
              "      <td>...</td>\n",
              "      <td>...</td>\n",
              "      <td>...</td>\n",
              "      <td>...</td>\n",
              "    </tr>\n",
              "    <tr>\n",
              "      <th>786</th>\n",
              "      <td>4EWCNWgDS8707fNSZ1oaA5</td>\n",
              "      <td>Heartless</td>\n",
              "      <td>spotify:track:4EWCNWgDS8707fNSZ1oaA5</td>\n",
              "      <td>Kanye West</td>\n",
              "      <td>96</td>\n",
              "      <td>['chicago rap', 'rap']</td>\n",
              "      <td>808s &amp; Heartbreak</td>\n",
              "      <td>Words</td>\n",
              "      <td>Heartless</td>\n",
              "      <td>0.790</td>\n",
              "      <td>Vocal</td>\n",
              "      <td>0.647</td>\n",
              "      <td>No</td>\n",
              "      <td>87.999</td>\n",
              "      <td>-5.983</td>\n",
              "      <td>0.654</td>\n",
              "      <td>0.05150</td>\n",
              "      <td>87</td>\n",
              "      <td>Popular</td>\n",
              "    </tr>\n",
              "    <tr>\n",
              "      <th>787</th>\n",
              "      <td>67iAlVNDDdddxqSD2EZhFs</td>\n",
              "      <td>I'm Gonna Be (500 Miles)</td>\n",
              "      <td>spotify:track:67iAlVNDDdddxqSD2EZhFs</td>\n",
              "      <td>The Proclaimers</td>\n",
              "      <td>65</td>\n",
              "      <td>['celtic rock', 'scottish rock']</td>\n",
              "      <td>Sunshine on Leith</td>\n",
              "      <td>Words</td>\n",
              "      <td>I'm Gonna Be (500 Miles)</td>\n",
              "      <td>0.851</td>\n",
              "      <td>Vocal</td>\n",
              "      <td>0.551</td>\n",
              "      <td>No</td>\n",
              "      <td>131.922</td>\n",
              "      <td>-5.177</td>\n",
              "      <td>0.807</td>\n",
              "      <td>0.15100</td>\n",
              "      <td>76</td>\n",
              "      <td>Not Popular</td>\n",
              "    </tr>\n",
              "    <tr>\n",
              "      <th>788</th>\n",
              "      <td>1dGr1c8CrMLDpV6mPbImSI</td>\n",
              "      <td>Lover</td>\n",
              "      <td>spotify:track:1dGr1c8CrMLDpV6mPbImSI</td>\n",
              "      <td>Taylor Swift</td>\n",
              "      <td>98</td>\n",
              "      <td>['pop']</td>\n",
              "      <td>Lover</td>\n",
              "      <td>Words</td>\n",
              "      <td>Lover</td>\n",
              "      <td>0.359</td>\n",
              "      <td>Vocal</td>\n",
              "      <td>0.543</td>\n",
              "      <td>No</td>\n",
              "      <td>68.534</td>\n",
              "      <td>-7.582</td>\n",
              "      <td>0.453</td>\n",
              "      <td>0.49200</td>\n",
              "      <td>87</td>\n",
              "      <td>Popular</td>\n",
              "    </tr>\n",
              "    <tr>\n",
              "      <th>789</th>\n",
              "      <td>2iUmqdfGZcHIhS3b9E9EWq</td>\n",
              "      <td>Everybody Talks</td>\n",
              "      <td>spotify:track:2iUmqdfGZcHIhS3b9E9EWq</td>\n",
              "      <td>Neon Trees</td>\n",
              "      <td>71</td>\n",
              "      <td>['modern alternative rock', 'modern rock', 'po...</td>\n",
              "      <td>Picture Show</td>\n",
              "      <td>Words</td>\n",
              "      <td>Everybody Talks</td>\n",
              "      <td>0.471</td>\n",
              "      <td>Vocal</td>\n",
              "      <td>0.924</td>\n",
              "      <td>No</td>\n",
              "      <td>154.961</td>\n",
              "      <td>-3.906</td>\n",
              "      <td>0.725</td>\n",
              "      <td>0.00301</td>\n",
              "      <td>85</td>\n",
              "      <td>Popular</td>\n",
              "    </tr>\n",
              "    <tr>\n",
              "      <th>790</th>\n",
              "      <td>4DpNNXFMMxQEKl7r0ykkWA</td>\n",
              "      <td>Play Date</td>\n",
              "      <td>spotify:track:4DpNNXFMMxQEKl7r0ykkWA</td>\n",
              "      <td>Melanie Martinez</td>\n",
              "      <td>83</td>\n",
              "      <td>['alt z', 'electropop', 'pop']</td>\n",
              "      <td>Cry Baby (Deluxe Edition)</td>\n",
              "      <td>Words</td>\n",
              "      <td>Play Date</td>\n",
              "      <td>0.680</td>\n",
              "      <td>Vocal</td>\n",
              "      <td>0.729</td>\n",
              "      <td>No</td>\n",
              "      <td>123.970</td>\n",
              "      <td>-5.077</td>\n",
              "      <td>0.446</td>\n",
              "      <td>0.61200</td>\n",
              "      <td>84</td>\n",
              "      <td>Popular</td>\n",
              "    </tr>\n",
              "  </tbody>\n",
              "</table>\n",
              "<p>688 rows × 19 columns</p>\n",
              "</div>\n",
              "      <button class=\"colab-df-convert\" onclick=\"convertToInteractive('df-30fd4e8e-d242-4858-b991-9d49f0a4d3b9')\"\n",
              "              title=\"Convert this dataframe to an interactive table.\"\n",
              "              style=\"display:none;\">\n",
              "        \n",
              "  <svg xmlns=\"http://www.w3.org/2000/svg\" height=\"24px\"viewBox=\"0 0 24 24\"\n",
              "       width=\"24px\">\n",
              "    <path d=\"M0 0h24v24H0V0z\" fill=\"none\"/>\n",
              "    <path d=\"M18.56 5.44l.94 2.06.94-2.06 2.06-.94-2.06-.94-.94-2.06-.94 2.06-2.06.94zm-11 1L8.5 8.5l.94-2.06 2.06-.94-2.06-.94L8.5 2.5l-.94 2.06-2.06.94zm10 10l.94 2.06.94-2.06 2.06-.94-2.06-.94-.94-2.06-.94 2.06-2.06.94z\"/><path d=\"M17.41 7.96l-1.37-1.37c-.4-.4-.92-.59-1.43-.59-.52 0-1.04.2-1.43.59L10.3 9.45l-7.72 7.72c-.78.78-.78 2.05 0 2.83L4 21.41c.39.39.9.59 1.41.59.51 0 1.02-.2 1.41-.59l7.78-7.78 2.81-2.81c.8-.78.8-2.07 0-2.86zM5.41 20L4 18.59l7.72-7.72 1.47 1.35L5.41 20z\"/>\n",
              "  </svg>\n",
              "      </button>\n",
              "      \n",
              "  <style>\n",
              "    .colab-df-container {\n",
              "      display:flex;\n",
              "      flex-wrap:wrap;\n",
              "      gap: 12px;\n",
              "    }\n",
              "\n",
              "    .colab-df-convert {\n",
              "      background-color: #E8F0FE;\n",
              "      border: none;\n",
              "      border-radius: 50%;\n",
              "      cursor: pointer;\n",
              "      display: none;\n",
              "      fill: #1967D2;\n",
              "      height: 32px;\n",
              "      padding: 0 0 0 0;\n",
              "      width: 32px;\n",
              "    }\n",
              "\n",
              "    .colab-df-convert:hover {\n",
              "      background-color: #E2EBFA;\n",
              "      box-shadow: 0px 1px 2px rgba(60, 64, 67, 0.3), 0px 1px 3px 1px rgba(60, 64, 67, 0.15);\n",
              "      fill: #174EA6;\n",
              "    }\n",
              "\n",
              "    [theme=dark] .colab-df-convert {\n",
              "      background-color: #3B4455;\n",
              "      fill: #D2E3FC;\n",
              "    }\n",
              "\n",
              "    [theme=dark] .colab-df-convert:hover {\n",
              "      background-color: #434B5C;\n",
              "      box-shadow: 0px 1px 3px 1px rgba(0, 0, 0, 0.15);\n",
              "      filter: drop-shadow(0px 1px 2px rgba(0, 0, 0, 0.3));\n",
              "      fill: #FFFFFF;\n",
              "    }\n",
              "  </style>\n",
              "\n",
              "      <script>\n",
              "        const buttonEl =\n",
              "          document.querySelector('#df-30fd4e8e-d242-4858-b991-9d49f0a4d3b9 button.colab-df-convert');\n",
              "        buttonEl.style.display =\n",
              "          google.colab.kernel.accessAllowed ? 'block' : 'none';\n",
              "\n",
              "        async function convertToInteractive(key) {\n",
              "          const element = document.querySelector('#df-30fd4e8e-d242-4858-b991-9d49f0a4d3b9');\n",
              "          const dataTable =\n",
              "            await google.colab.kernel.invokeFunction('convertToInteractive',\n",
              "                                                     [key], {});\n",
              "          if (!dataTable) return;\n",
              "\n",
              "          const docLinkHtml = 'Like what you see? Visit the ' +\n",
              "            '<a target=\"_blank\" href=https://colab.research.google.com/notebooks/data_table.ipynb>data table notebook</a>'\n",
              "            + ' to learn more about interactive tables.';\n",
              "          element.innerHTML = '';\n",
              "          dataTable['output_type'] = 'display_data';\n",
              "          await google.colab.output.renderOutput(dataTable, element);\n",
              "          const docLink = document.createElement('div');\n",
              "          docLink.innerHTML = docLinkHtml;\n",
              "          element.appendChild(docLink);\n",
              "        }\n",
              "      </script>\n",
              "    </div>\n",
              "  </div>\n",
              "  "
            ]
          },
          "metadata": {},
          "execution_count": 21
        }
      ]
    },
    {
      "cell_type": "markdown",
      "source": [
        "## **Visualise plot after removing outliers**"
      ],
      "metadata": {
        "id": "Kyu6JIFuWt96"
      }
    },
    {
      "cell_type": "code",
      "source": [
        "f, axes = plt.subplots(1, 3, figsize=(30, 10))\n",
        "songNumData = pd.DataFrame(newSongDf[['danceability', 'energy', 'loudness', 'acousticness', 'valence','tempo','artist popularity','popularity']])\n",
        "sb.boxplot(data = songNumData['popularity'], orient = \"h\", ax = axes[0], color='y')\n",
        "sb.histplot(data = songNumData['popularity'], ax = axes[1], color='y')\n",
        "sb.violinplot(data = songNumData['popularity'], orient = \"h\", ax = axes[2], color='y')"
      ],
      "metadata": {
        "id": "LaqeSgoVWoHD",
        "colab": {
          "base_uri": "https://localhost:8080/",
          "height": 628
        },
        "outputId": "1a7c11a0-4634-4c7f-c74e-d1a950361e99"
      },
      "execution_count": null,
      "outputs": [
        {
          "output_type": "execute_result",
          "data": {
            "text/plain": [
              "<matplotlib.axes._subplots.AxesSubplot at 0x7f182d528cd0>"
            ]
          },
          "metadata": {},
          "execution_count": 22
        },
        {
          "output_type": "display_data",
          "data": {
            "text/plain": [
              "<Figure size 2160x720 with 3 Axes>"
            ],
            "image/png": "[encoded data removed]"
          },
          "metadata": {
            "needs_background": "light"
          }
        }
      ]
    },
    {
      "cell_type": "markdown",
      "source": [
        "# **Prepare the same OHE data as the decision tree classification**"
      ],
      "metadata": {
        "id": "tCjmdASKIO7P"
      }
    },
    {
      "cell_type": "code",
      "source": [
        "from sklearn.preprocessing import LabelEncoder\n",
        "le = LabelEncoder()"
      ],
      "metadata": {
        "id": "2y22KkOuKZ90"
      },
      "execution_count": null,
      "outputs": []
    },
    {
      "cell_type": "code",
      "source": [
        "from sklearn.preprocessing import OneHotEncoder\n",
        "ohe = OneHotEncoder()\n",
        "\n",
        "# OneHotEncoding of categorical predictors \n",
        "# Recall that songCatData = pd.DataFrame(newSongDf[['speech', 'instrumental']])\n",
        "\n",
        "ohe.fit(songCatData)\n",
        "song_cat_ohe = pd.DataFrame(ohe.transform(songCatData).toarray(), \n",
        "                                  columns=ohe.get_feature_names_out(songCatData.columns))\n",
        "\n",
        "# Check the encoded variables\n",
        "song_cat_ohe.info()"
      ],
      "metadata": {
        "id": "qBWr3KRW0_0S",
        "colab": {
          "base_uri": "https://localhost:8080/"
        },
        "outputId": "f1148e65-4cb9-4042-8633-cccbb4552282"
      },
      "execution_count": null,
      "outputs": [
        {
          "output_type": "stream",
          "name": "stdout",
          "text": [
            "<class 'pandas.core.frame.DataFrame'>\n",
            "RangeIndex: 791 entries, 0 to 790\n",
            "Data columns (total 4 columns):\n",
            " #   Column                  Non-Null Count  Dtype  \n",
            "---  ------                  --------------  -----  \n",
            " 0   speech_Mix              791 non-null    float64\n",
            " 1   speech_Words            791 non-null    float64\n",
            " 2   instrumental_No Vocals  791 non-null    float64\n",
            " 3   instrumental_Vocal      791 non-null    float64\n",
            "dtypes: float64(4)\n",
            "memory usage: 24.8 KB\n"
          ]
        }
      ]
    },
    {
      "cell_type": "markdown",
      "source": [
        "### **Combine numerical data with the OHE categorical variables**"
      ],
      "metadata": {
        "id": "EtpH9jkyIYeQ"
      }
    },
    {
      "cell_type": "code",
      "source": [
        "#Recall that numerical data are stored in songNumData = pd.DataFrame(newSongDf[['danceability', 'energy', 'loudness', 'acousticness', 'valence','tempo','artist popularity']])\n",
        "\n",
        "# Extrat songNumData after removing outleirs\n",
        "songNumData = pd.DataFrame(newSongDf[['danceability', 'energy', 'loudness', 'acousticness', 'valence','tempo','artist popularity','popularity']])\n",
        "\n",
        "# Extract response variable\n",
        "popularity_response = newSongDf['popularity_categorical']\n",
        "songData_ohe = pd.concat([songNumData, song_cat_ohe, popularity_response], \n",
        "                           sort = False, axis = 1).reindex(index=songNumData.index)\n",
        "\n",
        "# Check the final dataframe\n",
        "songData_ohe.info()"
      ],
      "metadata": {
        "id": "_aTe-McA1EPw",
        "colab": {
          "base_uri": "https://localhost:8080/"
        },
        "outputId": "d9c6973e-9f49-4c85-fdc6-a8c05b7bade8"
      },
      "execution_count": null,
      "outputs": [
        {
          "output_type": "stream",
          "name": "stdout",
          "text": [
            "<class 'pandas.core.frame.DataFrame'>\n",
            "Int64Index: 688 entries, 0 to 790\n",
            "Data columns (total 13 columns):\n",
            " #   Column                  Non-Null Count  Dtype   \n",
            "---  ------                  --------------  -----   \n",
            " 0   danceability            688 non-null    float64 \n",
            " 1   energy                  688 non-null    float64 \n",
            " 2   loudness                688 non-null    float64 \n",
            " 3   acousticness            688 non-null    float64 \n",
            " 4   valence                 688 non-null    float64 \n",
            " 5   tempo                   688 non-null    float64 \n",
            " 6   artist popularity       688 non-null    float64 \n",
            " 7   popularity              688 non-null    float64 \n",
            " 8   speech_Mix              688 non-null    float64 \n",
            " 9   speech_Words            688 non-null    float64 \n",
            " 10  instrumental_No Vocals  688 non-null    float64 \n",
            " 11  instrumental_Vocal      688 non-null    float64 \n",
            " 12  popularity_categorical  688 non-null    category\n",
            "dtypes: category(1), float64(12)\n",
            "memory usage: 86.8 KB\n"
          ]
        }
      ]
    },
    {
      "cell_type": "code",
      "source": [
        "songData_ohe"
      ],
      "metadata": {
        "id": "BDHgNkijJlPO",
        "colab": {
          "base_uri": "https://localhost:8080/",
          "height": 423
        },
        "outputId": "47eb3ae3-08de-440f-c4d2-cd2e660fe1fa"
      },
      "execution_count": null,
      "outputs": [
        {
          "output_type": "execute_result",
          "data": {
            "text/plain": [
              "     danceability  energy  loudness  acousticness  valence    tempo  \\\n",
              "0           0.825   0.652    -3.183       0.58100    0.931   95.977   \n",
              "1           0.514   0.730    -5.934       0.00146    0.334  171.005   \n",
              "2           0.826   0.593    -6.401       0.68800    0.541   98.083   \n",
              "3           0.585   0.520    -6.136       0.12400    0.129  159.801   \n",
              "4           0.501   0.405    -5.679       0.75100    0.446  109.891   \n",
              "..            ...     ...       ...           ...      ...      ...   \n",
              "786         0.790   0.647    -5.983       0.05150    0.654   87.999   \n",
              "787         0.851   0.551    -5.177       0.15100    0.807  131.922   \n",
              "788         0.359   0.543    -7.582       0.49200    0.453   68.534   \n",
              "789         0.471   0.924    -3.906       0.00301    0.725  154.961   \n",
              "790         0.680   0.729    -5.077       0.61200    0.446  123.970   \n",
              "\n",
              "     artist popularity  popularity  speech_Mix  speech_Words  \\\n",
              "0                 96.0        89.0         0.0           1.0   \n",
              "1                 97.0        95.0         0.0           1.0   \n",
              "2                 78.0        68.0         0.0           1.0   \n",
              "3                 91.0        88.0         0.0           1.0   \n",
              "4                 82.0        90.0         0.0           1.0   \n",
              "..                 ...         ...         ...           ...   \n",
              "786               96.0        87.0         0.0           1.0   \n",
              "787               65.0        76.0         0.0           1.0   \n",
              "788               98.0        87.0         0.0           1.0   \n",
              "789               71.0        85.0         0.0           1.0   \n",
              "790               83.0        84.0         0.0           1.0   \n",
              "\n",
              "     instrumental_No Vocals  instrumental_Vocal popularity_categorical  \n",
              "0                       0.0                 1.0                Popular  \n",
              "1                       0.0                 1.0                Popular  \n",
              "2                       0.0                 1.0            Not Popular  \n",
              "3                       0.0                 1.0                Popular  \n",
              "4                       0.0                 1.0                Popular  \n",
              "..                      ...                 ...                    ...  \n",
              "786                     0.0                 1.0                Popular  \n",
              "787                     0.0                 1.0            Not Popular  \n",
              "788                     0.0                 1.0                Popular  \n",
              "789                     0.0                 1.0                Popular  \n",
              "790                     0.0                 1.0                Popular  \n",
              "\n",
              "[688 rows x 13 columns]"
            ],
            "text/html": [
              "\n",
              "  <div id=\"df-03ec83f2-4991-45da-99e7-84806165f455\">\n",
              "    <div class=\"colab-df-container\">\n",
              "      <div>\n",
              "<style scoped>\n",
              "    .dataframe tbody tr th:only-of-type {\n",
              "        vertical-align: middle;\n",
              "    }\n",
              "\n",
              "    .dataframe tbody tr th {\n",
              "        vertical-align: top;\n",
              "    }\n",
              "\n",
              "    .dataframe thead th {\n",
              "        text-align: right;\n",
              "    }\n",
              "</style>\n",
              "<table border=\"1\" class=\"dataframe\">\n",
              "  <thead>\n",
              "    <tr style=\"text-align: right;\">\n",
              "      <th></th>\n",
              "      <th>danceability</th>\n",
              "      <th>energy</th>\n",
              "      <th>loudness</th>\n",
              "      <th>acousticness</th>\n",
              "      <th>valence</th>\n",
              "      <th>tempo</th>\n",
              "      <th>artist popularity</th>\n",
              "      <th>popularity</th>\n",
              "      <th>speech_Mix</th>\n",
              "      <th>speech_Words</th>\n",
              "      <th>instrumental_No Vocals</th>\n",
              "      <th>instrumental_Vocal</th>\n",
              "      <th>popularity_categorical</th>\n",
              "    </tr>\n",
              "  </thead>\n",
              "  <tbody>\n",
              "    <tr>\n",
              "      <th>0</th>\n",
              "      <td>0.825</td>\n",
              "      <td>0.652</td>\n",
              "      <td>-3.183</td>\n",
              "      <td>0.58100</td>\n",
              "      <td>0.931</td>\n",
              "      <td>95.977</td>\n",
              "      <td>96.0</td>\n",
              "      <td>89.0</td>\n",
              "      <td>0.0</td>\n",
              "      <td>1.0</td>\n",
              "      <td>0.0</td>\n",
              "      <td>1.0</td>\n",
              "      <td>Popular</td>\n",
              "    </tr>\n",
              "    <tr>\n",
              "      <th>1</th>\n",
              "      <td>0.514</td>\n",
              "      <td>0.730</td>\n",
              "      <td>-5.934</td>\n",
              "      <td>0.00146</td>\n",
              "      <td>0.334</td>\n",
              "      <td>171.005</td>\n",
              "      <td>97.0</td>\n",
              "      <td>95.0</td>\n",
              "      <td>0.0</td>\n",
              "      <td>1.0</td>\n",
              "      <td>0.0</td>\n",
              "      <td>1.0</td>\n",
              "      <td>Popular</td>\n",
              "    </tr>\n",
              "    <tr>\n",
              "      <th>2</th>\n",
              "      <td>0.826</td>\n",
              "      <td>0.593</td>\n",
              "      <td>-6.401</td>\n",
              "      <td>0.68800</td>\n",
              "      <td>0.541</td>\n",
              "      <td>98.083</td>\n",
              "      <td>78.0</td>\n",
              "      <td>68.0</td>\n",
              "      <td>0.0</td>\n",
              "      <td>1.0</td>\n",
              "      <td>0.0</td>\n",
              "      <td>1.0</td>\n",
              "      <td>Not Popular</td>\n",
              "    </tr>\n",
              "    <tr>\n",
              "      <th>3</th>\n",
              "      <td>0.585</td>\n",
              "      <td>0.520</td>\n",
              "      <td>-6.136</td>\n",
              "      <td>0.12400</td>\n",
              "      <td>0.129</td>\n",
              "      <td>159.801</td>\n",
              "      <td>91.0</td>\n",
              "      <td>88.0</td>\n",
              "      <td>0.0</td>\n",
              "      <td>1.0</td>\n",
              "      <td>0.0</td>\n",
              "      <td>1.0</td>\n",
              "      <td>Popular</td>\n",
              "    </tr>\n",
              "    <tr>\n",
              "      <th>4</th>\n",
              "      <td>0.501</td>\n",
              "      <td>0.405</td>\n",
              "      <td>-5.679</td>\n",
              "      <td>0.75100</td>\n",
              "      <td>0.446</td>\n",
              "      <td>109.891</td>\n",
              "      <td>82.0</td>\n",
              "      <td>90.0</td>\n",
              "      <td>0.0</td>\n",
              "      <td>1.0</td>\n",
              "      <td>0.0</td>\n",
              "      <td>1.0</td>\n",
              "      <td>Popular</td>\n",
              "    </tr>\n",
              "    <tr>\n",
              "      <th>...</th>\n",
              "      <td>...</td>\n",
              "      <td>...</td>\n",
              "      <td>...</td>\n",
              "      <td>...</td>\n",
              "      <td>...</td>\n",
              "      <td>...</td>\n",
              "      <td>...</td>\n",
              "      <td>...</td>\n",
              "      <td>...</td>\n",
              "      <td>...</td>\n",
              "      <td>...</td>\n",
              "      <td>...</td>\n",
              "      <td>...</td>\n",
              "    </tr>\n",
              "    <tr>\n",
              "      <th>786</th>\n",
              "      <td>0.790</td>\n",
              "      <td>0.647</td>\n",
              "      <td>-5.983</td>\n",
              "      <td>0.05150</td>\n",
              "      <td>0.654</td>\n",
              "      <td>87.999</td>\n",
              "      <td>96.0</td>\n",
              "      <td>87.0</td>\n",
              "      <td>0.0</td>\n",
              "      <td>1.0</td>\n",
              "      <td>0.0</td>\n",
              "      <td>1.0</td>\n",
              "      <td>Popular</td>\n",
              "    </tr>\n",
              "    <tr>\n",
              "      <th>787</th>\n",
              "      <td>0.851</td>\n",
              "      <td>0.551</td>\n",
              "      <td>-5.177</td>\n",
              "      <td>0.15100</td>\n",
              "      <td>0.807</td>\n",
              "      <td>131.922</td>\n",
              "      <td>65.0</td>\n",
              "      <td>76.0</td>\n",
              "      <td>0.0</td>\n",
              "      <td>1.0</td>\n",
              "      <td>0.0</td>\n",
              "      <td>1.0</td>\n",
              "      <td>Not Popular</td>\n",
              "    </tr>\n",
              "    <tr>\n",
              "      <th>788</th>\n",
              "      <td>0.359</td>\n",
              "      <td>0.543</td>\n",
              "      <td>-7.582</td>\n",
              "      <td>0.49200</td>\n",
              "      <td>0.453</td>\n",
              "      <td>68.534</td>\n",
              "      <td>98.0</td>\n",
              "      <td>87.0</td>\n",
              "      <td>0.0</td>\n",
              "      <td>1.0</td>\n",
              "      <td>0.0</td>\n",
              "      <td>1.0</td>\n",
              "      <td>Popular</td>\n",
              "    </tr>\n",
              "    <tr>\n",
              "      <th>789</th>\n",
              "      <td>0.471</td>\n",
              "      <td>0.924</td>\n",
              "      <td>-3.906</td>\n",
              "      <td>0.00301</td>\n",
              "      <td>0.725</td>\n",
              "      <td>154.961</td>\n",
              "      <td>71.0</td>\n",
              "      <td>85.0</td>\n",
              "      <td>0.0</td>\n",
              "      <td>1.0</td>\n",
              "      <td>0.0</td>\n",
              "      <td>1.0</td>\n",
              "      <td>Popular</td>\n",
              "    </tr>\n",
              "    <tr>\n",
              "      <th>790</th>\n",
              "      <td>0.680</td>\n",
              "      <td>0.729</td>\n",
              "      <td>-5.077</td>\n",
              "      <td>0.61200</td>\n",
              "      <td>0.446</td>\n",
              "      <td>123.970</td>\n",
              "      <td>83.0</td>\n",
              "      <td>84.0</td>\n",
              "      <td>0.0</td>\n",
              "      <td>1.0</td>\n",
              "      <td>0.0</td>\n",
              "      <td>1.0</td>\n",
              "      <td>Popular</td>\n",
              "    </tr>\n",
              "  </tbody>\n",
              "</table>\n",
              "<p>688 rows × 13 columns</p>\n",
              "</div>\n",
              "      <button class=\"colab-df-convert\" onclick=\"convertToInteractive('df-03ec83f2-4991-45da-99e7-84806165f455')\"\n",
              "              title=\"Convert this dataframe to an interactive table.\"\n",
              "              style=\"display:none;\">\n",
              "        \n",
              "  <svg xmlns=\"http://www.w3.org/2000/svg\" height=\"24px\"viewBox=\"0 0 24 24\"\n",
              "       width=\"24px\">\n",
              "    <path d=\"M0 0h24v24H0V0z\" fill=\"none\"/>\n",
              "    <path d=\"M18.56 5.44l.94 2.06.94-2.06 2.06-.94-2.06-.94-.94-2.06-.94 2.06-2.06.94zm-11 1L8.5 8.5l.94-2.06 2.06-.94-2.06-.94L8.5 2.5l-.94 2.06-2.06.94zm10 10l.94 2.06.94-2.06 2.06-.94-2.06-.94-.94-2.06-.94 2.06-2.06.94z\"/><path d=\"M17.41 7.96l-1.37-1.37c-.4-.4-.92-.59-1.43-.59-.52 0-1.04.2-1.43.59L10.3 9.45l-7.72 7.72c-.78.78-.78 2.05 0 2.83L4 21.41c.39.39.9.59 1.41.59.51 0 1.02-.2 1.41-.59l7.78-7.78 2.81-2.81c.8-.78.8-2.07 0-2.86zM5.41 20L4 18.59l7.72-7.72 1.47 1.35L5.41 20z\"/>\n",
              "  </svg>\n",
              "      </button>\n",
              "      \n",
              "  <style>\n",
              "    .colab-df-container {\n",
              "      display:flex;\n",
              "      flex-wrap:wrap;\n",
              "      gap: 12px;\n",
              "    }\n",
              "\n",
              "    .colab-df-convert {\n",
              "      background-color: #E8F0FE;\n",
              "      border: none;\n",
              "      border-radius: 50%;\n",
              "      cursor: pointer;\n",
              "      display: none;\n",
              "      fill: #1967D2;\n",
              "      height: 32px;\n",
              "      padding: 0 0 0 0;\n",
              "      width: 32px;\n",
              "    }\n",
              "\n",
              "    .colab-df-convert:hover {\n",
              "      background-color: #E2EBFA;\n",
              "      box-shadow: 0px 1px 2px rgba(60, 64, 67, 0.3), 0px 1px 3px 1px rgba(60, 64, 67, 0.15);\n",
              "      fill: #174EA6;\n",
              "    }\n",
              "\n",
              "    [theme=dark] .colab-df-convert {\n",
              "      background-color: #3B4455;\n",
              "      fill: #D2E3FC;\n",
              "    }\n",
              "\n",
              "    [theme=dark] .colab-df-convert:hover {\n",
              "      background-color: #434B5C;\n",
              "      box-shadow: 0px 1px 3px 1px rgba(0, 0, 0, 0.15);\n",
              "      filter: drop-shadow(0px 1px 2px rgba(0, 0, 0, 0.3));\n",
              "      fill: #FFFFFF;\n",
              "    }\n",
              "  </style>\n",
              "\n",
              "      <script>\n",
              "        const buttonEl =\n",
              "          document.querySelector('#df-03ec83f2-4991-45da-99e7-84806165f455 button.colab-df-convert');\n",
              "        buttonEl.style.display =\n",
              "          google.colab.kernel.accessAllowed ? 'block' : 'none';\n",
              "\n",
              "        async function convertToInteractive(key) {\n",
              "          const element = document.querySelector('#df-03ec83f2-4991-45da-99e7-84806165f455');\n",
              "          const dataTable =\n",
              "            await google.colab.kernel.invokeFunction('convertToInteractive',\n",
              "                                                     [key], {});\n",
              "          if (!dataTable) return;\n",
              "\n",
              "          const docLinkHtml = 'Like what you see? Visit the ' +\n",
              "            '<a target=\"_blank\" href=https://colab.research.google.com/notebooks/data_table.ipynb>data table notebook</a>'\n",
              "            + ' to learn more about interactive tables.';\n",
              "          element.innerHTML = '';\n",
              "          dataTable['output_type'] = 'display_data';\n",
              "          await google.colab.output.renderOutput(dataTable, element);\n",
              "          const docLink = document.createElement('div');\n",
              "          docLink.innerHTML = docLinkHtml;\n",
              "          element.appendChild(docLink);\n",
              "        }\n",
              "      </script>\n",
              "    </div>\n",
              "  </div>\n",
              "  "
            ]
          },
          "metadata": {},
          "execution_count": 26
        }
      ]
    },
    {
      "cell_type": "markdown",
      "source": [
        "# **Model 3: Random Forest Classification**\n",
        "Given the accurancy in decision tree is not so well, lets try another tree classifier, known as the Random Forest.  \n",
        "\n",
        "Random Forest, like its name implies, consisits of a large number of individual decision trees that operates as an ensemble. Each individual tree in the random forest spits out a class prediction and the class with the most votes becomes our model's prediction. \n",
        " \n",
        "The essense of Random Forest is such that  \n",
        "####_\"A large number of relatively uncorrelated models (trees) operating as a committee will outperform any of the individual constituent models\"_  "
      ],
      "metadata": {
        "id": "QcYUnZ9unzZZ"
      }
    },
    {
      "cell_type": "markdown",
      "source": [
        "## Forest with 100 trees and depth 10"
      ],
      "metadata": {
        "id": "BkHXx0KnG6Qp"
      }
    },
    {
      "cell_type": "code",
      "source": [
        "from sklearn.model_selection import train_test_split\n",
        "\n",
        "# Extract Response and Predictors\n",
        "y = pd.DataFrame(songData_ohe['popularity_categorical'])\n",
        "X = pd.DataFrame(songData_ohe.drop(['popularity_categorical','popularity'], axis = 1))\n",
        "\n",
        "# Split the Dataset into Train and Test\n",
        "X_train, X_test, y_train, y_test = train_test_split(X, y, test_size = 0.2, random_state=88)"
      ],
      "metadata": {
        "id": "qq-xUvCFny8a"
      },
      "execution_count": null,
      "outputs": []
    },
    {
      "cell_type": "code",
      "source": [
        "# Import RandomForestClassifier model from Scikit-Learn\n",
        "from sklearn.ensemble import RandomForestClassifier\n",
        "\n",
        "# Create the Random Forest object\n",
        "rforest = RandomForestClassifier(n_estimators = 100,  # n_estimators denote number of trees\n",
        "                                 max_depth = 10)       # set the maximum depth of each tree\n",
        "\n",
        "# Fit Random Forest on Train Data\n",
        "rforest.fit(X_train, y_train.popularity_categorical.ravel())      "
      ],
      "metadata": {
        "id": "7tGmNyKJnttP",
        "colab": {
          "base_uri": "https://localhost:8080/"
        },
        "outputId": "48dd69ff-f15b-46e0-ea36-9af444ac5e29"
      },
      "execution_count": null,
      "outputs": [
        {
          "output_type": "execute_result",
          "data": {
            "text/plain": [
              "RandomForestClassifier(max_depth=10)"
            ]
          },
          "metadata": {},
          "execution_count": 31
        }
      ]
    },
    {
      "cell_type": "markdown",
      "source": [
        "### **Check the accuracy of the Model**\n",
        "\n",
        "Print the Classification Accuracy and all other Accuracy Measures from the Confusion Matrix.  \n",
        "\n",
        "| Confusion Matrix  |       |        |        |      \n",
        "| :---              | :---: | :----: | :----: |         \n",
        "| Actual Negative   |  (0)  |   TN   |   FP   |             \n",
        "| Actual Positive   |  (1)  |   FN   |   TP   |       \n",
        "|                   |       |   (0)   |   (1)   |       \n",
        "|                   |       | Predicted Negative    |   Predicted Postitive  |     \n",
        "\n",
        "\n",
        "* `TPR = TP / (TP + FN)` : True Positive Rate = True Positives / All Positives    \n",
        "* `TNR = TN / (TN + FP)` : True Negative Rate = True Negatives / All Negatives    \n",
        "\n",
        "* `FPR = FP / (TN + FP)` : False Positive Rate = False Positives / All Negatives \n",
        "* `FNR = FN / (TP + FN)` : False Negative Rate = False Negatives / All Positives "
      ],
      "metadata": {
        "id": "2w0YOiX-DNCc"
      }
    },
    {
      "cell_type": "code",
      "source": [
        "# Import confusion_matrix from Scikit-Learn\n",
        "from sklearn.metrics import confusion_matrix\n",
        "\n",
        "# Predict the Response corresponding to Predictors\n",
        "y_train_pred = rforest.predict(X_train)\n",
        "\n",
        "# Print the Classification Accuracy\n",
        "print(\"Train Data\")\n",
        "print(\"Accuracy  :\\t\", rforest.score(X_train, y_train))\n",
        "print()\n",
        "\n",
        "# Print the Accuracy Measures from the Confusion Matrix\n",
        "cmTrain = confusion_matrix(y_train, y_train_pred)\n",
        "tpTrain = cmTrain[1][1] # True Positives : Good (1) predicted Good (1)\n",
        "fpTrain = cmTrain[0][1] # False Positives : Bad (0) predicted Good (1)\n",
        "tnTrain = cmTrain[0][0] # True Negatives : Bad (0) predicted Bad (0)\n",
        "fnTrain = cmTrain[1][0] # False Negatives : Good (1) predicted Bad (0)\n",
        "\n",
        "print(\"TPR Train :\\t\", (tpTrain/(tpTrain + fnTrain)))\n",
        "print(\"TNR Train :\\t\", (tnTrain/(tnTrain + fpTrain)))\n",
        "print()\n",
        "\n",
        "print(\"FPR Train :\\t\", (fpTrain/(tnTrain + fpTrain)))\n",
        "print(\"FNR Train :\\t\", (fnTrain/(tpTrain + fnTrain)))\n",
        "\n",
        "# Plot the two-way Confusion Matrix\n",
        "sb.heatmap(confusion_matrix(y_train, y_train_pred), \n",
        "           annot = True, fmt=\".0f\", annot_kws={\"size\": 18})"
      ],
      "metadata": {
        "id": "dNM9TKQOoIiv",
        "colab": {
          "base_uri": "https://localhost:8080/",
          "height": 423
        },
        "outputId": "6ca37290-18b0-4fb9-f5f0-580fca72f059"
      },
      "execution_count": null,
      "outputs": [
        {
          "output_type": "stream",
          "name": "stdout",
          "text": [
            "Train Data\n",
            "Accuracy  :\t 0.9945454545454545\n",
            "\n",
            "TPR Train :\t 0.9937304075235109\n",
            "TNR Train :\t 0.9956709956709957\n",
            "\n",
            "FPR Train :\t 0.004329004329004329\n",
            "FNR Train :\t 0.006269592476489028\n"
          ]
        },
        {
          "output_type": "execute_result",
          "data": {
            "text/plain": [
              "<matplotlib.axes._subplots.AxesSubplot at 0x7f18273a76d0>"
            ]
          },
          "metadata": {},
          "execution_count": 32
        },
        {
          "output_type": "display_data",
          "data": {
            "text/plain": [
              "<Figure size 432x288 with 2 Axes>"
            ],
            "image/png": "[encoded data removed]"
          },
          "metadata": {
            "needs_background": "light"
          }
        }
      ]
    },
    {
      "cell_type": "code",
      "source": [
        "# Import the required metric from sklearn\n",
        "from sklearn.metrics import confusion_matrix\n",
        "\n",
        "# Predict the Response corresponding to Predictors\n",
        "y_test_pred = rforest.predict(X_test)\n",
        "\n",
        "# Print the Classification Accuracy\n",
        "print(\"Test Data\")\n",
        "print(\"Accuracy  :\\t\", rforest.score(X_test, y_test))\n",
        "print()\n",
        "\n",
        "# Print the Accuracy Measures from the Confusion Matrix\n",
        "cmTest = confusion_matrix(y_test, y_test_pred)\n",
        "tpTest = cmTest[1][1] # True Positives : Good (1) predicted Good (1)\n",
        "fpTest = cmTest[0][1] # False Positives : Bad (0) predicted Good (1)\n",
        "tnTest = cmTest[0][0] # True Negatives : Bad (0) predicted Bad (0)\n",
        "fnTest = cmTest[1][0] # False Negatives : Good (1) predicted Bad (0)\n",
        "\n",
        "print(\"TPR Test :\\t\", (tpTest/(tpTest + fnTest)))\n",
        "print(\"TNR Test :\\t\", (tnTest/(tnTest + fpTest)))\n",
        "print()\n",
        "\n",
        "print(\"FPR Test :\\t\", (fpTest/(fpTest + tnTest)))\n",
        "print(\"FNR Test :\\t\", (fnTest/(fnTest + tpTest)))\n",
        "\n",
        "# Plot the two-way Confusion Matrix\n",
        "sb.heatmap(confusion_matrix(y_test, y_test_pred), \n",
        "           annot = True, fmt=\".0f\", annot_kws={\"size\": 18})"
      ],
      "metadata": {
        "id": "ltwkzgSWFjPa",
        "colab": {
          "base_uri": "https://localhost:8080/",
          "height": 428
        },
        "outputId": "1e03008a-4d4c-4274-ef7f-208531d86751"
      },
      "execution_count": null,
      "outputs": [
        {
          "output_type": "stream",
          "name": "stdout",
          "text": [
            "Test Data\n",
            "Accuracy  :\t 0.5797101449275363\n",
            "\n",
            "TPR Test :\t 0.6756756756756757\n",
            "TNR Test :\t 0.46875\n",
            "\n",
            "FPR Test :\t 0.53125\n",
            "FNR Test :\t 0.32432432432432434\n"
          ]
        },
        {
          "output_type": "execute_result",
          "data": {
            "text/plain": [
              "<matplotlib.axes._subplots.AxesSubplot at 0x7f182a030f50>"
            ]
          },
          "metadata": {},
          "execution_count": 33
        },
        {
          "output_type": "display_data",
          "data": {
            "text/plain": [
              "<Figure size 432x288 with 2 Axes>"
            ],
            "image/png": "[encoded data removed]"
          },
          "metadata": {
            "needs_background": "light"
          }
        }
      ]
    },
    {
      "cell_type": "markdown",
      "source": [
        "The result of the first `random forest` is not really as high as we expected.  \n",
        "\n",
        "There are two major parameters which is called the *hyper-parameter* of Random Forest are `n_estimators` (the number of decision trees in the forest) and `max_depth` (depth of each decision tree in the forest).  \n",
        "\n",
        "We can try modifying the two parameters and see how the results change.  "
      ],
      "metadata": {
        "id": "-6Pv60GMHO8h"
      }
    },
    {
      "cell_type": "markdown",
      "source": [
        "###**Increase the number of decision trees in the forest**  \n",
        "We increase the number of decision trees in the forest, `n_estimators = 1000` while keeping the `max-depth` constant."
      ],
      "metadata": {
        "id": "hNeNiODIGGuD"
      }
    },
    {
      "cell_type": "code",
      "source": [
        "from sklearn.model_selection import train_test_split\n",
        "\n",
        "# Extract Response and Predictors\n",
        "y = pd.DataFrame(songData_ohe['popularity_categorical'])\n",
        "X = pd.DataFrame(songData_ohe.drop(['popularity_categorical','popularity'], axis = 1))\n",
        "\n",
        "# Split the Dataset into Train and Test\n",
        "X_train, X_test, y_train, y_test = train_test_split(X, y, test_size = 0.2, random_state=88)"
      ],
      "metadata": {
        "id": "vVpq4ojMF7wE"
      },
      "execution_count": null,
      "outputs": []
    },
    {
      "cell_type": "code",
      "source": [
        "# Import RandomForestClassifier model from Scikit-Learn\n",
        "from sklearn.ensemble import RandomForestClassifier\n",
        "\n",
        "# Create the Random Forest object\n",
        "rforest = RandomForestClassifier(n_estimators = 1000,  # n_estimators denote number of trees\n",
        "                                 max_depth = 10)       # set the maximum depth of each tree\n",
        "\n",
        "# Fit Random Forest on Train Data\n",
        "rforest.fit(X_train, y_train.popularity_categorical.ravel())      "
      ],
      "metadata": {
        "id": "UXOxUCJBGWOD",
        "colab": {
          "base_uri": "https://localhost:8080/"
        },
        "outputId": "7ac4c32f-167a-4920-c5e0-c72139298c0f"
      },
      "execution_count": null,
      "outputs": [
        {
          "output_type": "execute_result",
          "data": {
            "text/plain": [
              "RandomForestClassifier(max_depth=10, n_estimators=1000)"
            ]
          },
          "metadata": {},
          "execution_count": 38
        }
      ]
    },
    {
      "cell_type": "code",
      "source": [
        "# Import confusion_matrix from Scikit-Learn\n",
        "from sklearn.metrics import confusion_matrix\n",
        "\n",
        "# Predict the Response corresponding to Predictors\n",
        "y_train_pred = rforest.predict(X_train)\n",
        "\n",
        "# Print the Classification Accuracy\n",
        "print(\"Train Data\")\n",
        "print(\"Accuracy  :\\t\", rforest.score(X_train, y_train))\n",
        "print()\n",
        "\n",
        "# Print the Accuracy Measures from the Confusion Matrix\n",
        "cmTrain = confusion_matrix(y_train, y_train_pred)\n",
        "tpTrain = cmTrain[1][1] # True Positives : Good (1) predicted Good (1)\n",
        "fpTrain = cmTrain[0][1] # False Positives : Bad (0) predicted Good (1)\n",
        "tnTrain = cmTrain[0][0] # True Negatives : Bad (0) predicted Bad (0)\n",
        "fnTrain = cmTrain[1][0] # False Negatives : Good (1) predicted Bad (0)\n",
        "\n",
        "print(\"TPR Train :\\t\", (tpTrain/(tpTrain + fnTrain)))\n",
        "print(\"TNR Train :\\t\", (tnTrain/(tnTrain + fpTrain)))\n",
        "print()\n",
        "\n",
        "print(\"FPR Train :\\t\", (fpTrain/(tnTrain + fpTrain)))\n",
        "print(\"FNR Train :\\t\", (fnTrain/(tpTrain + fnTrain)))\n",
        "\n",
        "# Plot the two-way Confusion Matrix\n",
        "sb.heatmap(confusion_matrix(y_train, y_train_pred), \n",
        "           annot = True, fmt=\".0f\", annot_kws={\"size\": 18})"
      ],
      "metadata": {
        "id": "j8b4iQ2YGbck",
        "colab": {
          "base_uri": "https://localhost:8080/",
          "height": 423
        },
        "outputId": "924c78e0-6875-4baa-dde5-474fcfa8a019"
      },
      "execution_count": null,
      "outputs": [
        {
          "output_type": "stream",
          "name": "stdout",
          "text": [
            "Train Data\n",
            "Accuracy  :\t 0.9981818181818182\n",
            "\n",
            "TPR Train :\t 0.9968652037617555\n",
            "TNR Train :\t 1.0\n",
            "\n",
            "FPR Train :\t 0.0\n",
            "FNR Train :\t 0.003134796238244514\n"
          ]
        },
        {
          "output_type": "execute_result",
          "data": {
            "text/plain": [
              "<matplotlib.axes._subplots.AxesSubplot at 0x7fa8a78465d0>"
            ]
          },
          "metadata": {},
          "execution_count": 39
        },
        {
          "output_type": "display_data",
          "data": {
            "text/plain": [
              "<Figure size 432x288 with 2 Axes>"
            ],
            "image/png": "[encoded data removed]"
          },
          "metadata": {}
        }
      ]
    },
    {
      "cell_type": "markdown",
      "source": [
        "This amount of trees seem to make our train data overfit due to the amount of decision trees. It forces the model to completely fit the training data and might fail to recognise the important generalized patterns."
      ],
      "metadata": {
        "id": "W2Mw9WY0IUzd"
      }
    },
    {
      "cell_type": "code",
      "source": [
        "# Import the required metric from sklearn\n",
        "from sklearn.metrics import confusion_matrix\n",
        "\n",
        "# Predict the Response corresponding to Predictors\n",
        "y_test_pred = rforest.predict(X_test)\n",
        "\n",
        "# Print the Classification Accuracy\n",
        "print(\"Test Data\")\n",
        "print(\"Accuracy  :\\t\", rforest.score(X_test, y_test))\n",
        "print()\n",
        "\n",
        "# Print the Accuracy Measures from the Confusion Matrix\n",
        "cmTest = confusion_matrix(y_test, y_test_pred)\n",
        "tpTest = cmTest[1][1] # True Positives : Good (1) predicted Good (1)\n",
        "fpTest = cmTest[0][1] # False Positives : Bad (0) predicted Good (1)\n",
        "tnTest = cmTest[0][0] # True Negatives : Bad (0) predicted Bad (0)\n",
        "fnTest = cmTest[1][0] # False Negatives : Good (1) predicted Bad (0)\n",
        "\n",
        "print(\"TPR Test :\\t\", (tpTest/(tpTest + fnTest)))\n",
        "print(\"TNR Test :\\t\", (tnTest/(tnTest + fpTest)))\n",
        "print()\n",
        "\n",
        "print(\"FPR Test :\\t\", (fpTest/(fpTest + tnTest)))\n",
        "print(\"FNR Test :\\t\", (fnTest/(fnTest + tpTest)))\n",
        "\n",
        "# Plot the two-way Confusion Matrix\n",
        "sb.heatmap(confusion_matrix(y_test, y_test_pred), \n",
        "           annot = True, fmt=\".0f\", annot_kws={\"size\": 18})"
      ],
      "metadata": {
        "id": "60k5wrSLGgCT",
        "colab": {
          "base_uri": "https://localhost:8080/",
          "height": 423
        },
        "outputId": "a00ffb56-08a8-4ccc-aa58-3c3352c662f4"
      },
      "execution_count": null,
      "outputs": [
        {
          "output_type": "stream",
          "name": "stdout",
          "text": [
            "Test Data\n",
            "Accuracy  :\t 0.5797101449275363\n",
            "\n",
            "TPR Test :\t 0.7162162162162162\n",
            "TNR Test :\t 0.421875\n",
            "\n",
            "FPR Test :\t 0.578125\n",
            "FNR Test :\t 0.28378378378378377\n"
          ]
        },
        {
          "output_type": "execute_result",
          "data": {
            "text/plain": [
              "<matplotlib.axes._subplots.AxesSubplot at 0x7fa8a6cbead0>"
            ]
          },
          "metadata": {},
          "execution_count": 40
        },
        {
          "output_type": "display_data",
          "data": {
            "text/plain": [
              "<Figure size 432x288 with 2 Axes>"
            ],
            "image/png": "[encoded data removed]"
          },
          "metadata": {}
        }
      ]
    },
    {
      "cell_type": "markdown",
      "source": [
        "The result is about the same, perhaps increasing the number of decision trees by ten fold is not the best move."
      ],
      "metadata": {
        "id": "WASPeXlEJENF"
      }
    },
    {
      "cell_type": "markdown",
      "source": [
        "###**Increase the depth of decision trees in the forest**  \n",
        "We increase the depth in the forest, `max_depth = 20` while keeping the `n_estimators` constant.\n",
        "\n"
      ],
      "metadata": {
        "id": "9m3F_T2nGr6t"
      }
    },
    {
      "cell_type": "code",
      "source": [
        "from sklearn.model_selection import train_test_split\n",
        "\n",
        "# Extract Response and Predictors\n",
        "y = pd.DataFrame(songData_ohe['popularity_categorical'])\n",
        "X = pd.DataFrame(songData_ohe.drop(['popularity_categorical','popularity'], axis = 1))\n",
        "\n",
        "# Split the Dataset into Train and Test\n",
        "X_train, X_test, y_train, y_test = train_test_split(X, y, test_size = 0.2, random_state=88)"
      ],
      "metadata": {
        "id": "GIFxpcgmGjEC"
      },
      "execution_count": null,
      "outputs": []
    },
    {
      "cell_type": "code",
      "source": [
        "# Import RandomForestClassifier model from Scikit-Learn\n",
        "from sklearn.ensemble import RandomForestClassifier\n",
        "\n",
        "# Create the Random Forest object\n",
        "rforest = RandomForestClassifier(n_estimators = 100,  # n_estimators denote number of trees\n",
        "                                 max_depth = 20)       # set the maximum depth of each tree\n",
        "\n",
        "# Fit Random Forest on Train Data\n",
        "rforest.fit(X_train, y_train.popularity_categorical.ravel())"
      ],
      "metadata": {
        "id": "9pN47qoTGwAf",
        "colab": {
          "base_uri": "https://localhost:8080/"
        },
        "outputId": "c952ffbc-9e9d-47f8-d726-6e74ff816a9b"
      },
      "execution_count": null,
      "outputs": [
        {
          "output_type": "execute_result",
          "data": {
            "text/plain": [
              "RandomForestClassifier(max_depth=20)"
            ]
          },
          "metadata": {},
          "execution_count": 42
        }
      ]
    },
    {
      "cell_type": "code",
      "source": [
        "# Import confusion_matrix from Scikit-Learn\n",
        "from sklearn.metrics import confusion_matrix\n",
        "\n",
        "# Predict the Response corresponding to Predictors\n",
        "y_train_pred = rforest.predict(X_train)\n",
        "\n",
        "# Print the Classification Accuracy\n",
        "print(\"Train Data\")\n",
        "print(\"Accuracy  :\\t\", rforest.score(X_train, y_train))\n",
        "print()\n",
        "\n",
        "# Print the Accuracy Measures from the Confusion Matrix\n",
        "cmTrain = confusion_matrix(y_train, y_train_pred)\n",
        "tpTrain = cmTrain[1][1] # True Positives : Good (1) predicted Good (1)\n",
        "fpTrain = cmTrain[0][1] # False Positives : Bad (0) predicted Good (1)\n",
        "tnTrain = cmTrain[0][0] # True Negatives : Bad (0) predicted Bad (0)\n",
        "fnTrain = cmTrain[1][0] # False Negatives : Good (1) predicted Bad (0)\n",
        "\n",
        "print(\"TPR Train :\\t\", (tpTrain/(tpTrain + fnTrain)))\n",
        "print(\"TNR Train :\\t\", (tnTrain/(tnTrain + fpTrain)))\n",
        "print()\n",
        "\n",
        "print(\"FPR Train :\\t\", (fpTrain/(tnTrain + fpTrain)))\n",
        "print(\"FNR Train :\\t\", (fnTrain/(tpTrain + fnTrain)))\n",
        "\n",
        "# Plot the two-way Confusion Matrix\n",
        "sb.heatmap(confusion_matrix(y_train, y_train_pred), \n",
        "           annot = True, fmt=\".0f\", annot_kws={\"size\": 18})"
      ],
      "metadata": {
        "id": "NKUTQRJrG2BQ",
        "colab": {
          "base_uri": "https://localhost:8080/",
          "height": 423
        },
        "outputId": "6caac8b5-bd60-495f-97b1-043a5c2c6205"
      },
      "execution_count": null,
      "outputs": [
        {
          "output_type": "stream",
          "name": "stdout",
          "text": [
            "Train Data\n",
            "Accuracy  :\t 1.0\n",
            "\n",
            "TPR Train :\t 1.0\n",
            "TNR Train :\t 1.0\n",
            "\n",
            "FPR Train :\t 0.0\n",
            "FNR Train :\t 0.0\n"
          ]
        },
        {
          "output_type": "execute_result",
          "data": {
            "text/plain": [
              "<matplotlib.axes._subplots.AxesSubplot at 0x7fa8a137f750>"
            ]
          },
          "metadata": {},
          "execution_count": 43
        },
        {
          "output_type": "display_data",
          "data": {
            "text/plain": [
              "<Figure size 432x288 with 2 Axes>"
            ],
            "image/png": "[encoded data removed]"
          },
          "metadata": {}
        }
      ]
    },
    {
      "cell_type": "code",
      "source": [
        "# Import the required metric from sklearn\n",
        "from sklearn.metrics import confusion_matrix\n",
        "\n",
        "# Predict the Response corresponding to Predictors\n",
        "y_test_pred = rforest.predict(X_test)\n",
        "\n",
        "# Print the Classification Accuracy\n",
        "print(\"Test Data\")\n",
        "print(\"Accuracy  :\\t\", rforest.score(X_test, y_test))\n",
        "print()\n",
        "\n",
        "# Print the Accuracy Measures from the Confusion Matrix\n",
        "cmTest = confusion_matrix(y_test, y_test_pred)\n",
        "tpTest = cmTest[1][1] # True Positives : Good (1) predicted Good (1)\n",
        "fpTest = cmTest[0][1] # False Positives : Bad (0) predicted Good (1)\n",
        "tnTest = cmTest[0][0] # True Negatives : Bad (0) predicted Bad (0)\n",
        "fnTest = cmTest[1][0] # False Negatives : Good (1) predicted Bad (0)\n",
        "\n",
        "print(\"TPR Test :\\t\", (tpTest/(tpTest + fnTest)))\n",
        "print(\"TNR Test :\\t\", (tnTest/(tnTest + fpTest)))\n",
        "print()\n",
        "\n",
        "print(\"FPR Test :\\t\", (fpTest/(fpTest + tnTest)))\n",
        "print(\"FNR Test :\\t\", (fnTest/(fnTest + tpTest)))\n",
        "\n",
        "# Plot the two-way Confusion Matrix\n",
        "sb.heatmap(confusion_matrix(y_test, y_test_pred), \n",
        "           annot = True, fmt=\".0f\", annot_kws={\"size\": 18})"
      ],
      "metadata": {
        "id": "MeKE1843G38f",
        "colab": {
          "base_uri": "https://localhost:8080/",
          "height": 423
        },
        "outputId": "658fd907-1b87-4410-bd1f-be1cf32e5f1a"
      },
      "execution_count": null,
      "outputs": [
        {
          "output_type": "stream",
          "name": "stdout",
          "text": [
            "Test Data\n",
            "Accuracy  :\t 0.5434782608695652\n",
            "\n",
            "TPR Test :\t 0.6351351351351351\n",
            "TNR Test :\t 0.4375\n",
            "\n",
            "FPR Test :\t 0.5625\n",
            "FNR Test :\t 0.36486486486486486\n"
          ]
        },
        {
          "output_type": "execute_result",
          "data": {
            "text/plain": [
              "<matplotlib.axes._subplots.AxesSubplot at 0x7fa8a75aad90>"
            ]
          },
          "metadata": {},
          "execution_count": 44
        },
        {
          "output_type": "display_data",
          "data": {
            "text/plain": [
              "<Figure size 432x288 with 2 Axes>"
            ],
            "image/png": "[encoded data removed]"
          },
          "metadata": {}
        }
      ]
    },
    {
      "cell_type": "markdown",
      "source": [
        "The result is still about the same, we didnt see any improvement by increasing the number of decision trees and the depth alone."
      ],
      "metadata": {
        "id": "XWs-3mgRJeA2"
      }
    },
    {
      "cell_type": "markdown",
      "source": [
        "###**Increase both the number and the depth of decision trees in the forest**  \n",
        "We increase both the number of decision trees and the depth in the forest, `max_depth = 20` while keeping the `n_estimators = 1000` constant.\n"
      ],
      "metadata": {
        "id": "ZPU_rPLJHA14"
      }
    },
    {
      "cell_type": "code",
      "source": [
        "from sklearn.model_selection import train_test_split\n",
        "\n",
        "# Extract Response and Predictors\n",
        "y = pd.DataFrame(songData_ohe['popularity_categorical'])\n",
        "X = pd.DataFrame(songData_ohe.drop(['popularity_categorical','popularity'], axis = 1))\n",
        "\n",
        "# Split the Dataset into Train and Test\n",
        "X_train, X_test, y_train, y_test = train_test_split(X, y, test_size = 0.2, random_state=88)"
      ],
      "metadata": {
        "id": "CAdRF5btG6qV"
      },
      "execution_count": null,
      "outputs": []
    },
    {
      "cell_type": "code",
      "source": [
        "# Import RandomForestClassifier model from Scikit-Learn\n",
        "from sklearn.ensemble import RandomForestClassifier\n",
        "\n",
        "# Create the Random Forest object\n",
        "rforest = RandomForestClassifier(n_estimators = 1000,  # n_estimators denote number of trees\n",
        "                                 max_depth = 20)       # set the maximum depth of each tree\n",
        "\n",
        "# Fit Random Forest on Train Data\n",
        "rforest.fit(X_train, y_train.popularity_categorical.ravel())"
      ],
      "metadata": {
        "id": "oNGqXP9fHEZc",
        "colab": {
          "base_uri": "https://localhost:8080/"
        },
        "outputId": "02c36531-61b8-4ab6-ae41-672cfcf68288"
      },
      "execution_count": null,
      "outputs": [
        {
          "output_type": "execute_result",
          "data": {
            "text/plain": [
              "RandomForestClassifier(max_depth=20, n_estimators=1000)"
            ]
          },
          "metadata": {},
          "execution_count": 46
        }
      ]
    },
    {
      "cell_type": "code",
      "source": [
        "# Import confusion_matrix from Scikit-Learn\n",
        "from sklearn.metrics import confusion_matrix\n",
        "\n",
        "# Predict the Response corresponding to Predictors\n",
        "y_train_pred = rforest.predict(X_train)\n",
        "\n",
        "# Print the Classification Accuracy\n",
        "print(\"Train Data\")\n",
        "print(\"Accuracy  :\\t\", rforest.score(X_train, y_train))\n",
        "print()\n",
        "\n",
        "# Print the Accuracy Measures from the Confusion Matrix\n",
        "cmTrain = confusion_matrix(y_train, y_train_pred)\n",
        "tpTrain = cmTrain[1][1] # True Positives : Good (1) predicted Good (1)\n",
        "fpTrain = cmTrain[0][1] # False Positives : Bad (0) predicted Good (1)\n",
        "tnTrain = cmTrain[0][0] # True Negatives : Bad (0) predicted Bad (0)\n",
        "fnTrain = cmTrain[1][0] # False Negatives : Good (1) predicted Bad (0)\n",
        "\n",
        "print(\"TPR Train :\\t\", (tpTrain/(tpTrain + fnTrain)))\n",
        "print(\"TNR Train :\\t\", (tnTrain/(tnTrain + fpTrain)))\n",
        "print()\n",
        "\n",
        "print(\"FPR Train :\\t\", (fpTrain/(tnTrain + fpTrain)))\n",
        "print(\"FNR Train :\\t\", (fnTrain/(tpTrain + fnTrain)))\n",
        "\n",
        "# Plot the two-way Confusion Matrix\n",
        "sb.heatmap(confusion_matrix(y_train, y_train_pred), \n",
        "           annot = True, fmt=\".0f\", annot_kws={\"size\": 18})"
      ],
      "metadata": {
        "id": "Z6wL8U2dHHBr",
        "colab": {
          "base_uri": "https://localhost:8080/",
          "height": 423
        },
        "outputId": "fb73f74d-549e-4f98-e058-546ccdcba686"
      },
      "execution_count": null,
      "outputs": [
        {
          "output_type": "stream",
          "name": "stdout",
          "text": [
            "Train Data\n",
            "Accuracy  :\t 1.0\n",
            "\n",
            "TPR Train :\t 1.0\n",
            "TNR Train :\t 1.0\n",
            "\n",
            "FPR Train :\t 0.0\n",
            "FNR Train :\t 0.0\n"
          ]
        },
        {
          "output_type": "execute_result",
          "data": {
            "text/plain": [
              "<matplotlib.axes._subplots.AxesSubplot at 0x7fa8a7116050>"
            ]
          },
          "metadata": {},
          "execution_count": 47
        },
        {
          "output_type": "display_data",
          "data": {
            "text/plain": [
              "<Figure size 432x288 with 2 Axes>"
            ],
            "image/png": "[encoded data removed]"
          },
          "metadata": {}
        }
      ]
    },
    {
      "cell_type": "code",
      "source": [
        "# Import the required metric from sklearn\n",
        "from sklearn.metrics import confusion_matrix\n",
        "\n",
        "# Predict the Response corresponding to Predictors\n",
        "y_test_pred = rforest.predict(X_test)\n",
        "\n",
        "# Print the Classification Accuracy\n",
        "print(\"Test Data\")\n",
        "print(\"Accuracy  :\\t\", rforest.score(X_test, y_test))\n",
        "print()\n",
        "\n",
        "# Print the Accuracy Measures from the Confusion Matrix\n",
        "cmTest = confusion_matrix(y_test, y_test_pred)\n",
        "tpTest = cmTest[1][1] # True Positives : Good (1) predicted Good (1)\n",
        "fpTest = cmTest[0][1] # False Positives : Bad (0) predicted Good (1)\n",
        "tnTest = cmTest[0][0] # True Negatives : Bad (0) predicted Bad (0)\n",
        "fnTest = cmTest[1][0] # False Negatives : Good (1) predicted Bad (0)\n",
        "\n",
        "print(\"TPR Test :\\t\", (tpTest/(tpTest + fnTest)))\n",
        "print(\"TNR Test :\\t\", (tnTest/(tnTest + fpTest)))\n",
        "print()\n",
        "\n",
        "print(\"FPR Test :\\t\", (fpTest/(fpTest + tnTest)))\n",
        "print(\"FNR Test :\\t\", (fnTest/(fnTest + tpTest)))\n",
        "\n",
        "# Plot the two-way Confusion Matrix\n",
        "sb.heatmap(confusion_matrix(y_test, y_test_pred), \n",
        "           annot = True, fmt=\".0f\", annot_kws={\"size\": 18})"
      ],
      "metadata": {
        "id": "DQrzQ4lxHJ9m",
        "colab": {
          "base_uri": "https://localhost:8080/",
          "height": 423
        },
        "outputId": "94cc3fea-210c-497e-909f-f25d27d72702"
      },
      "execution_count": null,
      "outputs": [
        {
          "output_type": "stream",
          "name": "stdout",
          "text": [
            "Test Data\n",
            "Accuracy  :\t 0.5652173913043478\n",
            "\n",
            "TPR Test :\t 0.7027027027027027\n",
            "TNR Test :\t 0.40625\n",
            "\n",
            "FPR Test :\t 0.59375\n",
            "FNR Test :\t 0.2972972972972973\n"
          ]
        },
        {
          "output_type": "execute_result",
          "data": {
            "text/plain": [
              "<matplotlib.axes._subplots.AxesSubplot at 0x7fa8a6d9fe10>"
            ]
          },
          "metadata": {},
          "execution_count": 48
        },
        {
          "output_type": "display_data",
          "data": {
            "text/plain": [
              "<Figure size 432x288 with 2 Axes>"
            ],
            "image/png": "[encoded data removed]"
          },
          "metadata": {}
        }
      ]
    },
    {
      "cell_type": "markdown",
      "source": [
        "With more number of trees and deeper trees in the forest, the accuracy of the Random Forest is getting better on the train data but the test data remains about the same. Note that the gap between the performance on train and test is increasing too. This is a sign of over-fitting, whereby there is a low rate of error in the train data but a high rate of error in the test data, defeating the purpose of predicting.   \n",
        "\n",
        "We will need to find the optimal hyper-parameters to maximize accuracy of the classifier on the test set in general. Also note that we are only trying out a single `train_test_split`, and it is impossible to predict the *generalized* performance of the model from a single run. Thus, we will need to run this multiple times, with randomized train and test sets, to get a better estimate. Both of these targets are achieved through Cross-Validation techniques, whereby you can optimize the hyper-parameters of a model."
      ],
      "metadata": {
        "id": "V9ul-sI_HUtC"
      }
    },
    {
      "cell_type": "markdown",
      "source": [
        "###**Cross-validation & Tuning of the Hyperparameter**"
      ],
      "metadata": {
        "id": "XzW1863NHZtS"
      }
    },
    {
      "cell_type": "code",
      "source": [
        "from sklearn.model_selection import train_test_split\n",
        "\n",
        "# Extract Response and Predictors\n",
        "y = pd.DataFrame(songData_ohe['popularity_categorical'])                               # Responder\n",
        "X = pd.DataFrame(songData_ohe.drop(['popularity_categorical','popularity'], axis = 1)) # Predictor\n",
        "\n",
        "# Split the Dataset into Train and Test\n",
        "X_train, X_test, y_train, y_test = train_test_split(X, y, test_size = 0.2, random_state=88)"
      ],
      "metadata": {
        "id": "cYV8bDEQHMFH"
      },
      "execution_count": null,
      "outputs": []
    },
    {
      "cell_type": "code",
      "source": [
        "# Import GridSearch for hyperparameter tuning using Cross-Validation (CV)\n",
        "from sklearn.model_selection import GridSearchCV\n",
        "\n",
        "# Define the Hyper-parameter Grid to search on, in case of Random Forest\n",
        "param_grid = {'n_estimators': np.arange(100,1001,100),   # number of trees 100, 200, ..., 1000\n",
        "              'max_depth': np.arange(2, 11)}             # depth of trees 2, 3, 4, 5, ..., 10\n",
        "\n",
        "# Create the Hyper-parameter Grid\n",
        "hpGrid = GridSearchCV(RandomForestClassifier(),   # the model family\n",
        "                      param_grid,                 # the search grid\n",
        "                      cv = 5,                     # 5-fold cross-validation\n",
        "                      scoring = 'accuracy')       # score to evaluate\n",
        "\n",
        "# Train the models using Cross-Validation\n",
        "hpGrid.fit(X_train, y_train.popularity_categorical.ravel())"
      ],
      "metadata": {
        "id": "oCWNu5HFHm9I",
        "colab": {
          "base_uri": "https://localhost:8080/"
        },
        "outputId": "596f4d9f-58be-40ac-cdcc-7b6a1b3e22b0"
      },
      "execution_count": null,
      "outputs": [
        {
          "output_type": "execute_result",
          "data": {
            "text/plain": [
              "GridSearchCV(cv=5, estimator=RandomForestClassifier(),\n",
              "             param_grid={'max_depth': array([ 2,  3,  4,  5,  6,  7,  8,  9, 10]),\n",
              "                         'n_estimators': array([ 100,  200,  300,  400,  500,  600,  700,  800,  900, 1000])},\n",
              "             scoring='accuracy')"
            ]
          },
          "metadata": {},
          "execution_count": 50
        }
      ]
    },
    {
      "cell_type": "code",
      "source": [
        "# Fetch the best Model or the best set of Hyper-parameters\n",
        "print(hpGrid.best_estimator_)\n",
        "\n",
        "# Print the score (accuracy) of the best Model after CV\n",
        "print(np.abs(hpGrid.best_score_))"
      ],
      "metadata": {
        "id": "aXJc_TjcHuVo",
        "colab": {
          "base_uri": "https://localhost:8080/"
        },
        "outputId": "6913eea1-00d5-4503-e369-52623c018dd7"
      },
      "execution_count": null,
      "outputs": [
        {
          "output_type": "stream",
          "name": "stdout",
          "text": [
            "RandomForestClassifier(max_depth=7, n_estimators=600)\n",
            "0.6363636363636365\n"
          ]
        }
      ]
    },
    {
      "cell_type": "markdown",
      "source": [
        "###**using the optimal hyper-parameter**  \n",
        "We set the `max_depth = 7` while keeping the `n_estimators = 600`"
      ],
      "metadata": {
        "id": "RT6q9eN6PKSM"
      }
    },
    {
      "cell_type": "code",
      "source": [
        "from sklearn.model_selection import train_test_split\n",
        "\n",
        "# Extract Response and Predictors\n",
        "y = pd.DataFrame(songData_ohe['popularity_categorical'])\n",
        "X = pd.DataFrame(songData_ohe.drop(['popularity_categorical','popularity'], axis = 1))\n",
        "\n",
        "# Split the Dataset into Train and Test\n",
        "X_train, X_test, y_train, y_test = train_test_split(X, y, test_size = 0.2, random_state=88)"
      ],
      "metadata": {
        "id": "JBgeNDeGPE6A"
      },
      "execution_count": null,
      "outputs": []
    },
    {
      "cell_type": "code",
      "source": [
        "# Import RandomForestClassifier model from Scikit-Learn\n",
        "from sklearn.ensemble import RandomForestClassifier\n",
        "\n",
        "# Create the Random Forest object\n",
        "rforest = RandomForestClassifier(n_estimators = 600,  # n_estimators denote number of trees\n",
        "                                 max_depth = 7)       # set the maximum depth of each tree\n",
        "\n",
        "# Fit Random Forest on Train Data\n",
        "rforest.fit(X_train, y_train.popularity_categorical.ravel())"
      ],
      "metadata": {
        "id": "NGIR9c5cPSlu",
        "colab": {
          "base_uri": "https://localhost:8080/"
        },
        "outputId": "a3f0b28d-af9e-4ede-81b8-b2b0d53c631c"
      },
      "execution_count": null,
      "outputs": [
        {
          "output_type": "execute_result",
          "data": {
            "text/plain": [
              "RandomForestClassifier(max_depth=7, n_estimators=600)"
            ]
          },
          "metadata": {},
          "execution_count": 40
        }
      ]
    },
    {
      "cell_type": "code",
      "source": [
        "# Import confusion_matrix from Scikit-Learn\n",
        "from sklearn.metrics import confusion_matrix\n",
        "\n",
        "# Predict the Response corresponding to Predictors\n",
        "y_train_pred = rforest.predict(X_train)\n",
        "\n",
        "# Print the Classification Accuracy\n",
        "print(\"Train Data\")\n",
        "print(\"Accuracy  :\\t\", rforest.score(X_train, y_train))\n",
        "print()\n",
        "\n",
        "# Print the Accuracy Measures from the Confusion Matrix\n",
        "cmTrain = confusion_matrix(y_train, y_train_pred)\n",
        "tpTrain = cmTrain[1][1] # True Positives : Good (1) predicted Good (1)\n",
        "fpTrain = cmTrain[0][1] # False Positives : Bad (0) predicted Good (1)\n",
        "tnTrain = cmTrain[0][0] # True Negatives : Bad (0) predicted Bad (0)\n",
        "fnTrain = cmTrain[1][0] # False Negatives : Good (1) predicted Bad (0)\n",
        "\n",
        "print(\"TPR Train :\\t\", (tpTrain/(tpTrain + fnTrain)))\n",
        "print(\"TNR Train :\\t\", (tnTrain/(tnTrain + fpTrain)))\n",
        "print()\n",
        "\n",
        "print(\"FPR Train :\\t\", (fpTrain/(tnTrain + fpTrain)))\n",
        "print(\"FNR Train :\\t\", (fnTrain/(tpTrain + fnTrain)))\n",
        "\n",
        "# Plot the two-way Confusion Matrix\n",
        "sb.heatmap(confusion_matrix(y_train, y_train_pred), \n",
        "           annot = True, fmt=\".0f\", annot_kws={\"size\": 18})"
      ],
      "metadata": {
        "id": "EBH4vbUMPWlh",
        "colab": {
          "base_uri": "https://localhost:8080/",
          "height": 423
        },
        "outputId": "c694f5fe-60ef-4f04-c49a-1cc39a94c9a1"
      },
      "execution_count": null,
      "outputs": [
        {
          "output_type": "stream",
          "name": "stdout",
          "text": [
            "Train Data\n",
            "Accuracy  :\t 0.9381818181818182\n",
            "\n",
            "TPR Train :\t 0.9686520376175548\n",
            "TNR Train :\t 0.8961038961038961\n",
            "\n",
            "FPR Train :\t 0.1038961038961039\n",
            "FNR Train :\t 0.03134796238244514\n"
          ]
        },
        {
          "output_type": "execute_result",
          "data": {
            "text/plain": [
              "<matplotlib.axes._subplots.AxesSubplot at 0x7f182df64e50>"
            ]
          },
          "metadata": {},
          "execution_count": 41
        },
        {
          "output_type": "display_data",
          "data": {
            "text/plain": [
              "<Figure size 432x288 with 2 Axes>"
            ],
            "image/png": "[encoded data removed]"
          },
          "metadata": {
            "needs_background": "light"
          }
        }
      ]
    },
    {
      "cell_type": "code",
      "source": [
        "# Import the required metric from sklearn\n",
        "from sklearn.metrics import confusion_matrix\n",
        "\n",
        "# Predict the Response corresponding to Predictors\n",
        "y_test_pred = rforest.predict(X_test)\n",
        "\n",
        "# Print the Classification Accuracy\n",
        "print(\"Test Data\")\n",
        "print(\"Accuracy  :\\t\", rforest.score(X_test, y_test))\n",
        "print()\n",
        "\n",
        "# Print the Accuracy Measures from the Confusion Matrix\n",
        "cmTest = confusion_matrix(y_test, y_test_pred)\n",
        "tpTest = cmTest[1][1] # True Positives : Good (1) predicted Good (1)\n",
        "fpTest = cmTest[0][1] # False Positives : Bad (0) predicted Good (1)\n",
        "tnTest = cmTest[0][0] # True Negatives : Bad (0) predicted Bad (0)\n",
        "fnTest = cmTest[1][0] # False Negatives : Good (1) predicted Bad (0)\n",
        "\n",
        "print(\"TPR Test :\\t\", (tpTest/(tpTest + fnTest)))\n",
        "print(\"TNR Test :\\t\", (tnTest/(tnTest + fpTest)))\n",
        "print()\n",
        "\n",
        "print(\"FPR Test :\\t\", (fpTest/(fpTest + tnTest)))\n",
        "print(\"FNR Test :\\t\", (fnTest/(fnTest + tpTest)))\n",
        "\n",
        "# Plot the two-way Confusion Matrix\n",
        "sb.heatmap(confusion_matrix(y_test, y_test_pred), \n",
        "           annot = True, fmt=\".0f\", annot_kws={\"size\": 18})"
      ],
      "metadata": {
        "id": "4hKaGupLPYoH",
        "colab": {
          "base_uri": "https://localhost:8080/",
          "height": 428
        },
        "outputId": "8f800fb3-fbb4-4146-ee1d-d569e740716f"
      },
      "execution_count": null,
      "outputs": [
        {
          "output_type": "stream",
          "name": "stdout",
          "text": [
            "Test Data\n",
            "Accuracy  :\t 0.5869565217391305\n",
            "\n",
            "TPR Test :\t 0.7432432432432432\n",
            "TNR Test :\t 0.40625\n",
            "\n",
            "FPR Test :\t 0.59375\n",
            "FNR Test :\t 0.25675675675675674\n"
          ]
        },
        {
          "output_type": "execute_result",
          "data": {
            "text/plain": [
              "<matplotlib.axes._subplots.AxesSubplot at 0x7f182d822b10>"
            ]
          },
          "metadata": {},
          "execution_count": 42
        },
        {
          "output_type": "display_data",
          "data": {
            "text/plain": [
              "<Figure size 432x288 with 2 Axes>"
            ],
            "image/png": "[encoded data removed]"
          },
          "metadata": {
            "needs_background": "light"
          }
        }
      ]
    },
    {
      "cell_type": "markdown",
      "source": [
        "We can see that even tuning the random forest to the optimal hyper-parameter, this is the best result we can get even though it is not a significant improvement from the previous few forest. However, we can see that given the training data is not as overfit as the previous few, we achieve higher test data accuracy than the previous few forests."
      ],
      "metadata": {
        "id": "liaIz10AK8_u"
      }
    },
    {
      "cell_type": "markdown",
      "source": [
        "##**Determine Feature Importance in Decision Tree**"
      ],
      "metadata": {
        "id": "b9Y4GlOeZHPW"
      }
    },
    {
      "cell_type": "markdown",
      "source": [
        "Calculate which was the most important feature used in the decision tree. Note that the attribute **feature_importances_** returns the feature importances in an \n",
        "arrary of values"
      ],
      "metadata": {
        "id": "-NtJhucrZJn4"
      }
    },
    {
      "cell_type": "code",
      "source": [
        "rforest.feature_importances_"
      ],
      "metadata": {
        "id": "BGL-2ikfPcBj",
        "colab": {
          "base_uri": "https://localhost:8080/"
        },
        "outputId": "df3b694d-dde4-4935-82f8-b932725d091b"
      },
      "execution_count": null,
      "outputs": [
        {
          "output_type": "execute_result",
          "data": {
            "text/plain": [
              "array([0.10149574, 0.17558159, 0.13473941, 0.12624648, 0.12788462,\n",
              "       0.10684707, 0.21006003, 0.00323121, 0.0038272 , 0.00535299,\n",
              "       0.00473365])"
            ]
          },
          "metadata": {},
          "execution_count": 76
        }
      ]
    },
    {
      "cell_type": "code",
      "source": [
        "#Extract all the features data i.e. drop the 'popularity categorical' & 'popularity' (response) column\n",
        "features = songData_ohe.copy()\n",
        "features.drop('popularity_categorical', axis=1, inplace=True)\n",
        "features.drop('popularity', axis=1, inplace=True)\n",
        "songData_ohe.columns\n",
        "features.columns"
      ],
      "metadata": {
        "colab": {
          "base_uri": "https://localhost:8080/"
        },
        "id": "rd6_nE1MZUon",
        "outputId": "0c238a1d-e581-4f10-f9e4-829f506721a1"
      },
      "execution_count": null,
      "outputs": [
        {
          "output_type": "execute_result",
          "data": {
            "text/plain": [
              "Index(['danceability', 'energy', 'loudness', 'acousticness', 'valence',\n",
              "       'tempo', 'artist popularity', 'speech_Mix', 'speech_Words',\n",
              "       'instrumental_No Vocals', 'instrumental_Vocal'],\n",
              "      dtype='object')"
            ]
          },
          "metadata": {},
          "execution_count": 78
        }
      ]
    },
    {
      "cell_type": "code",
      "source": [
        "#Create a new dataframe showing importance of features\n",
        "featuresdf = pd.DataFrame({'Features':features.columns,'Feature_Importance':rforest.feature_importances_})\n",
        "features_sort = featuresdf.sort_values(by='Feature_Importance', ascending=False)"
      ],
      "metadata": {
        "id": "_vtIgLIWawBv"
      },
      "execution_count": null,
      "outputs": []
    },
    {
      "cell_type": "code",
      "source": [
        "plt.barh(features_sort['Features'], features_sort['Feature_Importance'], color='m')\n",
        "plt.show()"
      ],
      "metadata": {
        "colab": {
          "base_uri": "https://localhost:8080/",
          "height": 267
        },
        "id": "zSSncksJa0Y-",
        "outputId": "32a10909-6617-47b9-86ca-a61dc3743cda"
      },
      "execution_count": null,
      "outputs": [
        {
          "output_type": "display_data",
          "data": {
            "text/plain": [
              "<Figure size 432x288 with 1 Axes>"
            ],
            "image/png": "[encoded data removed]"
          },
          "metadata": {}
        }
      ]
    },
    {
      "cell_type": "markdown",
      "source": [
        "##**Multi-variate Decision Tree Using top 3 factors**"
      ],
      "metadata": {
        "id": "VpA2YGoedRq1"
      }
    },
    {
      "cell_type": "markdown",
      "source": [
        "As seen, the top 3 factors are artist popularity, energy and loudness"
      ],
      "metadata": {
        "id": "mrKGzpM1j2xS"
      }
    },
    {
      "cell_type": "code",
      "source": [
        "top3_factor = pd.DataFrame(newSongDf[['energy','loudness','artist popularity','acousticness','popularity']])\n",
        "\n",
        "# Extract response variable\n",
        "# popularity_response = newSongDf['popularity categorical']\n",
        "songData_top3 = pd.concat([top3_factor, popularity_response], \n",
        "                           sort = False, axis = 1).reindex(index=songNumData.index)\n",
        "\n",
        "# Check the final dataframe\n",
        "songData_top3.info()"
      ],
      "metadata": {
        "colab": {
          "base_uri": "https://localhost:8080/"
        },
        "id": "Rx2iSkLWj9Ut",
        "outputId": "1b5cacbd-39d6-4d66-cf83-c1e8c006306f"
      },
      "execution_count": null,
      "outputs": [
        {
          "output_type": "stream",
          "name": "stdout",
          "text": [
            "<class 'pandas.core.frame.DataFrame'>\n",
            "Int64Index: 688 entries, 0 to 790\n",
            "Data columns (total 6 columns):\n",
            " #   Column                  Non-Null Count  Dtype   \n",
            "---  ------                  --------------  -----   \n",
            " 0   energy                  688 non-null    float64 \n",
            " 1   loudness                688 non-null    float64 \n",
            " 2   artist popularity       688 non-null    int64   \n",
            " 3   acousticness            688 non-null    float64 \n",
            " 4   popularity              688 non-null    int64   \n",
            " 5   popularity_categorical  688 non-null    category\n",
            "dtypes: category(1), float64(3), int64(2)\n",
            "memory usage: 49.2 KB\n"
          ]
        }
      ]
    },
    {
      "cell_type": "code",
      "source": [
        "from sklearn.model_selection import train_test_split\n",
        "\n",
        "# Extract Response and Predictors\n",
        "y = pd.DataFrame(songData_top3['popularity_categorical'])\n",
        "X = pd.DataFrame(songData_top3.drop(['popularity_categorical','popularity'], axis = 1))\n",
        "\n",
        "# Split the Dataset into Train and Test\n",
        "X_train, X_test, y_train, y_test = train_test_split(X, y, test_size = 0.2, random_state=88)"
      ],
      "metadata": {
        "id": "Ik7RXfujdQ3W"
      },
      "execution_count": null,
      "outputs": []
    },
    {
      "cell_type": "code",
      "source": [
        "# Import RandomForestClassifier model from Scikit-Learn\n",
        "from sklearn.ensemble import RandomForestClassifier\n",
        "\n",
        "# Create the Random Forest object\n",
        "rforest = RandomForestClassifier(n_estimators = 600,  # n_estimators denote number of trees\n",
        "                                 max_depth = 7)       # set the maximum depth of each tree\n",
        "\n",
        "# Fit Random Forest on Train Data\n",
        "rforest.fit(X_train, y_train.popularity_categorical.ravel())"
      ],
      "metadata": {
        "colab": {
          "base_uri": "https://localhost:8080/"
        },
        "id": "gRF0NIBSa2Rp",
        "outputId": "0bcc58b9-341a-42e5-b25f-d32ca275706b"
      },
      "execution_count": null,
      "outputs": [
        {
          "output_type": "execute_result",
          "data": {
            "text/plain": [
              "RandomForestClassifier(max_depth=7, n_estimators=600)"
            ]
          },
          "metadata": {},
          "execution_count": 56
        }
      ]
    },
    {
      "cell_type": "code",
      "source": [
        "# Import confusion_matrix from Scikit-Learn\n",
        "from sklearn.metrics import confusion_matrix\n",
        "\n",
        "# Predict the Response corresponding to Predictors\n",
        "y_train_pred = rforest.predict(X_train)\n",
        "\n",
        "# Print the Classification Accuracy\n",
        "print(\"Train Data\")\n",
        "print(\"Accuracy  :\\t\", rforest.score(X_train, y_train))\n",
        "print()\n",
        "\n",
        "# Print the Accuracy Measures from the Confusion Matrix\n",
        "cmTrain = confusion_matrix(y_train, y_train_pred)\n",
        "tpTrain = cmTrain[1][1] # True Positives : Good (1) predicted Good (1)\n",
        "fpTrain = cmTrain[0][1] # False Positives : Bad (0) predicted Good (1)\n",
        "tnTrain = cmTrain[0][0] # True Negatives : Bad (0) predicted Bad (0)\n",
        "fnTrain = cmTrain[1][0] # False Negatives : Good (1) predicted Bad (0)\n",
        "\n",
        "print(\"TPR Train :\\t\", (tpTrain/(tpTrain + fnTrain)))\n",
        "print(\"TNR Train :\\t\", (tnTrain/(tnTrain + fpTrain)))\n",
        "print()\n",
        "\n",
        "print(\"FPR Train :\\t\", (fpTrain/(tnTrain + fpTrain)))\n",
        "print(\"FNR Train :\\t\", (fnTrain/(tpTrain + fnTrain)))\n",
        "\n",
        "# Plot the two-way Confusion Matrix\n",
        "sb.heatmap(confusion_matrix(y_train, y_train_pred), \n",
        "           annot = True, fmt=\".0f\", annot_kws={\"size\": 18})"
      ],
      "metadata": {
        "colab": {
          "base_uri": "https://localhost:8080/",
          "height": 423
        },
        "id": "u-7bm3-dd-_G",
        "outputId": "29ec2140-b6ba-48c0-bb1f-a3405eb8302f"
      },
      "execution_count": null,
      "outputs": [
        {
          "output_type": "stream",
          "name": "stdout",
          "text": [
            "Train Data\n",
            "Accuracy  :\t 0.9272727272727272\n",
            "\n",
            "TPR Train :\t 0.9623824451410659\n",
            "TNR Train :\t 0.8787878787878788\n",
            "\n",
            "FPR Train :\t 0.12121212121212122\n",
            "FNR Train :\t 0.03761755485893417\n"
          ]
        },
        {
          "output_type": "execute_result",
          "data": {
            "text/plain": [
              "<matplotlib.axes._subplots.AxesSubplot at 0x7fa8a6e69fd0>"
            ]
          },
          "metadata": {},
          "execution_count": 57
        },
        {
          "output_type": "display_data",
          "data": {
            "text/plain": [
              "<Figure size 432x288 with 2 Axes>"
            ],
            "image/png": "[encoded data removed]"
          },
          "metadata": {}
        }
      ]
    },
    {
      "cell_type": "code",
      "source": [
        "# Import the required metric from sklearn\n",
        "from sklearn.metrics import confusion_matrix\n",
        "\n",
        "# Predict the Response corresponding to Predictors\n",
        "y_test_pred = rforest.predict(X_test)\n",
        "\n",
        "# Print the Classification Accuracy\n",
        "print(\"Test Data\")\n",
        "print(\"Accuracy  :\\t\", rforest.score(X_test, y_test))\n",
        "print()\n",
        "\n",
        "# Print the Accuracy Measures from the Confusion Matrix\n",
        "cmTest = confusion_matrix(y_test, y_test_pred)\n",
        "tpTest = cmTest[1][1] # True Positives : Good (1) predicted Good (1)\n",
        "fpTest = cmTest[0][1] # False Positives : Bad (0) predicted Good (1)\n",
        "tnTest = cmTest[0][0] # True Negatives : Bad (0) predicted Bad (0)\n",
        "fnTest = cmTest[1][0] # False Negatives : Good (1) predicted Bad (0)\n",
        "\n",
        "print(\"TPR Test :\\t\", (tpTest/(tpTest + fnTest)))\n",
        "print(\"TNR Test :\\t\", (tnTest/(tnTest + fpTest)))\n",
        "print()\n",
        "\n",
        "print(\"FPR Test :\\t\", (fpTest/(fpTest + tnTest)))\n",
        "print(\"FNR Test :\\t\", (fnTest/(fnTest + tpTest)))\n",
        "\n",
        "# Plot the two-way Confusion Matrix\n",
        "sb.heatmap(confusion_matrix(y_test, y_test_pred), \n",
        "           annot = True, fmt=\".0f\", annot_kws={\"size\": 18})"
      ],
      "metadata": {
        "colab": {
          "base_uri": "https://localhost:8080/",
          "height": 423
        },
        "id": "cTcTAEx-eA_Z",
        "outputId": "9ecb7fb4-caa2-4a29-ff0d-32af046545c6"
      },
      "execution_count": null,
      "outputs": [
        {
          "output_type": "stream",
          "name": "stdout",
          "text": [
            "Test Data\n",
            "Accuracy  :\t 0.5869565217391305\n",
            "\n",
            "TPR Test :\t 0.7162162162162162\n",
            "TNR Test :\t 0.4375\n",
            "\n",
            "FPR Test :\t 0.5625\n",
            "FNR Test :\t 0.28378378378378377\n"
          ]
        },
        {
          "output_type": "execute_result",
          "data": {
            "text/plain": [
              "<matplotlib.axes._subplots.AxesSubplot at 0x7fa8a725a590>"
            ]
          },
          "metadata": {},
          "execution_count": 58
        },
        {
          "output_type": "display_data",
          "data": {
            "text/plain": [
              "<Figure size 432x288 with 2 Axes>"
            ],
            "image/png": "[encoded data removed]"
          },
          "metadata": {}
        }
      ]
    },
    {
      "cell_type": "markdown",
      "source": [
        "The result is similar to the optimal hyper-parameter forest. We can see that even if we drop some of the attributes, it didnt really affect our prediction. This could possibly tell us that our data are not strong enough to determine the connection between popularity and the different attributes, and the result is dominated by some of the few 'important' attributes only."
      ],
      "metadata": {
        "id": "EmTD-GWcLsrX"
      }
    },
    {
      "cell_type": "code",
      "source": [
        ""
      ],
      "metadata": {
        "id": "BCMTRZlWnxXv"
      },
      "execution_count": null,
      "outputs": []
    }
  ]
}